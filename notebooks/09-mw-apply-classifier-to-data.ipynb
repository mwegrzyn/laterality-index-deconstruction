{
 "cells": [
  {
   "cell_type": "markdown",
   "metadata": {},
   "source": [
    "# Make predictions  \n",
    "\n",
    "This script uses the classifiers with the highest accuracy to get the LIs and predictions for all cases"
   ]
  },
  {
   "cell_type": "markdown",
   "metadata": {},
   "source": [
    "### import modules"
   ]
  },
  {
   "cell_type": "code",
   "execution_count": 1,
   "metadata": {
    "collapsed": true,
    "tags": [
     "hide-cell"
    ]
   },
   "outputs": [],
   "source": [
    "%matplotlib inline"
   ]
  },
  {
   "cell_type": "code",
   "execution_count": 2,
   "metadata": {
    "collapsed": true
   },
   "outputs": [],
   "source": [
    "import os\n",
    "import fnmatch\n",
    "\n",
    "import numpy as np\n",
    "import pandas as pd\n",
    "from scipy import stats\n",
    "\n",
    "import matplotlib.pylab as plt\n",
    "import seaborn as sns\n",
    "\n",
    "from sklearn.svm import SVC\n",
    "from sklearn import preprocessing, model_selection, metrics\n",
    "from nilearn import plotting\n",
    "\n",
    "import pickle"
   ]
  },
  {
   "cell_type": "markdown",
   "metadata": {},
   "source": [
    "### get absolute directory of project"
   ]
  },
  {
   "cell_type": "code",
   "execution_count": 3,
   "metadata": {},
   "outputs": [
    {
     "data": {
      "text/plain": [
       "'/data/martin/language_lat'"
      ]
     },
     "execution_count": 3,
     "metadata": {},
     "output_type": "execute_result"
    }
   ],
   "source": [
    "# after converstion to .py, we can use __file__ to get the module folder\n",
    "try:\n",
    "    thisDir = os.path.realpath(__file__)\n",
    "# in notebook form, we take the current working directory (we need to be in 'notebooks/' for this!)\n",
    "except:\n",
    "    thisDir = '.'\n",
    "# convert relative path into absolute path, so this will work with notebooks and py modules\n",
    "supDir = os.path.abspath(os.path.join(os.path.dirname(thisDir), '..'))\n",
    "\n",
    "supDir"
   ]
  },
  {
   "cell_type": "code",
   "execution_count": 4,
   "metadata": {
    "collapsed": true
   },
   "outputs": [],
   "source": [
    "sns.set_style('white')\n",
    "sns.set_context('poster')"
   ]
  },
  {
   "cell_type": "markdown",
   "metadata": {},
   "source": [
    "### load labeler"
   ]
  },
  {
   "cell_type": "code",
   "execution_count": 5,
   "metadata": {
    "collapsed": true
   },
   "outputs": [],
   "source": [
    "myLabeler = pickle.load(open('%s/models/myLabeler.p' % supDir, 'rb'))"
   ]
  },
  {
   "cell_type": "code",
   "execution_count": 6,
   "metadata": {
    "tags": [
     "hide-cell"
    ]
   },
   "outputs": [
    {
     "data": {
      "text/plain": [
       "array(['bilateral', 'inconclusive', 'left', 'right'], dtype=object)"
      ]
     },
     "execution_count": 6,
     "metadata": {},
     "output_type": "execute_result"
    }
   ],
   "source": [
    "myLabeler.classes_"
   ]
  },
  {
   "cell_type": "markdown",
   "metadata": {},
   "source": [
    "### collect the parameters that allow for above-chance prediction"
   ]
  },
  {
   "cell_type": "code",
   "execution_count": 7,
   "metadata": {
    "collapsed": true
   },
   "outputs": [],
   "source": [
    "aboveDf = pd.read_csv('%s/models/aboveDf_clf_1d_drop.csv' % supDir,index_col=[0,1])"
   ]
  },
  {
   "cell_type": "code",
   "execution_count": 8,
   "metadata": {
    "tags": [
     "hide-cell"
    ]
   },
   "outputs": [
    {
     "data": {
      "text/html": [
       "<div>\n",
       "<style>\n",
       "    .dataframe thead tr:only-child th {\n",
       "        text-align: right;\n",
       "    }\n",
       "\n",
       "    .dataframe thead th {\n",
       "        text-align: left;\n",
       "    }\n",
       "\n",
       "    .dataframe tbody tr th {\n",
       "        vertical-align: top;\n",
       "    }\n",
       "</style>\n",
       "<table border=\"1\" class=\"dataframe\">\n",
       "  <thead>\n",
       "    <tr>\n",
       "      <th></th>\n",
       "      <th colspan=\"10\" halign=\"left\">0</th>\n",
       "      <th>...</th>\n",
       "      <th colspan=\"10\" halign=\"left\">95</th>\n",
       "    </tr>\n",
       "    <tr>\n",
       "      <th>Unnamed: 1</th>\n",
       "      <th>1.0</th>\n",
       "      <th>1.2</th>\n",
       "      <th>1.4</th>\n",
       "      <th>1.6</th>\n",
       "      <th>1.8</th>\n",
       "      <th>2.0</th>\n",
       "      <th>2.2</th>\n",
       "      <th>2.4</th>\n",
       "      <th>2.6</th>\n",
       "      <th>2.8</th>\n",
       "      <th>...</th>\n",
       "      <th>3.8</th>\n",
       "      <th>4.0</th>\n",
       "      <th>4.2</th>\n",
       "      <th>4.4</th>\n",
       "      <th>4.6</th>\n",
       "      <th>4.8</th>\n",
       "      <th>5.0</th>\n",
       "      <th>5.2</th>\n",
       "      <th>5.4</th>\n",
       "      <th>5.6</th>\n",
       "    </tr>\n",
       "  </thead>\n",
       "  <tbody>\n",
       "    <tr>\n",
       "      <th>0</th>\n",
       "      <td>0.869259</td>\n",
       "      <td>0.876991</td>\n",
       "      <td>0.883981</td>\n",
       "      <td>0.88787</td>\n",
       "      <td>0.892731</td>\n",
       "      <td>0.895093</td>\n",
       "      <td>0.89875</td>\n",
       "      <td>0.901944</td>\n",
       "      <td>0.904259</td>\n",
       "      <td>0.905463</td>\n",
       "      <td>...</td>\n",
       "      <td>0.898704</td>\n",
       "      <td>0.896296</td>\n",
       "      <td>0.895139</td>\n",
       "      <td>0.895185</td>\n",
       "      <td>0.891806</td>\n",
       "      <td>0.889167</td>\n",
       "      <td>0.878102</td>\n",
       "      <td>0.881296</td>\n",
       "      <td>0.874491</td>\n",
       "      <td>0.876019</td>\n",
       "    </tr>\n",
       "  </tbody>\n",
       "</table>\n",
       "<p>1 rows × 608 columns</p>\n",
       "</div>"
      ],
      "text/plain": [
       "                  0                                                    \\\n",
       "Unnamed: 1       1.0       1.2       1.4      1.6       1.8       2.0   \n",
       "0           0.869259  0.876991  0.883981  0.88787  0.892731  0.895093   \n",
       "\n",
       "                                                     ...           95  \\\n",
       "Unnamed: 1      2.2       2.4       2.6       2.8    ...          3.8   \n",
       "0           0.89875  0.901944  0.904259  0.905463    ...     0.898704   \n",
       "\n",
       "                                                                        \\\n",
       "Unnamed: 1       4.0       4.2       4.4       4.6       4.8       5.0   \n",
       "0           0.896296  0.895139  0.895185  0.891806  0.889167  0.878102   \n",
       "\n",
       "                                          \n",
       "Unnamed: 1       5.2       5.4       5.6  \n",
       "0           0.881296  0.874491  0.876019  \n",
       "\n",
       "[1 rows x 608 columns]"
      ]
     },
     "execution_count": 8,
     "metadata": {},
     "output_type": "execute_result"
    }
   ],
   "source": [
    "aboveDf.T"
   ]
  },
  {
   "cell_type": "code",
   "execution_count": 9,
   "metadata": {
    "collapsed": true
   },
   "outputs": [],
   "source": [
    "clfDict = pickle.load(open('%s/models/clf_1d_drop.p' % supDir))"
   ]
  },
  {
   "cell_type": "code",
   "execution_count": 14,
   "metadata": {
    "scrolled": false,
    "tags": [
     "hide-cell"
    ]
   },
   "outputs": [
    {
     "data": {
      "text/plain": [
       "{'clf': SVC(C=1.0, cache_size=200, class_weight=None, coef0=0.0,\n",
       "   decision_function_shape=None, degree=3, gamma='auto', kernel='linear',\n",
       "   max_iter=-1, probability=True, random_state=0, shrinking=True, tol=0.001,\n",
       "   verbose=False),\n",
       " 'scaler': StandardScaler(copy=True, with_mean=True, with_std=True)}"
      ]
     },
     "execution_count": 14,
     "metadata": {},
     "output_type": "execute_result"
    }
   ],
   "source": [
    "clfDict[95][3-0]"
   ]
  },
  {
   "cell_type": "markdown",
   "metadata": {},
   "source": [
    "### predictions for one value and one parameter set"
   ]
  },
  {
   "cell_type": "code",
   "execution_count": 15,
   "metadata": {
    "collapsed": true
   },
   "outputs": [],
   "source": [
    "def makePred(x, roiPc, tThresh, clfDict, myLabeler=myLabeler):\n",
    "\n",
    "    thisClf = clfDict[roiPc][tThresh]['clf']\n",
    "    thisScaler = clfDict[roiPc][tThresh]['scaler']\n",
    "\n",
    "    xArr = np.array(x)\n",
    "    xScaled = thisScaler.transform(xArr.reshape(1, -1 * xArr.shape[-1]))\n",
    "\n",
    "    y_pred = thisClf.predict_proba(xScaled)\n",
    "\n",
    "    df = pd.DataFrame(y_pred).T\n",
    "    idx = [myLabeler.inverse_transform([x])[-1] for x in thisClf.classes_]\n",
    "    df.index = idx\n",
    "\n",
    "    return df"
   ]
  },
  {
   "cell_type": "markdown",
   "metadata": {},
   "source": [
    "Example:"
   ]
  },
  {
   "cell_type": "code",
   "execution_count": 16,
   "metadata": {
    "collapsed": true,
    "tags": [
     "hide-cell"
    ]
   },
   "outputs": [],
   "source": [
    "thesePreds = makePred([0.0], 0, 3, clfDict)"
   ]
  },
  {
   "cell_type": "code",
   "execution_count": 17,
   "metadata": {
    "tags": [
     "hide-cell"
    ]
   },
   "outputs": [
    {
     "data": {
      "text/html": [
       "<div>\n",
       "<style>\n",
       "    .dataframe thead tr:only-child th {\n",
       "        text-align: right;\n",
       "    }\n",
       "\n",
       "    .dataframe thead th {\n",
       "        text-align: left;\n",
       "    }\n",
       "\n",
       "    .dataframe tbody tr th {\n",
       "        vertical-align: top;\n",
       "    }\n",
       "</style>\n",
       "<table border=\"1\" class=\"dataframe\">\n",
       "  <thead>\n",
       "    <tr style=\"text-align: right;\">\n",
       "      <th></th>\n",
       "      <th>0</th>\n",
       "    </tr>\n",
       "  </thead>\n",
       "  <tbody>\n",
       "    <tr>\n",
       "      <th>bilateral</th>\n",
       "      <td>0.678082</td>\n",
       "    </tr>\n",
       "    <tr>\n",
       "      <th>left</th>\n",
       "      <td>0.173603</td>\n",
       "    </tr>\n",
       "    <tr>\n",
       "      <th>right</th>\n",
       "      <td>0.148315</td>\n",
       "    </tr>\n",
       "  </tbody>\n",
       "</table>\n",
       "</div>"
      ],
      "text/plain": [
       "                  0\n",
       "bilateral  0.678082\n",
       "left       0.173603\n",
       "right      0.148315"
      ]
     },
     "execution_count": 17,
     "metadata": {},
     "output_type": "execute_result"
    }
   ],
   "source": [
    "thesePreds"
   ]
  },
  {
   "cell_type": "markdown",
   "metadata": {},
   "source": [
    "### predictions for one patient, for all above-chance parameters"
   ]
  },
  {
   "cell_type": "code",
   "execution_count": 18,
   "metadata": {
    "collapsed": true
   },
   "outputs": [],
   "source": [
    "def changeDf(df):\n",
    "\n",
    "    idx1 = df.columns.get_level_values(0).astype(float)\n",
    "    idx2 = df.columns.get_level_values(1)\n",
    "\n",
    "    mIdx = pd.MultiIndex.from_arrays([idx2, idx1])\n",
    "\n",
    "    df.columns = mIdx\n",
    "    df.sort_index(axis=1,inplace=True)\n",
    "\n",
    "    return df"
   ]
  },
  {
   "cell_type": "markdown",
   "metadata": {},
   "source": [
    "Example Patient:"
   ]
  },
  {
   "cell_type": "code",
   "execution_count": 19,
   "metadata": {
    "collapsed": true,
    "tags": [
     "hide-cell"
    ]
   },
   "outputs": [],
   "source": [
    "pCsv = '%s/data/interim/csv/roiLaterality_pat0399_b.csv' % supDir"
   ]
  },
  {
   "cell_type": "code",
   "execution_count": 20,
   "metadata": {
    "tags": [
     "hide-cell"
    ]
   },
   "outputs": [
    {
     "data": {
      "text/plain": [
       "'pat_0399_b'"
      ]
     },
     "execution_count": 20,
     "metadata": {},
     "output_type": "execute_result"
    }
   ],
   "source": [
    "pName = 'pat_%s' % (pCsv.split('_pat')[-1].split('.')[0])\n",
    "pName"
   ]
  },
  {
   "cell_type": "code",
   "execution_count": 21,
   "metadata": {
    "collapsed": true,
    "scrolled": true,
    "tags": [
     "hide-cell"
    ]
   },
   "outputs": [],
   "source": [
    "pDf = pd.read_csv(pCsv, index_col=[0], header=[0, 1])\n",
    "pDf = changeDf(pDf)"
   ]
  },
  {
   "cell_type": "code",
   "execution_count": 22,
   "metadata": {
    "tags": [
     "hide-cell"
    ]
   },
   "outputs": [
    {
     "data": {
      "text/html": [
       "<div>\n",
       "<style>\n",
       "    .dataframe thead tr:only-child th {\n",
       "        text-align: right;\n",
       "    }\n",
       "\n",
       "    .dataframe thead th {\n",
       "        text-align: left;\n",
       "    }\n",
       "\n",
       "    .dataframe tbody tr th {\n",
       "        vertical-align: top;\n",
       "    }\n",
       "</style>\n",
       "<table border=\"1\" class=\"dataframe\">\n",
       "  <thead>\n",
       "    <tr>\n",
       "      <th></th>\n",
       "      <th colspan=\"10\" halign=\"left\">L+R</th>\n",
       "      <th>...</th>\n",
       "      <th colspan=\"10\" halign=\"left\">LI</th>\n",
       "    </tr>\n",
       "    <tr>\n",
       "      <th></th>\n",
       "      <th>-10.0</th>\n",
       "      <th>-9.9</th>\n",
       "      <th>-9.8</th>\n",
       "      <th>-9.7</th>\n",
       "      <th>-9.6</th>\n",
       "      <th>-9.5</th>\n",
       "      <th>-9.4</th>\n",
       "      <th>-9.3</th>\n",
       "      <th>-9.2</th>\n",
       "      <th>-9.1</th>\n",
       "      <th>...</th>\n",
       "      <th>19.0</th>\n",
       "      <th>19.1</th>\n",
       "      <th>19.2</th>\n",
       "      <th>19.3</th>\n",
       "      <th>19.4</th>\n",
       "      <th>19.5</th>\n",
       "      <th>19.6</th>\n",
       "      <th>19.7</th>\n",
       "      <th>19.8</th>\n",
       "      <th>19.9</th>\n",
       "    </tr>\n",
       "  </thead>\n",
       "  <tbody>\n",
       "    <tr>\n",
       "      <th>75</th>\n",
       "      <td>1.997967</td>\n",
       "      <td>1.997629</td>\n",
       "      <td>1.997241</td>\n",
       "      <td>1.996757</td>\n",
       "      <td>1.996564</td>\n",
       "      <td>1.995886</td>\n",
       "      <td>1.995256</td>\n",
       "      <td>1.994966</td>\n",
       "      <td>1.994627</td>\n",
       "      <td>1.994240</td>\n",
       "      <td>...</td>\n",
       "      <td>NaN</td>\n",
       "      <td>NaN</td>\n",
       "      <td>NaN</td>\n",
       "      <td>NaN</td>\n",
       "      <td>NaN</td>\n",
       "      <td>NaN</td>\n",
       "      <td>NaN</td>\n",
       "      <td>NaN</td>\n",
       "      <td>NaN</td>\n",
       "      <td>NaN</td>\n",
       "    </tr>\n",
       "    <tr>\n",
       "      <th>80</th>\n",
       "      <td>1.998431</td>\n",
       "      <td>1.998189</td>\n",
       "      <td>1.998008</td>\n",
       "      <td>1.997646</td>\n",
       "      <td>1.997464</td>\n",
       "      <td>1.996920</td>\n",
       "      <td>1.996498</td>\n",
       "      <td>1.996256</td>\n",
       "      <td>1.996075</td>\n",
       "      <td>1.995712</td>\n",
       "      <td>...</td>\n",
       "      <td>NaN</td>\n",
       "      <td>NaN</td>\n",
       "      <td>NaN</td>\n",
       "      <td>NaN</td>\n",
       "      <td>NaN</td>\n",
       "      <td>NaN</td>\n",
       "      <td>NaN</td>\n",
       "      <td>NaN</td>\n",
       "      <td>NaN</td>\n",
       "      <td>NaN</td>\n",
       "    </tr>\n",
       "    <tr>\n",
       "      <th>85</th>\n",
       "      <td>1.999438</td>\n",
       "      <td>1.999277</td>\n",
       "      <td>1.999277</td>\n",
       "      <td>1.999035</td>\n",
       "      <td>1.998955</td>\n",
       "      <td>1.998471</td>\n",
       "      <td>1.998069</td>\n",
       "      <td>1.997908</td>\n",
       "      <td>1.997828</td>\n",
       "      <td>1.997586</td>\n",
       "      <td>...</td>\n",
       "      <td>NaN</td>\n",
       "      <td>NaN</td>\n",
       "      <td>NaN</td>\n",
       "      <td>NaN</td>\n",
       "      <td>NaN</td>\n",
       "      <td>NaN</td>\n",
       "      <td>NaN</td>\n",
       "      <td>NaN</td>\n",
       "      <td>NaN</td>\n",
       "      <td>NaN</td>\n",
       "    </tr>\n",
       "    <tr>\n",
       "      <th>90</th>\n",
       "      <td>2.000000</td>\n",
       "      <td>2.000000</td>\n",
       "      <td>2.000000</td>\n",
       "      <td>1.999879</td>\n",
       "      <td>1.999879</td>\n",
       "      <td>1.999516</td>\n",
       "      <td>1.999395</td>\n",
       "      <td>1.999395</td>\n",
       "      <td>1.999395</td>\n",
       "      <td>1.999274</td>\n",
       "      <td>...</td>\n",
       "      <td>NaN</td>\n",
       "      <td>NaN</td>\n",
       "      <td>NaN</td>\n",
       "      <td>NaN</td>\n",
       "      <td>NaN</td>\n",
       "      <td>NaN</td>\n",
       "      <td>NaN</td>\n",
       "      <td>NaN</td>\n",
       "      <td>NaN</td>\n",
       "      <td>NaN</td>\n",
       "    </tr>\n",
       "    <tr>\n",
       "      <th>95</th>\n",
       "      <td>2.000000</td>\n",
       "      <td>2.000000</td>\n",
       "      <td>2.000000</td>\n",
       "      <td>2.000000</td>\n",
       "      <td>2.000000</td>\n",
       "      <td>1.999516</td>\n",
       "      <td>1.999274</td>\n",
       "      <td>1.999274</td>\n",
       "      <td>1.999274</td>\n",
       "      <td>1.999032</td>\n",
       "      <td>...</td>\n",
       "      <td>NaN</td>\n",
       "      <td>NaN</td>\n",
       "      <td>NaN</td>\n",
       "      <td>NaN</td>\n",
       "      <td>NaN</td>\n",
       "      <td>NaN</td>\n",
       "      <td>NaN</td>\n",
       "      <td>NaN</td>\n",
       "      <td>NaN</td>\n",
       "      <td>NaN</td>\n",
       "    </tr>\n",
       "  </tbody>\n",
       "</table>\n",
       "<p>5 rows × 900 columns</p>\n",
       "</div>"
      ],
      "text/plain": [
       "         L+R                                                              \\\n",
       "       -10.0     -9.9      -9.8      -9.7      -9.6      -9.5      -9.4    \n",
       "75  1.997967  1.997629  1.997241  1.996757  1.996564  1.995886  1.995256   \n",
       "80  1.998431  1.998189  1.998008  1.997646  1.997464  1.996920  1.996498   \n",
       "85  1.999438  1.999277  1.999277  1.999035  1.998955  1.998471  1.998069   \n",
       "90  2.000000  2.000000  2.000000  1.999879  1.999879  1.999516  1.999395   \n",
       "95  2.000000  2.000000  2.000000  2.000000  2.000000  1.999516  1.999274   \n",
       "\n",
       "                                  ...     LI                                \\\n",
       "       -9.3      -9.2      -9.1   ...   19.0  19.1  19.2  19.3  19.4  19.5   \n",
       "75  1.994966  1.994627  1.994240  ...    NaN   NaN   NaN   NaN   NaN   NaN   \n",
       "80  1.996256  1.996075  1.995712  ...    NaN   NaN   NaN   NaN   NaN   NaN   \n",
       "85  1.997908  1.997828  1.997586  ...    NaN   NaN   NaN   NaN   NaN   NaN   \n",
       "90  1.999395  1.999395  1.999274  ...    NaN   NaN   NaN   NaN   NaN   NaN   \n",
       "95  1.999274  1.999274  1.999032  ...    NaN   NaN   NaN   NaN   NaN   NaN   \n",
       "\n",
       "                            \n",
       "    19.6  19.7  19.8  19.9  \n",
       "75   NaN   NaN   NaN   NaN  \n",
       "80   NaN   NaN   NaN   NaN  \n",
       "85   NaN   NaN   NaN   NaN  \n",
       "90   NaN   NaN   NaN   NaN  \n",
       "95   NaN   NaN   NaN   NaN  \n",
       "\n",
       "[5 rows x 900 columns]"
      ]
     },
     "execution_count": 22,
     "metadata": {},
     "output_type": "execute_result"
    }
   ],
   "source": [
    "pDf.tail()"
   ]
  },
  {
   "cell_type": "code",
   "execution_count": 23,
   "metadata": {
    "collapsed": true
   },
   "outputs": [],
   "source": [
    "def getP(pDf, pName, roiSize, thresh, dims, myLabeler=myLabeler):\n",
    "\n",
    "    if dims == 1:\n",
    "        liValue = pDf.loc[roiSize, 'LI'].loc[thresh]\n",
    "        thisDf = pd.DataFrame([liValue], index=[pName], columns=['LI'])\n",
    "\n",
    "    elif dims == 2:\n",
    "        diffValue = pDf.loc[roiSize, 'L-R'].loc[thresh]\n",
    "        diffDf = pd.DataFrame([diffValue], index=[pName], columns=['L-R'])\n",
    "\n",
    "        addValue = pDf.loc[roiSize, 'L+R'].loc[thresh]\n",
    "        addDf = pd.DataFrame([addValue], index=[pName], columns=['L+R'])\n",
    "\n",
    "        thisDf = pd.concat([diffDf, addDf], axis=1)\n",
    "\n",
    "    return thisDf"
   ]
  },
  {
   "cell_type": "code",
   "execution_count": null,
   "metadata": {
    "tags": [
     "hide-cell"
    ]
   },
   "outputs": [],
   "source": [
    "getP(pDf, pName, roiSize=50, thresh=5.8, dims=1)"
   ]
  },
  {
   "cell_type": "code",
   "execution_count": 25,
   "metadata": {
    "collapsed": true
   },
   "outputs": [],
   "source": [
    "def makeBestPreds(pCsv, aboveDf, clfDict, dims):\n",
    "\n",
    "    pName = 'pat_%s' % (pCsv.split('_pat')[-1].split('.')[0])\n",
    "    pDf = pd.read_csv(pCsv, index_col=[0], header=[0, 1])\n",
    "    pDf = changeDf(pDf)\n",
    "    \n",
    "    valueDict = {}\n",
    "    predDf = pd.DataFrame()\n",
    "\n",
    "    # here we loop through the aboveDf, which has in its index\n",
    "    # all parameters that we want\n",
    "\n",
    "    # get the table with the roi size\n",
    "    for pc in aboveDf.index.levels[0]:\n",
    "        # get the data for the threshold\n",
    "        for t in aboveDf.loc[pc].index:\n",
    "\n",
    "            thisParam = getP(pDf, pName, pc, t, dims)\n",
    "\n",
    "            # store the value\n",
    "            thisVals = list(thisParam.loc[pName])\n",
    "            valueDict[str(pc) + '_' + str(t)] = thisVals\n",
    "\n",
    "            # make predictions, these are like df's\n",
    "            try:\n",
    "                thisPred = makePred(thisVals, pc, t, clfDict)\n",
    "            except:\n",
    "                thisPred = pd.DataFrame({\n",
    "                    'bilateral': 0,\n",
    "                    'left': 0,\n",
    "                    'right': 0,\n",
    "                    'inconclusive': 1\n",
    "                },\n",
    "                                        index=[0]).T\n",
    "            #store predictions\n",
    "            thisPred = thisPred.T\n",
    "            thisPred.index = [str(pc) + '_' + str(t)]\n",
    "            predDf = pd.concat([predDf, thisPred])\n",
    "\n",
    "    if dims == 1:\n",
    "        valueDf = pd.DataFrame(valueDict, index=['LI']).T\n",
    "    elif dims == 2:\n",
    "        valueDf = pd.DataFrame(valueDict, index=['L-R', 'L+R']).T\n",
    "\n",
    "    # average\n",
    "    \n",
    "    meanValueDf = pd.DataFrame(valueDf.mean())\n",
    "    meanPredDf = pd.DataFrame(predDf.mean())\n",
    "    \n",
    "    meanDf = pd.concat([meanValueDf,meanPredDf]).T\n",
    "    meanDf.index = [pName]\n",
    "\n",
    "    return valueDf, predDf, meanDf"
   ]
  },
  {
   "cell_type": "markdown",
   "metadata": {},
   "source": [
    "Example:"
   ]
  },
  {
   "cell_type": "code",
   "execution_count": 26,
   "metadata": {
    "collapsed": true,
    "scrolled": true,
    "tags": [
     "hide-cell"
    ]
   },
   "outputs": [],
   "source": [
    "valueDf, predDf, meanDf = makeBestPreds(pCsv, aboveDf, clfDict, dims=1)"
   ]
  },
  {
   "cell_type": "code",
   "execution_count": null,
   "metadata": {
    "tags": [
     "hide-cell"
    ]
   },
   "outputs": [],
   "source": [
    "meanDf"
   ]
  },
  {
   "cell_type": "code",
   "execution_count": 28,
   "metadata": {
    "collapsed": true,
    "tags": [
     "hide-cell"
    ]
   },
   "outputs": [],
   "source": [
    "fuDf = predDf.copy()\n",
    "fuDf.index = pd.MultiIndex.from_tuples(list([x.split('_') for x in fuDf.index]))"
   ]
  },
  {
   "cell_type": "code",
   "execution_count": 29,
   "metadata": {
    "collapsed": true
   },
   "outputs": [],
   "source": [
    "def changeIdx(df):\n",
    "\n",
    "    idx1 = df.index.get_level_values(0).astype(int)\n",
    "    idx2 = df.index.get_level_values(1).astype(float)\n",
    "\n",
    "    mIdx = pd.MultiIndex.from_arrays([idx2, idx1])\n",
    "\n",
    "    df.index = mIdx\n",
    "    df.sort_index(axis=0,inplace=True)\n",
    "\n",
    "    return df"
   ]
  },
  {
   "cell_type": "code",
   "execution_count": 30,
   "metadata": {
    "collapsed": true,
    "tags": [
     "hide-cell"
    ]
   },
   "outputs": [],
   "source": [
    "fuDf = changeIdx(fuDf)"
   ]
  },
  {
   "cell_type": "code",
   "execution_count": 31,
   "metadata": {
    "tags": [
     "hide-cell"
    ]
   },
   "outputs": [
    {
     "data": {
      "image/png": "[encoded data removed]",
      "text/plain": [
       "<matplotlib.figure.Figure at 0x7f1744106850>"
      ]
     },
     "metadata": {},
     "output_type": "display_data"
    }
   ],
   "source": [
    "fig = plt.figure(figsize=(16,6))\n",
    "for i,c in enumerate(fuDf.columns):\n",
    "    ax = plt.subplot(1,fuDf.columns.shape[-1],i+1)\n",
    "    thisDf = fuDf.loc[:,[c]].unstack()[c].T\n",
    "    sns.heatmap(thisDf,cmap='rainbow',vmin=0,vmax=1,axes=ax)\n",
    "    ax.set_title(c)\n",
    "plt.tight_layout()\n",
    "plt.show()"
   ]
  },
  {
   "cell_type": "code",
   "execution_count": 32,
   "metadata": {
    "collapsed": true
   },
   "outputs": [],
   "source": [
    "def makeAllComputations(pCsv, dims, drop, sigLevel=0.001):\n",
    "\n",
    "    dropStr = ['full', 'drop'][drop]\n",
    "    dimStr = ['1d', '2d'][dims - 1]\n",
    "\n",
    "    # load the classifier\n",
    "    clfDict = pickle.load(\n",
    "        open('%s/models/clf_%s_%s.p' % (supDir, dimStr, dropStr), 'rb'))\n",
    "\n",
    "    accDict = pickle.load(\n",
    "        open('%s/models/acc_%s_%s.p' % (supDir, dimStr, dropStr), 'rb'))\n",
    "\n",
    "    aboveDf = pd.read_csv(\n",
    "        '%s/models/aboveDf_clf_%s_%s.csv' % (supDir, dimStr, dropStr),\n",
    "        index_col=[0, 1])\n",
    "\n",
    "    # compute\n",
    "    valueDf, predDf, meanDf = makeBestPreds(pCsv, aboveDf, clfDict, dims=dims)\n",
    "\n",
    "    # if we compute the 1-dimensional LI and do not want to model inconclusive cases,\n",
    "    # we still need to handle cases where division by zero occurs\n",
    "    # therefore, we compute the proportion of cases where neither of the 3 main classes was predicted\n",
    "    if dims == 1 and drop == True:\n",
    "        meanDf.loc[:,'inconclusive'] = 1 - meanDf.loc[:,['left','bilateral','right']].sum(axis=1)\n",
    "    \n",
    "    return valueDf, predDf, meanDf"
   ]
  },
  {
   "cell_type": "code",
   "execution_count": 33,
   "metadata": {
    "collapsed": true,
    "tags": [
     "hide-cell"
    ]
   },
   "outputs": [],
   "source": [
    "valueDf, predDf, meanDf = makeAllComputations(pCsv, dims=2, drop=True)"
   ]
  },
  {
   "cell_type": "code",
   "execution_count": 36,
   "metadata": {
    "tags": [
     "hide-cell"
    ]
   },
   "outputs": [
    {
     "data": {
      "text/html": [
       "<div>\n",
       "<style>\n",
       "    .dataframe thead tr:only-child th {\n",
       "        text-align: right;\n",
       "    }\n",
       "\n",
       "    .dataframe thead th {\n",
       "        text-align: left;\n",
       "    }\n",
       "\n",
       "    .dataframe tbody tr th {\n",
       "        vertical-align: top;\n",
       "    }\n",
       "</style>\n",
       "<table border=\"1\" class=\"dataframe\">\n",
       "  <thead>\n",
       "    <tr style=\"text-align: right;\">\n",
       "      <th></th>\n",
       "      <th>L-R</th>\n",
       "      <th>L+R</th>\n",
       "    </tr>\n",
       "  </thead>\n",
       "  <tbody>\n",
       "    <tr>\n",
       "      <th>95_4.6</th>\n",
       "      <td>0.138883</td>\n",
       "      <td>0.215359</td>\n",
       "    </tr>\n",
       "    <tr>\n",
       "      <th>95_4.8</th>\n",
       "      <td>0.126411</td>\n",
       "      <td>0.195627</td>\n",
       "    </tr>\n",
       "    <tr>\n",
       "      <th>95_5.0</th>\n",
       "      <td>0.115378</td>\n",
       "      <td>0.178301</td>\n",
       "    </tr>\n",
       "    <tr>\n",
       "      <th>95_5.2</th>\n",
       "      <td>0.100735</td>\n",
       "      <td>0.158818</td>\n",
       "    </tr>\n",
       "    <tr>\n",
       "      <th>95_5.4</th>\n",
       "      <td>0.093298</td>\n",
       "      <td>0.147509</td>\n",
       "    </tr>\n",
       "  </tbody>\n",
       "</table>\n",
       "</div>"
      ],
      "text/plain": [
       "             L-R       L+R\n",
       "95_4.6  0.138883  0.215359\n",
       "95_4.8  0.126411  0.195627\n",
       "95_5.0  0.115378  0.178301\n",
       "95_5.2  0.100735  0.158818\n",
       "95_5.4  0.093298  0.147509"
      ]
     },
     "execution_count": 36,
     "metadata": {},
     "output_type": "execute_result"
    }
   ],
   "source": [
    "valueDf.tail()"
   ]
  },
  {
   "cell_type": "code",
   "execution_count": 37,
   "metadata": {
    "tags": [
     "hide-cell"
    ]
   },
   "outputs": [
    {
     "data": {
      "text/html": [
       "<div>\n",
       "<style>\n",
       "    .dataframe thead tr:only-child th {\n",
       "        text-align: right;\n",
       "    }\n",
       "\n",
       "    .dataframe thead th {\n",
       "        text-align: left;\n",
       "    }\n",
       "\n",
       "    .dataframe tbody tr th {\n",
       "        vertical-align: top;\n",
       "    }\n",
       "</style>\n",
       "<table border=\"1\" class=\"dataframe\">\n",
       "  <thead>\n",
       "    <tr style=\"text-align: right;\">\n",
       "      <th></th>\n",
       "      <th>bilateral</th>\n",
       "      <th>left</th>\n",
       "      <th>right</th>\n",
       "    </tr>\n",
       "  </thead>\n",
       "  <tbody>\n",
       "    <tr>\n",
       "      <th>95_4.6</th>\n",
       "      <td>0.114872</td>\n",
       "      <td>0.873428</td>\n",
       "      <td>0.011700</td>\n",
       "    </tr>\n",
       "    <tr>\n",
       "      <th>95_4.8</th>\n",
       "      <td>0.116585</td>\n",
       "      <td>0.868716</td>\n",
       "      <td>0.014699</td>\n",
       "    </tr>\n",
       "    <tr>\n",
       "      <th>95_5.0</th>\n",
       "      <td>0.119471</td>\n",
       "      <td>0.864331</td>\n",
       "      <td>0.016198</td>\n",
       "    </tr>\n",
       "    <tr>\n",
       "      <th>95_5.2</th>\n",
       "      <td>0.135807</td>\n",
       "      <td>0.842319</td>\n",
       "      <td>0.021874</td>\n",
       "    </tr>\n",
       "    <tr>\n",
       "      <th>95_5.4</th>\n",
       "      <td>0.142134</td>\n",
       "      <td>0.833325</td>\n",
       "      <td>0.024541</td>\n",
       "    </tr>\n",
       "  </tbody>\n",
       "</table>\n",
       "</div>"
      ],
      "text/plain": [
       "        bilateral      left     right\n",
       "95_4.6   0.114872  0.873428  0.011700\n",
       "95_4.8   0.116585  0.868716  0.014699\n",
       "95_5.0   0.119471  0.864331  0.016198\n",
       "95_5.2   0.135807  0.842319  0.021874\n",
       "95_5.4   0.142134  0.833325  0.024541"
      ]
     },
     "execution_count": 37,
     "metadata": {},
     "output_type": "execute_result"
    }
   ],
   "source": [
    "predDf.tail()"
   ]
  },
  {
   "cell_type": "code",
   "execution_count": null,
   "metadata": {
    "tags": [
     "hide-cell"
    ]
   },
   "outputs": [],
   "source": [
    "meanDf"
   ]
  },
  {
   "cell_type": "markdown",
   "metadata": {},
   "source": [
    "### do all variations"
   ]
  },
  {
   "cell_type": "code",
   "execution_count": 39,
   "metadata": {
    "collapsed": true
   },
   "outputs": [],
   "source": [
    "from datetime import datetime"
   ]
  },
  {
   "cell_type": "code",
   "execution_count": 40,
   "metadata": {
    "collapsed": true,
    "tags": [
     "hide-cell"
    ]
   },
   "outputs": [],
   "source": [
    "def makeP(pCsv):\n",
    "\n",
    "    pName = 'pat%s' % (pCsv.split('_pat')[-1].split('.')[0])\n",
    "\n",
    "    bigDf = pd.DataFrame()\n",
    "\n",
    "    for myDim in [1, 2]:\n",
    "        for myDrop in [True, False]:\n",
    "\n",
    "            dimStr = ['1d', '2d'][myDim - 1]\n",
    "            dropStr = ['full', 'drop'][myDrop]\n",
    "            #print myDim, myDrop, datetime.now()\n",
    "\n",
    "            valueDf, predDf, meanDf = makeAllComputations(\n",
    "                pCsv, dims=myDim, drop=myDrop)\n",
    "\n",
    "            valueDf.to_csv('%s/data/processed/csv/values_%s_%s_%s.csv' %\n",
    "                           (supDir, pName, dimStr, dropStr))\n",
    "            predDf.to_csv('%s/data/processed/csv/predictions_%s_%s_%s.csv' %\n",
    "                          (supDir, pName, dimStr, dropStr))\n",
    "\n",
    "            meanDf.index = pd.MultiIndex.from_arrays([[dimStr], [dropStr]])\n",
    "            bigDf = pd.concat([bigDf, meanDf])\n",
    "\n",
    "    bigDf.to_csv('%s/data/processed/csv/meanTable_%s.csv' % (supDir, pName))\n",
    "\n",
    "    return bigDf"
   ]
  },
  {
   "cell_type": "code",
   "execution_count": 41,
   "metadata": {
    "collapsed": true,
    "tags": [
     "show-cell"
    ]
   },
   "outputs": [],
   "source": [
    "#def makeP(pFolder, pName):\n",
    "#\n",
    "#    pCsv = '%s/roiLaterality_%s.csv' % (pFolder, pName)\n",
    "#\n",
    "#    bigDf = pd.DataFrame()\n",
    "#\n",
    "#    for myDim in [2]:\n",
    "#        for myDrop in [False]:\n",
    "#\n",
    "#            dimStr = ['1d', '2d'][myDim - 1]\n",
    "#            dropStr = ['full', 'drop'][myDrop]\n",
    "#\n",
    "#            valueDf, predDf, meanDf = makeAllComputations(\n",
    "#                pCsv, dims=myDim, drop=myDrop)\n",
    "#\n",
    "#            valueDf.to_csv(\n",
    "#                '%s/values_%s_%s_%s.csv' % (pFolder, pName, dimStr, dropStr))\n",
    "#            predDf.to_csv('%s/predictions_%s_%s_%s.csv' % (pFolder, pName,\n",
    "#                                                           dimStr, dropStr))\n",
    "#\n",
    "#            meanDf.index = pd.MultiIndex.from_arrays([[dimStr], [dropStr]])\n",
    "#            bigDf = pd.concat([bigDf, meanDf])\n",
    "#\n",
    "#    bigDf.to_csv('%s/meanTable_%s.csv' % (pFolder, pName))\n",
    "#\n",
    "#    return bigDf"
   ]
  },
  {
   "cell_type": "code",
   "execution_count": 42,
   "metadata": {
    "collapsed": true,
    "tags": [
     "hide-cell"
    ]
   },
   "outputs": [],
   "source": [
    "meanDf = makeP(pCsv)"
   ]
  },
  {
   "cell_type": "code",
   "execution_count": null,
   "metadata": {
    "tags": [
     "hide-cell"
    ]
   },
   "outputs": [],
   "source": [
    "meanDf"
   ]
  },
  {
   "cell_type": "markdown",
   "metadata": {},
   "source": [
    "## do this for all patients"
   ]
  },
  {
   "cell_type": "markdown",
   "metadata": {},
   "source": [
    "### collect all patients"
   ]
  },
  {
   "cell_type": "code",
   "execution_count": 44,
   "metadata": {
    "tags": [
     "hide-cell"
    ]
   },
   "outputs": [
    {
     "data": {
      "text/plain": [
       "783"
      ]
     },
     "execution_count": 44,
     "metadata": {},
     "output_type": "execute_result"
    }
   ],
   "source": [
    "my_train = pickle.load(open('../models/my_nest.p', 'rb'))\n",
    "my_test = pickle.load(open('../models/my_test.p', 'rb'))\n",
    "my_all = my_train + my_test\n",
    "len(my_all)"
   ]
  },
  {
   "cell_type": "code",
   "execution_count": 45,
   "metadata": {
    "collapsed": true,
    "tags": [
     "hide-cell"
    ]
   },
   "outputs": [],
   "source": [
    "csvList = [\n",
    "    '../data/interim/csv/%s' % x for x in os.listdir('../data/interim/csv/')\n",
    "    if x.startswith('roiLaterality_pat')\n",
    "]\n",
    "csvList.sort()"
   ]
  },
  {
   "cell_type": "code",
   "execution_count": 48,
   "metadata": {
    "collapsed": true,
    "tags": [
     "hide-cell"
    ]
   },
   "outputs": [],
   "source": [
    "def makeDf(csvList,trainOrTest):\n",
    "    df = pd.DataFrame()\n",
    "    for pat in csvList:\n",
    "        for lab in trainOrTest:\n",
    "            if lab[-1] in pat:\n",
    "                thisDf = pd.DataFrame([pat], index=[[lab[0]], [lab[1]]])\n",
    "                df = pd.concat([df, thisDf])\n",
    "    df.columns = ['csv']\n",
    "\n",
    "    df.sort_index(inplace=True)\n",
    "    return df"
   ]
  },
  {
   "cell_type": "code",
   "execution_count": 49,
   "metadata": {
    "collapsed": true,
    "tags": [
     "hide-cell"
    ]
   },
   "outputs": [],
   "source": [
    "dfAll = makeDf(csvList,trainOrTest=my_all)"
   ]
  },
  {
   "cell_type": "code",
   "execution_count": 50,
   "metadata": {
    "tags": [
     "hide-cell"
    ]
   },
   "outputs": [
    {
     "data": {
      "text/plain": [
       "(783, 1)"
      ]
     },
     "execution_count": 50,
     "metadata": {},
     "output_type": "execute_result"
    }
   ],
   "source": [
    "dfAll.shape"
   ]
  },
  {
   "cell_type": "code",
   "execution_count": null,
   "metadata": {
    "tags": [
     "hide-cell"
    ]
   },
   "outputs": [],
   "source": [
    "dfAll.tail()"
   ]
  },
  {
   "cell_type": "markdown",
   "metadata": {},
   "source": [
    "### run for all patients"
   ]
  },
  {
   "cell_type": "code",
   "execution_count": 58,
   "metadata": {
    "tags": [
     "hide-cell"
    ]
   },
   "outputs": [
    {
     "data": {
      "text/plain": [
       "783"
      ]
     },
     "execution_count": 58,
     "metadata": {},
     "output_type": "execute_result"
    }
   ],
   "source": [
    "doneList = [\n",
    "    x.split('meanTable_')[-1].split('.')[0]\n",
    "    for x in os.listdir('%s/data/processed/csv/' % supDir)\n",
    "    if x.startswith('meanTable_')\n",
    "]\n",
    "len(doneList)"
   ]
  },
  {
   "cell_type": "code",
   "execution_count": 61,
   "metadata": {
    "collapsed": true,
    "scrolled": true,
    "tags": [
     "hide-cell"
    ]
   },
   "outputs": [],
   "source": [
    "for p in dfAll.index:\n",
    "    if p[1] not in doneList:\n",
    "        pCsv = dfAll.loc[p,'csv']\n",
    "        print datetime.now(),pCsv\n",
    "        meanDf = makeP(pCsv)"
   ]
  }
 ],
 "metadata": {
  "celltoolbar": "Tags",
  "kernelspec": {
   "display_name": "Python 2",
   "language": "python",
   "name": "python2"
  },
  "language_info": {
   "codemirror_mode": {
    "name": "ipython",
    "version": 2
   },
   "file_extension": ".py",
   "mimetype": "text/x-python",
   "name": "python",
   "nbconvert_exporter": "python",
   "pygments_lexer": "ipython2",
   "version": "2.7.14"
  },
  "varInspector": {
   "cols": {
    "lenName": 16,
    "lenType": 16,
    "lenVar": 40
   },
   "kernels_config": {
    "python": {
     "delete_cmd_postfix": "",
     "delete_cmd_prefix": "del ",
     "library": "var_list.py",
     "varRefreshCmd": "print(var_dic_list())"
    },
    "r": {
     "delete_cmd_postfix": ") ",
     "delete_cmd_prefix": "rm(",
     "library": "var_list.r",
     "varRefreshCmd": "cat(var_dic_list()) "
    }
   },
   "types_to_exclude": [
    "module",
    "function",
    "builtin_function_or_method",
    "instance",
    "_Feature"
   ],
   "window_display": false
  }
 },
 "nbformat": 4,
 "nbformat_minor": 2
}
