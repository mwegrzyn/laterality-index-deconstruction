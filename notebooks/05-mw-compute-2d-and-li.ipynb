{
 "cells": [
  {
   "cell_type": "markdown",
   "metadata": {},
   "source": [
    "# Compute Laterality Indices"
   ]
  },
  {
   "cell_type": "markdown",
   "metadata": {},
   "source": [
    "### import modules"
   ]
  },
  {
   "cell_type": "code",
   "execution_count": 1,
   "metadata": {
    "collapsed": true,
    "tags": [
     "hide-cell"
    ]
   },
   "outputs": [],
   "source": [
    "%matplotlib inline"
   ]
  },
  {
   "cell_type": "code",
   "execution_count": 2,
   "metadata": {
    "collapsed": true
   },
   "outputs": [],
   "source": [
    "import os\n",
    "import sys\n",
    "\n",
    "import pandas as pd\n",
    "import numpy as np\n",
    "\n",
    "import seaborn as sns\n",
    "import matplotlib.pyplot as plt"
   ]
  },
  {
   "cell_type": "markdown",
   "metadata": {},
   "source": [
    "### get absolute directory of project"
   ]
  },
  {
   "cell_type": "code",
   "execution_count": 3,
   "metadata": {},
   "outputs": [
    {
     "data": {
      "text/plain": [
       "'/data/martin/language_lat'"
      ]
     },
     "execution_count": 3,
     "metadata": {},
     "output_type": "execute_result"
    }
   ],
   "source": [
    "# after converstion to .py, we can use __file__ to get the module folder\n",
    "try:\n",
    "    thisDir = os.path.realpath(__file__)\n",
    "# in notebook form, we take the current working directory (we need to be in 'notebooks/' for this!)\n",
    "except:\n",
    "    thisDir = '.'\n",
    "# convert relative path into absolute path, so this will work with notebooks and py modules\n",
    "supDir = os.path.abspath(os.path.join(os.path.dirname(thisDir), '..'))\n",
    "\n",
    "supDir"
   ]
  },
  {
   "cell_type": "markdown",
   "metadata": {},
   "source": [
    "### get data"
   ]
  },
  {
   "cell_type": "code",
   "execution_count": 4,
   "metadata": {
    "collapsed": true,
    "tags": [
     "hide-cell"
    ]
   },
   "outputs": [],
   "source": [
    "arrayDf = pd.DataFrame(['../data/interim/csv/%s'%x for x in os.listdir('../data/interim/csv/') if x.startswith('roiPercentiles_pat')])\n",
    "arrayDf.columns = ['roiPc']\n",
    "arrayDf.index = [x.split('roiPercentiles_')[-1].split('.')[0] for x in arrayDf['roiPc']]\n",
    "arrayDf.sort_index(inplace=True)"
   ]
  },
  {
   "cell_type": "code",
   "execution_count": null,
   "metadata": {
    "scrolled": true,
    "tags": [
     "hide-cell"
    ]
   },
   "outputs": [],
   "source": [
    "arrayDf.tail()"
   ]
  },
  {
   "cell_type": "code",
   "execution_count": 6,
   "metadata": {
    "tags": [
     "hide-cell"
    ]
   },
   "outputs": [
    {
     "data": {
      "text/plain": [
       "(783, 1)"
      ]
     },
     "execution_count": 6,
     "metadata": {},
     "output_type": "execute_result"
    }
   ],
   "source": [
    "arrayDf.shape"
   ]
  },
  {
   "cell_type": "markdown",
   "metadata": {},
   "source": [
    "### get stored data"
   ]
  },
  {
   "cell_type": "code",
   "execution_count": 7,
   "metadata": {
    "collapsed": true
   },
   "outputs": [],
   "source": [
    "def getRawData(csvFile):\n",
    "    \n",
    "    rawDf = pd.read_csv(csvFile,index_col=[0,1])\n",
    "    rawDf.columns = rawDf.columns.map(float)\n",
    "    rawDf.sort_index(axis=1,inplace=True)\n",
    "    \n",
    "    return rawDf"
   ]
  },
  {
   "cell_type": "code",
   "execution_count": 8,
   "metadata": {
    "collapsed": true,
    "tags": [
     "hide-cell"
    ]
   },
   "outputs": [],
   "source": [
    "pName = arrayDf.iloc[69].name"
   ]
  },
  {
   "cell_type": "code",
   "execution_count": 9,
   "metadata": {
    "tags": [
     "hidel-cell"
    ]
   },
   "outputs": [
    {
     "data": {
      "text/plain": [
       "'pat0061_a'"
      ]
     },
     "execution_count": 9,
     "metadata": {},
     "output_type": "execute_result"
    }
   ],
   "source": [
    "pName"
   ]
  },
  {
   "cell_type": "code",
   "execution_count": 10,
   "metadata": {
    "collapsed": true,
    "tags": [
     "hide-cell"
    ]
   },
   "outputs": [],
   "source": [
    "rawDf = getRawData( arrayDf.loc[pName].roiPc )"
   ]
  },
  {
   "cell_type": "code",
   "execution_count": 26,
   "metadata": {
    "scrolled": true,
    "tags": [
     "hide-cell"
    ]
   },
   "outputs": [
    {
     "data": {
      "text/html": [
       "<div>\n",
       "<style>\n",
       "    .dataframe thead tr:only-child th {\n",
       "        text-align: right;\n",
       "    }\n",
       "\n",
       "    .dataframe thead th {\n",
       "        text-align: left;\n",
       "    }\n",
       "\n",
       "    .dataframe tbody tr th {\n",
       "        vertical-align: top;\n",
       "    }\n",
       "</style>\n",
       "<table border=\"1\" class=\"dataframe\">\n",
       "  <thead>\n",
       "    <tr style=\"text-align: right;\">\n",
       "      <th></th>\n",
       "      <th></th>\n",
       "      <th>-10.0</th>\n",
       "      <th>-9.9</th>\n",
       "      <th>-9.8</th>\n",
       "      <th>-9.7</th>\n",
       "      <th>-9.6</th>\n",
       "      <th>-9.5</th>\n",
       "      <th>-9.4</th>\n",
       "      <th>-9.3</th>\n",
       "      <th>-9.2</th>\n",
       "      <th>-9.1</th>\n",
       "      <th>...</th>\n",
       "      <th>19.0</th>\n",
       "      <th>19.1</th>\n",
       "      <th>19.2</th>\n",
       "      <th>19.3</th>\n",
       "      <th>19.4</th>\n",
       "      <th>19.5</th>\n",
       "      <th>19.6</th>\n",
       "      <th>19.7</th>\n",
       "      <th>19.8</th>\n",
       "      <th>19.9</th>\n",
       "    </tr>\n",
       "    <tr>\n",
       "      <th></th>\n",
       "      <th>Unnamed: 1</th>\n",
       "      <th></th>\n",
       "      <th></th>\n",
       "      <th></th>\n",
       "      <th></th>\n",
       "      <th></th>\n",
       "      <th></th>\n",
       "      <th></th>\n",
       "      <th></th>\n",
       "      <th></th>\n",
       "      <th></th>\n",
       "      <th></th>\n",
       "      <th></th>\n",
       "      <th></th>\n",
       "      <th></th>\n",
       "      <th></th>\n",
       "      <th></th>\n",
       "      <th></th>\n",
       "      <th></th>\n",
       "      <th></th>\n",
       "      <th></th>\n",
       "      <th></th>\n",
       "    </tr>\n",
       "  </thead>\n",
       "  <tbody>\n",
       "    <tr>\n",
       "      <th>85</th>\n",
       "      <th>right</th>\n",
       "      <td>100.0</td>\n",
       "      <td>100.0</td>\n",
       "      <td>100.0</td>\n",
       "      <td>100.0</td>\n",
       "      <td>100.0</td>\n",
       "      <td>100.0</td>\n",
       "      <td>100.0</td>\n",
       "      <td>100.0</td>\n",
       "      <td>100.0</td>\n",
       "      <td>100.0</td>\n",
       "      <td>...</td>\n",
       "      <td>0.0</td>\n",
       "      <td>0.0</td>\n",
       "      <td>0.0</td>\n",
       "      <td>0.0</td>\n",
       "      <td>0.0</td>\n",
       "      <td>0.0</td>\n",
       "      <td>0.0</td>\n",
       "      <td>0.0</td>\n",
       "      <td>0.0</td>\n",
       "      <td>0.0</td>\n",
       "    </tr>\n",
       "    <tr>\n",
       "      <th rowspan=\"2\" valign=\"top\">90</th>\n",
       "      <th>left</th>\n",
       "      <td>100.0</td>\n",
       "      <td>100.0</td>\n",
       "      <td>100.0</td>\n",
       "      <td>100.0</td>\n",
       "      <td>100.0</td>\n",
       "      <td>100.0</td>\n",
       "      <td>100.0</td>\n",
       "      <td>100.0</td>\n",
       "      <td>100.0</td>\n",
       "      <td>100.0</td>\n",
       "      <td>...</td>\n",
       "      <td>0.0</td>\n",
       "      <td>0.0</td>\n",
       "      <td>0.0</td>\n",
       "      <td>0.0</td>\n",
       "      <td>0.0</td>\n",
       "      <td>0.0</td>\n",
       "      <td>0.0</td>\n",
       "      <td>0.0</td>\n",
       "      <td>0.0</td>\n",
       "      <td>0.0</td>\n",
       "    </tr>\n",
       "    <tr>\n",
       "      <th>right</th>\n",
       "      <td>100.0</td>\n",
       "      <td>100.0</td>\n",
       "      <td>100.0</td>\n",
       "      <td>100.0</td>\n",
       "      <td>100.0</td>\n",
       "      <td>100.0</td>\n",
       "      <td>100.0</td>\n",
       "      <td>100.0</td>\n",
       "      <td>100.0</td>\n",
       "      <td>100.0</td>\n",
       "      <td>...</td>\n",
       "      <td>0.0</td>\n",
       "      <td>0.0</td>\n",
       "      <td>0.0</td>\n",
       "      <td>0.0</td>\n",
       "      <td>0.0</td>\n",
       "      <td>0.0</td>\n",
       "      <td>0.0</td>\n",
       "      <td>0.0</td>\n",
       "      <td>0.0</td>\n",
       "      <td>0.0</td>\n",
       "    </tr>\n",
       "    <tr>\n",
       "      <th rowspan=\"2\" valign=\"top\">95</th>\n",
       "      <th>left</th>\n",
       "      <td>100.0</td>\n",
       "      <td>100.0</td>\n",
       "      <td>100.0</td>\n",
       "      <td>100.0</td>\n",
       "      <td>100.0</td>\n",
       "      <td>100.0</td>\n",
       "      <td>100.0</td>\n",
       "      <td>100.0</td>\n",
       "      <td>100.0</td>\n",
       "      <td>100.0</td>\n",
       "      <td>...</td>\n",
       "      <td>0.0</td>\n",
       "      <td>0.0</td>\n",
       "      <td>0.0</td>\n",
       "      <td>0.0</td>\n",
       "      <td>0.0</td>\n",
       "      <td>0.0</td>\n",
       "      <td>0.0</td>\n",
       "      <td>0.0</td>\n",
       "      <td>0.0</td>\n",
       "      <td>0.0</td>\n",
       "    </tr>\n",
       "    <tr>\n",
       "      <th>right</th>\n",
       "      <td>100.0</td>\n",
       "      <td>100.0</td>\n",
       "      <td>100.0</td>\n",
       "      <td>100.0</td>\n",
       "      <td>100.0</td>\n",
       "      <td>100.0</td>\n",
       "      <td>100.0</td>\n",
       "      <td>100.0</td>\n",
       "      <td>100.0</td>\n",
       "      <td>100.0</td>\n",
       "      <td>...</td>\n",
       "      <td>0.0</td>\n",
       "      <td>0.0</td>\n",
       "      <td>0.0</td>\n",
       "      <td>0.0</td>\n",
       "      <td>0.0</td>\n",
       "      <td>0.0</td>\n",
       "      <td>0.0</td>\n",
       "      <td>0.0</td>\n",
       "      <td>0.0</td>\n",
       "      <td>0.0</td>\n",
       "    </tr>\n",
       "  </tbody>\n",
       "</table>\n",
       "<p>5 rows × 300 columns</p>\n",
       "</div>"
      ],
      "text/plain": [
       "               -10.0  -9.9   -9.8   -9.7   -9.6   -9.5   -9.4   -9.3   -9.2   \\\n",
       "   Unnamed: 1                                                                  \n",
       "85 right       100.0  100.0  100.0  100.0  100.0  100.0  100.0  100.0  100.0   \n",
       "90 left        100.0  100.0  100.0  100.0  100.0  100.0  100.0  100.0  100.0   \n",
       "   right       100.0  100.0  100.0  100.0  100.0  100.0  100.0  100.0  100.0   \n",
       "95 left        100.0  100.0  100.0  100.0  100.0  100.0  100.0  100.0  100.0   \n",
       "   right       100.0  100.0  100.0  100.0  100.0  100.0  100.0  100.0  100.0   \n",
       "\n",
       "               -9.1   ...     19.0   19.1   19.2   19.3   19.4   19.5   19.6  \\\n",
       "   Unnamed: 1         ...                                                      \n",
       "85 right       100.0  ...      0.0    0.0    0.0    0.0    0.0    0.0    0.0   \n",
       "90 left        100.0  ...      0.0    0.0    0.0    0.0    0.0    0.0    0.0   \n",
       "   right       100.0  ...      0.0    0.0    0.0    0.0    0.0    0.0    0.0   \n",
       "95 left        100.0  ...      0.0    0.0    0.0    0.0    0.0    0.0    0.0   \n",
       "   right       100.0  ...      0.0    0.0    0.0    0.0    0.0    0.0    0.0   \n",
       "\n",
       "                19.7   19.8   19.9  \n",
       "   Unnamed: 1                       \n",
       "85 right         0.0    0.0    0.0  \n",
       "90 left          0.0    0.0    0.0  \n",
       "   right         0.0    0.0    0.0  \n",
       "95 left          0.0    0.0    0.0  \n",
       "   right         0.0    0.0    0.0  \n",
       "\n",
       "[5 rows x 300 columns]"
      ]
     },
     "execution_count": 26,
     "metadata": {},
     "output_type": "execute_result"
    }
   ],
   "source": [
    "rawDf.tail()"
   ]
  },
  {
   "cell_type": "markdown",
   "metadata": {},
   "source": [
    "The deconstruction into numerator and denominator:"
   ]
  },
  {
   "cell_type": "code",
   "execution_count": 12,
   "metadata": {
    "collapsed": true
   },
   "outputs": [],
   "source": [
    "def makeDiff(df):\n",
    "    return pd.DataFrame( (df['left']-df['right'])/100. )"
   ]
  },
  {
   "cell_type": "code",
   "execution_count": 13,
   "metadata": {
    "collapsed": true
   },
   "outputs": [],
   "source": [
    "def makeAdd(df):\n",
    "    return pd.DataFrame( (df['left']+df['right'])/100. )"
   ]
  },
  {
   "cell_type": "code",
   "execution_count": 14,
   "metadata": {
    "collapsed": true,
    "scrolled": true
   },
   "outputs": [],
   "source": [
    "def makeBigDf(rawDf):\n",
    "    bigDf = pd.DataFrame()\n",
    "\n",
    "    for i in rawDf.index.levels[0]:\n",
    "\n",
    "        thisDf = rawDf.loc[i].T\n",
    "\n",
    "        diffDf = makeDiff(thisDf)\n",
    "        diffDf.columns = ['L-R']\n",
    "\n",
    "        addDf = makeAdd(thisDf)\n",
    "        addDf.columns = ['L+R']\n",
    "\n",
    "        liDf = pd.DataFrame( diffDf['L-R'] / addDf['L+R'] )\n",
    "        liDf.columns = ['LI']\n",
    "\n",
    "        pcDf = pd.DataFrame(pd.concat([addDf, diffDf, liDf], axis=1).stack(dropna=False)).T\n",
    "        pcDf.index = [i]\n",
    "\n",
    "        bigDf = pd.concat([bigDf, pcDf], axis=0)\n",
    "\n",
    "    return bigDf"
   ]
  },
  {
   "cell_type": "code",
   "execution_count": 15,
   "metadata": {
    "collapsed": true,
    "tags": [
     "hide-cell"
    ]
   },
   "outputs": [],
   "source": [
    "bigDf = makeBigDf(rawDf)"
   ]
  },
  {
   "cell_type": "code",
   "execution_count": 27,
   "metadata": {
    "scrolled": true,
    "tags": [
     "hide-cell"
    ]
   },
   "outputs": [
    {
     "data": {
      "text/html": [
       "<div>\n",
       "<style>\n",
       "    .dataframe thead tr:only-child th {\n",
       "        text-align: right;\n",
       "    }\n",
       "\n",
       "    .dataframe thead th {\n",
       "        text-align: left;\n",
       "    }\n",
       "\n",
       "    .dataframe tbody tr th {\n",
       "        vertical-align: top;\n",
       "    }\n",
       "</style>\n",
       "<table border=\"1\" class=\"dataframe\">\n",
       "  <thead>\n",
       "    <tr>\n",
       "      <th></th>\n",
       "      <th colspan=\"3\" halign=\"left\">-10.0</th>\n",
       "      <th colspan=\"3\" halign=\"left\">-9.9</th>\n",
       "      <th colspan=\"3\" halign=\"left\">-9.8</th>\n",
       "      <th>-9.7</th>\n",
       "      <th>...</th>\n",
       "      <th>19.6</th>\n",
       "      <th colspan=\"3\" halign=\"left\">19.7</th>\n",
       "      <th colspan=\"3\" halign=\"left\">19.8</th>\n",
       "      <th colspan=\"3\" halign=\"left\">19.9</th>\n",
       "    </tr>\n",
       "    <tr>\n",
       "      <th></th>\n",
       "      <th>L+R</th>\n",
       "      <th>L-R</th>\n",
       "      <th>LI</th>\n",
       "      <th>L+R</th>\n",
       "      <th>L-R</th>\n",
       "      <th>LI</th>\n",
       "      <th>L+R</th>\n",
       "      <th>L-R</th>\n",
       "      <th>LI</th>\n",
       "      <th>L+R</th>\n",
       "      <th>...</th>\n",
       "      <th>LI</th>\n",
       "      <th>L+R</th>\n",
       "      <th>L-R</th>\n",
       "      <th>LI</th>\n",
       "      <th>L+R</th>\n",
       "      <th>L-R</th>\n",
       "      <th>LI</th>\n",
       "      <th>L+R</th>\n",
       "      <th>L-R</th>\n",
       "      <th>LI</th>\n",
       "    </tr>\n",
       "  </thead>\n",
       "  <tbody>\n",
       "    <tr>\n",
       "      <th>75</th>\n",
       "      <td>2.0</td>\n",
       "      <td>0.0</td>\n",
       "      <td>0.0</td>\n",
       "      <td>2.0</td>\n",
       "      <td>0.0</td>\n",
       "      <td>0.0</td>\n",
       "      <td>2.0</td>\n",
       "      <td>0.0</td>\n",
       "      <td>0.0</td>\n",
       "      <td>2.0</td>\n",
       "      <td>...</td>\n",
       "      <td>NaN</td>\n",
       "      <td>0.0</td>\n",
       "      <td>0.0</td>\n",
       "      <td>NaN</td>\n",
       "      <td>0.0</td>\n",
       "      <td>0.0</td>\n",
       "      <td>NaN</td>\n",
       "      <td>0.0</td>\n",
       "      <td>0.0</td>\n",
       "      <td>NaN</td>\n",
       "    </tr>\n",
       "    <tr>\n",
       "      <th>80</th>\n",
       "      <td>2.0</td>\n",
       "      <td>0.0</td>\n",
       "      <td>0.0</td>\n",
       "      <td>2.0</td>\n",
       "      <td>0.0</td>\n",
       "      <td>0.0</td>\n",
       "      <td>2.0</td>\n",
       "      <td>0.0</td>\n",
       "      <td>0.0</td>\n",
       "      <td>2.0</td>\n",
       "      <td>...</td>\n",
       "      <td>NaN</td>\n",
       "      <td>0.0</td>\n",
       "      <td>0.0</td>\n",
       "      <td>NaN</td>\n",
       "      <td>0.0</td>\n",
       "      <td>0.0</td>\n",
       "      <td>NaN</td>\n",
       "      <td>0.0</td>\n",
       "      <td>0.0</td>\n",
       "      <td>NaN</td>\n",
       "    </tr>\n",
       "    <tr>\n",
       "      <th>85</th>\n",
       "      <td>2.0</td>\n",
       "      <td>0.0</td>\n",
       "      <td>0.0</td>\n",
       "      <td>2.0</td>\n",
       "      <td>0.0</td>\n",
       "      <td>0.0</td>\n",
       "      <td>2.0</td>\n",
       "      <td>0.0</td>\n",
       "      <td>0.0</td>\n",
       "      <td>2.0</td>\n",
       "      <td>...</td>\n",
       "      <td>NaN</td>\n",
       "      <td>0.0</td>\n",
       "      <td>0.0</td>\n",
       "      <td>NaN</td>\n",
       "      <td>0.0</td>\n",
       "      <td>0.0</td>\n",
       "      <td>NaN</td>\n",
       "      <td>0.0</td>\n",
       "      <td>0.0</td>\n",
       "      <td>NaN</td>\n",
       "    </tr>\n",
       "    <tr>\n",
       "      <th>90</th>\n",
       "      <td>2.0</td>\n",
       "      <td>0.0</td>\n",
       "      <td>0.0</td>\n",
       "      <td>2.0</td>\n",
       "      <td>0.0</td>\n",
       "      <td>0.0</td>\n",
       "      <td>2.0</td>\n",
       "      <td>0.0</td>\n",
       "      <td>0.0</td>\n",
       "      <td>2.0</td>\n",
       "      <td>...</td>\n",
       "      <td>NaN</td>\n",
       "      <td>0.0</td>\n",
       "      <td>0.0</td>\n",
       "      <td>NaN</td>\n",
       "      <td>0.0</td>\n",
       "      <td>0.0</td>\n",
       "      <td>NaN</td>\n",
       "      <td>0.0</td>\n",
       "      <td>0.0</td>\n",
       "      <td>NaN</td>\n",
       "    </tr>\n",
       "    <tr>\n",
       "      <th>95</th>\n",
       "      <td>2.0</td>\n",
       "      <td>0.0</td>\n",
       "      <td>0.0</td>\n",
       "      <td>2.0</td>\n",
       "      <td>0.0</td>\n",
       "      <td>0.0</td>\n",
       "      <td>2.0</td>\n",
       "      <td>0.0</td>\n",
       "      <td>0.0</td>\n",
       "      <td>2.0</td>\n",
       "      <td>...</td>\n",
       "      <td>NaN</td>\n",
       "      <td>0.0</td>\n",
       "      <td>0.0</td>\n",
       "      <td>NaN</td>\n",
       "      <td>0.0</td>\n",
       "      <td>0.0</td>\n",
       "      <td>NaN</td>\n",
       "      <td>0.0</td>\n",
       "      <td>0.0</td>\n",
       "      <td>NaN</td>\n",
       "    </tr>\n",
       "  </tbody>\n",
       "</table>\n",
       "<p>5 rows × 900 columns</p>\n",
       "</div>"
      ],
      "text/plain": [
       "   -10.0           -9.9            -9.8            -9.7  ...  19.6  19.7       \\\n",
       "     L+R  L-R   LI   L+R  L-R   LI   L+R  L-R   LI   L+R ...    LI   L+R  L-R   \n",
       "75   2.0  0.0  0.0   2.0  0.0  0.0   2.0  0.0  0.0   2.0 ...   NaN   0.0  0.0   \n",
       "80   2.0  0.0  0.0   2.0  0.0  0.0   2.0  0.0  0.0   2.0 ...   NaN   0.0  0.0   \n",
       "85   2.0  0.0  0.0   2.0  0.0  0.0   2.0  0.0  0.0   2.0 ...   NaN   0.0  0.0   \n",
       "90   2.0  0.0  0.0   2.0  0.0  0.0   2.0  0.0  0.0   2.0 ...   NaN   0.0  0.0   \n",
       "95   2.0  0.0  0.0   2.0  0.0  0.0   2.0  0.0  0.0   2.0 ...   NaN   0.0  0.0   \n",
       "\n",
       "        19.8           19.9           \n",
       "    LI   L+R  L-R  LI   L+R  L-R  LI  \n",
       "75 NaN   0.0  0.0 NaN   0.0  0.0 NaN  \n",
       "80 NaN   0.0  0.0 NaN   0.0  0.0 NaN  \n",
       "85 NaN   0.0  0.0 NaN   0.0  0.0 NaN  \n",
       "90 NaN   0.0  0.0 NaN   0.0  0.0 NaN  \n",
       "95 NaN   0.0  0.0 NaN   0.0  0.0 NaN  \n",
       "\n",
       "[5 rows x 900 columns]"
      ]
     },
     "execution_count": 27,
     "metadata": {},
     "output_type": "execute_result"
    }
   ],
   "source": [
    "bigDf.tail()"
   ]
  },
  {
   "cell_type": "code",
   "execution_count": 17,
   "metadata": {
    "collapsed": true,
    "tags": [
     "hide-cell"
    ]
   },
   "outputs": [],
   "source": [
    "pDf = rawDf.loc[50].T"
   ]
  },
  {
   "cell_type": "code",
   "execution_count": 18,
   "metadata": {
    "tags": [
     "hide-cell"
    ]
   },
   "outputs": [
    {
     "data": {
      "image/png": "[encoded data removed]",
      "text/plain": [
       "<matplotlib.figure.Figure at 0x7fbdd3055750>"
      ]
     },
     "metadata": {},
     "output_type": "display_data"
    }
   ],
   "source": [
    "fig,ax1 = plt.subplots(1,1,figsize=(8,6))\n",
    "for side in ['left','right']:\n",
    "    ax1.plot(pDf.loc[-5.0:15.0][side],linewidth=10,alpha=0.8,label=side)\n",
    "    ax1.legend(loc='best',fontsize=24)\n",
    "ax1.set_ylabel('% voxel above threshold',fontsize=24)\n",
    "ax1.set_xlabel('t value for thresholding',fontsize=24)\n",
    "ax1.set_xticks(range(-5,16,5))\n",
    "ax1.set_xticklabels(range(-5,16,5),fontsize=22)\n",
    "ax1.set_yticks(range(0,101,20))\n",
    "ax1.set_yticklabels(range(0,101,20),fontsize=22)\n",
    "ax1.set_ylim(-1,102)\n",
    "ax1.set_title('example a, voxel count',fontsize=28)\n",
    "sns.despine()\n",
    "plt.show()"
   ]
  },
  {
   "cell_type": "code",
   "execution_count": 19,
   "metadata": {
    "collapsed": true,
    "tags": [
     "hide-cell"
    ]
   },
   "outputs": [],
   "source": [
    "myDf = bigDf.loc[50].reorder_levels([1,0])\n",
    "liDf = myDf['LI']\n",
    "twoDf = pd.DataFrame( myDf ).unstack(0)[50]"
   ]
  },
  {
   "cell_type": "code",
   "execution_count": 20,
   "metadata": {
    "tags": [
     "hide-cell"
    ]
   },
   "outputs": [
    {
     "data": {
      "image/png": "[encoded data removed]",
      "text/plain": [
       "<matplotlib.figure.Figure at 0x7fbdd31e5650>"
      ]
     },
     "metadata": {},
     "output_type": "display_data"
    }
   ],
   "source": [
    "fig,ax1 = plt.subplots(1,1,figsize=(8,6))\n",
    "\n",
    "ax1.plot( liDf,label='(L-R)/(L+R)',linewidth=10,alpha=0.8,color='r' )\n",
    "ax1.plot( twoDf['L-R'],label='L-R',linewidth=10,alpha=0.8 ,color='c')\n",
    "\n",
    "ax1.set_xlim(-8,17)\n",
    "ax1.set_xlabel('t value for thresholding',fontsize=24)\n",
    "ax1.set_ylabel('laterality scores',fontsize=24)\n",
    "\n",
    "ax1.set_xticks(range(-5,16,5))\n",
    "ax1.set_xticklabels(range(-5,16,5),fontsize=22)\n",
    "\n",
    "ax1.set_yticks(np.arange(0,1.1,.2))\n",
    "ax1.set_yticklabels(np.arange(0,1.1,.2),fontsize=22)\n",
    "\n",
    "ax2 = ax1.twinx()\n",
    "ax2.plot( twoDf['L+R'],label='L+R',linewidth=10,alpha=0.8 ,color='y')\n",
    "ax2.tick_params('y')\n",
    "ax2.set_ylabel('strength score',fontsize=24)\n",
    "\n",
    "ax2.set_yticks(np.arange(0,2.1,.5))\n",
    "ax2.set_yticklabels(np.arange(0,2.1,.5),fontsize=22)\n",
    "\n",
    "#ax1.legend(loc='upper right',bbox_to_anchor=(1.03,0.65),fontsize=24)\n",
    "#ax2.legend(loc='upper right',bbox_to_anchor=(0.857,0.45),fontsize=24)\n",
    "ax1.legend(loc='upper right',bbox_to_anchor=(1.03,1),fontsize=24)\n",
    "ax2.legend(loc='upper right',bbox_to_anchor=(0.857,0.8),fontsize=24)\n",
    "\n",
    "ax1.set_ylim(-0.01,1.02)\n",
    "ax2.set_ylim(-0.02,2.04)\n",
    "ax1.set_title('example b, laterality indices',fontsize=28)\n",
    "sns.despine(right=False)\n",
    "#ax1.axhline(0,linewidth=3,color='k',linestyle='dashed')\n",
    "\n",
    "plt.show()"
   ]
  },
  {
   "cell_type": "markdown",
   "metadata": {},
   "source": [
    "### do all for one participant"
   ]
  },
  {
   "cell_type": "code",
   "execution_count": 21,
   "metadata": {
    "collapsed": true,
    "tags": [
     "hide-cell"
    ]
   },
   "outputs": [],
   "source": [
    "def makeP(pName,arrayDf=arrayDf):\n",
    "    rawDf = getRawData( arrayDf.loc[pName].roiPc )\n",
    "    bigDf = makeBigDf(rawDf)\n",
    "    bigDf.to_csv( '../data/interim/csv/roiLaterality_%s.csv'%pName )\n",
    "    return bigDf"
   ]
  },
  {
   "cell_type": "code",
   "execution_count": 22,
   "metadata": {
    "collapsed": true,
    "tags": [
     "show-cell"
    ]
   },
   "outputs": [],
   "source": [
    "#def makeP(pFolder, pName):\n",
    "#    rawDf = getRawData('%s/roiPercentiles_%s.csv' % (pFolder, pName))\n",
    "#    bigDf = makeBigDf(rawDf)\n",
    "#    bigDf.to_csv('%s/roiLaterality_%s.csv' % (pFolder, pName))\n",
    "#    return bigDf"
   ]
  },
  {
   "cell_type": "code",
   "execution_count": 23,
   "metadata": {
    "collapsed": true,
    "tags": [
     "hide-cell"
    ]
   },
   "outputs": [],
   "source": [
    "bigDf = makeP(pName)"
   ]
  },
  {
   "cell_type": "markdown",
   "metadata": {},
   "source": [
    "### for all participants"
   ]
  },
  {
   "cell_type": "code",
   "execution_count": 28,
   "metadata": {
    "tags": [
     "hide-cell"
    ]
   },
   "outputs": [
    {
     "data": {
      "text/plain": [
       "783"
      ]
     },
     "execution_count": 28,
     "metadata": {},
     "output_type": "execute_result"
    }
   ],
   "source": [
    "doneList = [\n",
    "    x.split('Laterality_')[-1].split('.')[0]\n",
    "    for x in os.listdir('%s/data/interim/csv/' % supDir)\n",
    "    if x.startswith('roiLaterality')\n",
    "]\n",
    "len(doneList)"
   ]
  },
  {
   "cell_type": "code",
   "execution_count": 29,
   "metadata": {
    "collapsed": true,
    "scrolled": true,
    "tags": [
     "hide-cell"
    ]
   },
   "outputs": [],
   "source": [
    "for pName in arrayDf.index:\n",
    "    if pName not in doneList:\n",
    "        print pName\n",
    "        bigDf = makeP(pName)"
   ]
  }
 ],
 "metadata": {
  "celltoolbar": "Tags",
  "kernelspec": {
   "display_name": "Python 2",
   "language": "python",
   "name": "python2"
  },
  "language_info": {
   "codemirror_mode": {
    "name": "ipython",
    "version": 2
   },
   "file_extension": ".py",
   "mimetype": "text/x-python",
   "name": "python",
   "nbconvert_exporter": "python",
   "pygments_lexer": "ipython2",
   "version": "2.7.14"
  },
  "varInspector": {
   "cols": {
    "lenName": 16,
    "lenType": 16,
    "lenVar": 40
   },
   "kernels_config": {
    "python": {
     "delete_cmd_postfix": "",
     "delete_cmd_prefix": "del ",
     "library": "var_list.py",
     "varRefreshCmd": "print(var_dic_list())"
    },
    "r": {
     "delete_cmd_postfix": ") ",
     "delete_cmd_prefix": "rm(",
     "library": "var_list.r",
     "varRefreshCmd": "cat(var_dic_list()) "
    }
   },
   "types_to_exclude": [
    "module",
    "function",
    "builtin_function_or_method",
    "instance",
    "_Feature"
   ],
   "window_display": false
  },
  "widgets": {
   "state": {
    "5a5e21d59a0f4d538e70b3b0e1520c15": {
     "views": [
      {
       "cell_index": 94
      }
     ]
    },
    "98ed6cfabbe2408b8ba6165476048fe1": {
     "views": [
      {
       "cell_index": 25
      }
     ]
    },
    "a9936cfcc8164d559dd98b69e8014c54": {
     "views": [
      {
       "cell_index": 64
      }
     ]
    },
    "d073ef0676a542ab8c18d7420d7d1eb1": {
     "views": [
      {
       "cell_index": 98
      }
     ]
    }
   },
   "version": "1.2.0"
  }
 },
 "nbformat": 4,
 "nbformat_minor": 1
}
