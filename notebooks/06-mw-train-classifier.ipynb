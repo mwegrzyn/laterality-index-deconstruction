{
 "cells": [
  {
   "cell_type": "markdown",
   "metadata": {},
   "source": [
    "# Make Classifiers  \n",
    "\n",
    "This script runs a nested cross-validation within the training data and saves the classifiers"
   ]
  },
  {
   "cell_type": "markdown",
   "metadata": {},
   "source": [
    "### import modules"
   ]
  },
  {
   "cell_type": "code",
   "execution_count": 1,
   "metadata": {
    "collapsed": true
   },
   "outputs": [],
   "source": [
    "%matplotlib inline"
   ]
  },
  {
   "cell_type": "code",
   "execution_count": 2,
   "metadata": {
    "collapsed": true
   },
   "outputs": [],
   "source": [
    "import os\n",
    "\n",
    "import numpy as np\n",
    "import pandas as pd\n",
    "\n",
    "import matplotlib.pylab as plt\n",
    "import seaborn as sns\n",
    "\n",
    "from sklearn.svm import SVC\n",
    "from sklearn import preprocessing, model_selection, metrics\n",
    "\n",
    "import pickle"
   ]
  },
  {
   "cell_type": "markdown",
   "metadata": {},
   "source": [
    "### get data"
   ]
  },
  {
   "cell_type": "markdown",
   "metadata": {},
   "source": [
    "as an example, here we load a dataset for one type of roi size:"
   ]
  },
  {
   "cell_type": "code",
   "execution_count": 3,
   "metadata": {
    "collapsed": true,
    "scrolled": true
   },
   "outputs": [],
   "source": [
    "df = pd.read_csv('../data/interim/csv/roiLaterality_pat0001_a.csv',index_col=[0],header=[0,1])"
   ]
  },
  {
   "cell_type": "code",
   "execution_count": null,
   "metadata": {},
   "outputs": [],
   "source": [
    "df.tail()"
   ]
  },
  {
   "cell_type": "markdown",
   "metadata": {},
   "source": [
    "when we load from csv, the index and columns are strings by default, but to be able to sort and plot with the thresholds as numbers, we convert the column names to floats"
   ]
  },
  {
   "cell_type": "code",
   "execution_count": 5,
   "metadata": {
    "collapsed": true
   },
   "outputs": [],
   "source": [
    "def changeDf(df):\n",
    "    \n",
    "    idx1 = df.columns.get_level_values(0).astype(float)\n",
    "    idx2 = df.columns.get_level_values(1)\n",
    "\n",
    "    mIdx = pd.MultiIndex.from_arrays([idx1,idx2])\n",
    "\n",
    "    df.columns = mIdx\n",
    "    df.sort_index(axis=1)\n",
    "\n",
    "    return df"
   ]
  },
  {
   "cell_type": "code",
   "execution_count": 6,
   "metadata": {
    "collapsed": true,
    "scrolled": true
   },
   "outputs": [],
   "source": [
    "df = changeDf(df)"
   ]
  },
  {
   "cell_type": "code",
   "execution_count": 7,
   "metadata": {},
   "outputs": [
    {
     "data": {
      "text/plain": [
       "MultiIndex(levels=[[-10.0, -9.9, -9.8, -9.7, -9.6, -9.5, -9.4, -9.3, -9.2, -9.1, -9.0, -8.9, -8.8, -8.7, -8.6, -8.5, -8.4, -8.3, -8.2, -8.1, -8.0, -7.9, -7.8, -7.7, -7.6, -7.5, -7.4, -7.3, -7.2, -7.1, -7.0, -6.9, -6.8, -6.7, -6.6, -6.5, -6.4, -6.3, -6.2, -6.1, -6.0, -5.9, -5.8, -5.7, -5.6, -5.5, -5.4, -5.3, -5.2, -5.1, -5.0, -4.9, -4.8, -4.7, -4.6, -4.5, -4.4, -4.3, -4.2, -4.1, -4.0, -3.9, -3.8, -3.7, -3.6, -3.5, -3.4, -3.3, -3.2, -3.1, -3.0, -2.9, -2.8, -2.7, -2.6, -2.5, -2.4, -2.3, -2.2, -2.1, -2.0, -1.9, -1.8, -1.7, -1.6, -1.5, -1.4, -1.3, -1.2, -1.1, -1.0, -0.9, -0.8, -0.7, -0.6, -0.5, -0.4, -0.3, -0.2, -0.1, -0.0, 0.1, 0.2, 0.3, 0.4, 0.5, 0.6, 0.7, 0.8, 0.9, 1.0, 1.1, 1.2, 1.3, 1.4, 1.5, 1.6, 1.7, 1.8, 1.9, 2.0, 2.1, 2.2, 2.3, 2.4, 2.5, 2.6, 2.7, 2.8, 2.9, 3.0, 3.1, 3.2, 3.3, 3.4, 3.5, 3.6, 3.7, 3.8, 3.9, 4.0, 4.1, 4.2, 4.3, 4.4, 4.5, 4.6, 4.7, 4.8, 4.9, 5.0, 5.1, 5.2, 5.3, 5.4, 5.5, 5.6, 5.7, 5.8, 5.9, 6.0, 6.1, 6.2, 6.3, 6.4, 6.5, 6.6, 6.7, 6.8, 6.9, 7.0, 7.1, 7.2, 7.3, 7.4, 7.5, 7.6, 7.7, 7.8, 7.9, 8.0, 8.1, 8.2, 8.3, 8.4, 8.5, 8.6, 8.7, 8.8, 8.9, 9.0, 9.1, 9.2, 9.3, 9.4, 9.5, 9.6, 9.7, 9.8, 9.9, 10.0, 10.1, 10.2, 10.3, 10.4, 10.5, 10.6, 10.7, 10.8, 10.9, 11.0, 11.1, 11.2, 11.3, 11.4, 11.5, 11.6, 11.7, 11.8, 11.9, 12.0, 12.1, 12.2, 12.3, 12.4, 12.5, 12.6, 12.7, 12.8, 12.9, 13.0, 13.1, 13.2, 13.3, 13.4, 13.5, 13.6, 13.7, 13.8, 13.9, 14.0, 14.1, 14.2, 14.3, 14.4, 14.5, 14.6, 14.7, 14.8, 14.9, 15.0, 15.1, 15.2, 15.3, 15.4, 15.5, 15.6, 15.7, 15.8, 15.9, 16.0, 16.1, 16.2, 16.3, 16.4, 16.5, 16.6, 16.7, 16.8, 16.9, 17.0, 17.1, 17.2, 17.3, 17.4, 17.5, 17.6, 17.7, 17.8, 17.9, 18.0, 18.1, 18.2, 18.3, 18.4, 18.5, 18.6, 18.7, 18.8, 18.9, 19.0, 19.1, 19.2, 19.3, 19.4, 19.5, 19.6, 19.7, 19.8, 19.9], [u'L+R', u'L-R', u'LI']],\n",
       "           labels=[[0, 0, 0, 1, 1], [0, 1, 2, 0, 1]])"
      ]
     },
     "execution_count": 7,
     "metadata": {},
     "output_type": "execute_result"
    }
   ],
   "source": [
    "df.columns[:5]"
   ]
  },
  {
   "cell_type": "code",
   "execution_count": 8,
   "metadata": {},
   "outputs": [
    {
     "data": {
      "text/html": [
       "<div>\n",
       "<style>\n",
       "    .dataframe thead tr:only-child th {\n",
       "        text-align: right;\n",
       "    }\n",
       "\n",
       "    .dataframe thead th {\n",
       "        text-align: left;\n",
       "    }\n",
       "\n",
       "    .dataframe tbody tr th {\n",
       "        vertical-align: top;\n",
       "    }\n",
       "</style>\n",
       "<table border=\"1\" class=\"dataframe\">\n",
       "  <thead>\n",
       "    <tr>\n",
       "      <th></th>\n",
       "      <th colspan=\"3\" halign=\"left\">-10.0</th>\n",
       "      <th colspan=\"3\" halign=\"left\">-9.9</th>\n",
       "      <th colspan=\"3\" halign=\"left\">-9.8</th>\n",
       "      <th>-9.7</th>\n",
       "      <th>...</th>\n",
       "      <th>19.6</th>\n",
       "      <th colspan=\"3\" halign=\"left\">19.7</th>\n",
       "      <th colspan=\"3\" halign=\"left\">19.8</th>\n",
       "      <th colspan=\"3\" halign=\"left\">19.9</th>\n",
       "    </tr>\n",
       "    <tr>\n",
       "      <th></th>\n",
       "      <th>L+R</th>\n",
       "      <th>L-R</th>\n",
       "      <th>LI</th>\n",
       "      <th>L+R</th>\n",
       "      <th>L-R</th>\n",
       "      <th>LI</th>\n",
       "      <th>L+R</th>\n",
       "      <th>L-R</th>\n",
       "      <th>LI</th>\n",
       "      <th>L+R</th>\n",
       "      <th>...</th>\n",
       "      <th>LI</th>\n",
       "      <th>L+R</th>\n",
       "      <th>L-R</th>\n",
       "      <th>LI</th>\n",
       "      <th>L+R</th>\n",
       "      <th>L-R</th>\n",
       "      <th>LI</th>\n",
       "      <th>L+R</th>\n",
       "      <th>L-R</th>\n",
       "      <th>LI</th>\n",
       "    </tr>\n",
       "  </thead>\n",
       "  <tbody>\n",
       "    <tr>\n",
       "      <th>75</th>\n",
       "      <td>2.0</td>\n",
       "      <td>0.0</td>\n",
       "      <td>0.0</td>\n",
       "      <td>2.0</td>\n",
       "      <td>0.0</td>\n",
       "      <td>0.0</td>\n",
       "      <td>2.0</td>\n",
       "      <td>0.0</td>\n",
       "      <td>0.0</td>\n",
       "      <td>2.0</td>\n",
       "      <td>...</td>\n",
       "      <td>NaN</td>\n",
       "      <td>0.0</td>\n",
       "      <td>0.0</td>\n",
       "      <td>NaN</td>\n",
       "      <td>0.0</td>\n",
       "      <td>0.0</td>\n",
       "      <td>NaN</td>\n",
       "      <td>0.0</td>\n",
       "      <td>0.0</td>\n",
       "      <td>NaN</td>\n",
       "    </tr>\n",
       "    <tr>\n",
       "      <th>80</th>\n",
       "      <td>2.0</td>\n",
       "      <td>0.0</td>\n",
       "      <td>0.0</td>\n",
       "      <td>2.0</td>\n",
       "      <td>0.0</td>\n",
       "      <td>0.0</td>\n",
       "      <td>2.0</td>\n",
       "      <td>0.0</td>\n",
       "      <td>0.0</td>\n",
       "      <td>2.0</td>\n",
       "      <td>...</td>\n",
       "      <td>NaN</td>\n",
       "      <td>0.0</td>\n",
       "      <td>0.0</td>\n",
       "      <td>NaN</td>\n",
       "      <td>0.0</td>\n",
       "      <td>0.0</td>\n",
       "      <td>NaN</td>\n",
       "      <td>0.0</td>\n",
       "      <td>0.0</td>\n",
       "      <td>NaN</td>\n",
       "    </tr>\n",
       "    <tr>\n",
       "      <th>85</th>\n",
       "      <td>2.0</td>\n",
       "      <td>0.0</td>\n",
       "      <td>0.0</td>\n",
       "      <td>2.0</td>\n",
       "      <td>0.0</td>\n",
       "      <td>0.0</td>\n",
       "      <td>2.0</td>\n",
       "      <td>0.0</td>\n",
       "      <td>0.0</td>\n",
       "      <td>2.0</td>\n",
       "      <td>...</td>\n",
       "      <td>NaN</td>\n",
       "      <td>0.0</td>\n",
       "      <td>0.0</td>\n",
       "      <td>NaN</td>\n",
       "      <td>0.0</td>\n",
       "      <td>0.0</td>\n",
       "      <td>NaN</td>\n",
       "      <td>0.0</td>\n",
       "      <td>0.0</td>\n",
       "      <td>NaN</td>\n",
       "    </tr>\n",
       "    <tr>\n",
       "      <th>90</th>\n",
       "      <td>2.0</td>\n",
       "      <td>0.0</td>\n",
       "      <td>0.0</td>\n",
       "      <td>2.0</td>\n",
       "      <td>0.0</td>\n",
       "      <td>0.0</td>\n",
       "      <td>2.0</td>\n",
       "      <td>0.0</td>\n",
       "      <td>0.0</td>\n",
       "      <td>2.0</td>\n",
       "      <td>...</td>\n",
       "      <td>NaN</td>\n",
       "      <td>0.0</td>\n",
       "      <td>0.0</td>\n",
       "      <td>NaN</td>\n",
       "      <td>0.0</td>\n",
       "      <td>0.0</td>\n",
       "      <td>NaN</td>\n",
       "      <td>0.0</td>\n",
       "      <td>0.0</td>\n",
       "      <td>NaN</td>\n",
       "    </tr>\n",
       "    <tr>\n",
       "      <th>95</th>\n",
       "      <td>2.0</td>\n",
       "      <td>0.0</td>\n",
       "      <td>0.0</td>\n",
       "      <td>2.0</td>\n",
       "      <td>0.0</td>\n",
       "      <td>0.0</td>\n",
       "      <td>2.0</td>\n",
       "      <td>0.0</td>\n",
       "      <td>0.0</td>\n",
       "      <td>2.0</td>\n",
       "      <td>...</td>\n",
       "      <td>NaN</td>\n",
       "      <td>0.0</td>\n",
       "      <td>0.0</td>\n",
       "      <td>NaN</td>\n",
       "      <td>0.0</td>\n",
       "      <td>0.0</td>\n",
       "      <td>NaN</td>\n",
       "      <td>0.0</td>\n",
       "      <td>0.0</td>\n",
       "      <td>NaN</td>\n",
       "    </tr>\n",
       "  </tbody>\n",
       "</table>\n",
       "<p>5 rows × 900 columns</p>\n",
       "</div>"
      ],
      "text/plain": [
       "   -10.0           -9.9            -9.8            -9.7  ...  19.6  19.7       \\\n",
       "     L+R  L-R   LI   L+R  L-R   LI   L+R  L-R   LI   L+R ...    LI   L+R  L-R   \n",
       "75   2.0  0.0  0.0   2.0  0.0  0.0   2.0  0.0  0.0   2.0 ...   NaN   0.0  0.0   \n",
       "80   2.0  0.0  0.0   2.0  0.0  0.0   2.0  0.0  0.0   2.0 ...   NaN   0.0  0.0   \n",
       "85   2.0  0.0  0.0   2.0  0.0  0.0   2.0  0.0  0.0   2.0 ...   NaN   0.0  0.0   \n",
       "90   2.0  0.0  0.0   2.0  0.0  0.0   2.0  0.0  0.0   2.0 ...   NaN   0.0  0.0   \n",
       "95   2.0  0.0  0.0   2.0  0.0  0.0   2.0  0.0  0.0   2.0 ...   NaN   0.0  0.0   \n",
       "\n",
       "        19.8           19.9           \n",
       "    LI   L+R  L-R  LI   L+R  L-R  LI  \n",
       "75 NaN   0.0  0.0 NaN   0.0  0.0 NaN  \n",
       "80 NaN   0.0  0.0 NaN   0.0  0.0 NaN  \n",
       "85 NaN   0.0  0.0 NaN   0.0  0.0 NaN  \n",
       "90 NaN   0.0  0.0 NaN   0.0  0.0 NaN  \n",
       "95 NaN   0.0  0.0 NaN   0.0  0.0 NaN  \n",
       "\n",
       "[5 rows x 900 columns]"
      ]
     },
     "execution_count": 8,
     "metadata": {},
     "output_type": "execute_result"
    }
   ],
   "source": [
    "df.tail()"
   ]
  },
  {
   "cell_type": "code",
   "execution_count": 9,
   "metadata": {
    "scrolled": false
   },
   "outputs": [
    {
     "data": {
      "text/html": [
       "<div>\n",
       "<style>\n",
       "    .dataframe thead tr:only-child th {\n",
       "        text-align: right;\n",
       "    }\n",
       "\n",
       "    .dataframe thead th {\n",
       "        text-align: left;\n",
       "    }\n",
       "\n",
       "    .dataframe tbody tr th {\n",
       "        vertical-align: top;\n",
       "    }\n",
       "</style>\n",
       "<table border=\"1\" class=\"dataframe\">\n",
       "  <thead>\n",
       "    <tr style=\"text-align: right;\">\n",
       "      <th></th>\n",
       "      <th>L+R</th>\n",
       "      <th>L-R</th>\n",
       "      <th>LI</th>\n",
       "    </tr>\n",
       "  </thead>\n",
       "  <tbody>\n",
       "    <tr>\n",
       "      <th>0</th>\n",
       "      <td>1.495994</td>\n",
       "      <td>0.078759</td>\n",
       "      <td>0.052647</td>\n",
       "    </tr>\n",
       "    <tr>\n",
       "      <th>5</th>\n",
       "      <td>1.503161</td>\n",
       "      <td>0.082841</td>\n",
       "      <td>0.055111</td>\n",
       "    </tr>\n",
       "    <tr>\n",
       "      <th>10</th>\n",
       "      <td>1.509814</td>\n",
       "      <td>0.087470</td>\n",
       "      <td>0.057934</td>\n",
       "    </tr>\n",
       "    <tr>\n",
       "      <th>15</th>\n",
       "      <td>1.515057</td>\n",
       "      <td>0.091834</td>\n",
       "      <td>0.060614</td>\n",
       "    </tr>\n",
       "    <tr>\n",
       "      <th>20</th>\n",
       "      <td>1.521087</td>\n",
       "      <td>0.096090</td>\n",
       "      <td>0.063172</td>\n",
       "    </tr>\n",
       "    <tr>\n",
       "      <th>25</th>\n",
       "      <td>1.527040</td>\n",
       "      <td>0.101620</td>\n",
       "      <td>0.066547</td>\n",
       "    </tr>\n",
       "    <tr>\n",
       "      <th>30</th>\n",
       "      <td>1.534045</td>\n",
       "      <td>0.105844</td>\n",
       "      <td>0.068997</td>\n",
       "    </tr>\n",
       "    <tr>\n",
       "      <th>35</th>\n",
       "      <td>1.541419</td>\n",
       "      <td>0.111256</td>\n",
       "      <td>0.072178</td>\n",
       "    </tr>\n",
       "    <tr>\n",
       "      <th>40</th>\n",
       "      <td>1.551400</td>\n",
       "      <td>0.115466</td>\n",
       "      <td>0.074427</td>\n",
       "    </tr>\n",
       "    <tr>\n",
       "      <th>45</th>\n",
       "      <td>1.559497</td>\n",
       "      <td>0.120977</td>\n",
       "      <td>0.077574</td>\n",
       "    </tr>\n",
       "    <tr>\n",
       "      <th>50</th>\n",
       "      <td>1.570178</td>\n",
       "      <td>0.124882</td>\n",
       "      <td>0.079534</td>\n",
       "    </tr>\n",
       "    <tr>\n",
       "      <th>55</th>\n",
       "      <td>1.582113</td>\n",
       "      <td>0.126225</td>\n",
       "      <td>0.079782</td>\n",
       "    </tr>\n",
       "    <tr>\n",
       "      <th>60</th>\n",
       "      <td>1.589380</td>\n",
       "      <td>0.129161</td>\n",
       "      <td>0.081265</td>\n",
       "    </tr>\n",
       "    <tr>\n",
       "      <th>65</th>\n",
       "      <td>1.595996</td>\n",
       "      <td>0.131882</td>\n",
       "      <td>0.082633</td>\n",
       "    </tr>\n",
       "    <tr>\n",
       "      <th>70</th>\n",
       "      <td>1.603494</td>\n",
       "      <td>0.138405</td>\n",
       "      <td>0.086314</td>\n",
       "    </tr>\n",
       "    <tr>\n",
       "      <th>75</th>\n",
       "      <td>1.608202</td>\n",
       "      <td>0.149168</td>\n",
       "      <td>0.092754</td>\n",
       "    </tr>\n",
       "    <tr>\n",
       "      <th>80</th>\n",
       "      <td>1.621658</td>\n",
       "      <td>0.165425</td>\n",
       "      <td>0.102010</td>\n",
       "    </tr>\n",
       "    <tr>\n",
       "      <th>85</th>\n",
       "      <td>1.636880</td>\n",
       "      <td>0.180699</td>\n",
       "      <td>0.110393</td>\n",
       "    </tr>\n",
       "    <tr>\n",
       "      <th>90</th>\n",
       "      <td>1.651607</td>\n",
       "      <td>0.193304</td>\n",
       "      <td>0.117040</td>\n",
       "    </tr>\n",
       "    <tr>\n",
       "      <th>95</th>\n",
       "      <td>1.643642</td>\n",
       "      <td>0.201107</td>\n",
       "      <td>0.122354</td>\n",
       "    </tr>\n",
       "  </tbody>\n",
       "</table>\n",
       "</div>"
      ],
      "text/plain": [
       "         L+R       L-R        LI\n",
       "0   1.495994  0.078759  0.052647\n",
       "5   1.503161  0.082841  0.055111\n",
       "10  1.509814  0.087470  0.057934\n",
       "15  1.515057  0.091834  0.060614\n",
       "20  1.521087  0.096090  0.063172\n",
       "25  1.527040  0.101620  0.066547\n",
       "30  1.534045  0.105844  0.068997\n",
       "35  1.541419  0.111256  0.072178\n",
       "40  1.551400  0.115466  0.074427\n",
       "45  1.559497  0.120977  0.077574\n",
       "50  1.570178  0.124882  0.079534\n",
       "55  1.582113  0.126225  0.079782\n",
       "60  1.589380  0.129161  0.081265\n",
       "65  1.595996  0.131882  0.082633\n",
       "70  1.603494  0.138405  0.086314\n",
       "75  1.608202  0.149168  0.092754\n",
       "80  1.621658  0.165425  0.102010\n",
       "85  1.636880  0.180699  0.110393\n",
       "90  1.651607  0.193304  0.117040\n",
       "95  1.643642  0.201107  0.122354"
      ]
     },
     "execution_count": 9,
     "metadata": {},
     "output_type": "execute_result"
    }
   ],
   "source": [
    "df.loc[:,-3.0]"
   ]
  },
  {
   "cell_type": "markdown",
   "metadata": {},
   "source": [
    "### get labels into integer form"
   ]
  },
  {
   "cell_type": "markdown",
   "metadata": {},
   "source": [
    "Initialize a Labeler, which allows to switch from string labels (e.g. \"left\" to integer labels e.g. 0 and back)."
   ]
  },
  {
   "cell_type": "code",
   "execution_count": 10,
   "metadata": {
    "collapsed": true
   },
   "outputs": [],
   "source": [
    "myLabeler = pickle.load( open('../models/myLabeler.p','rb') )"
   ]
  },
  {
   "cell_type": "markdown",
   "metadata": {},
   "source": [
    "## divide into training and test data"
   ]
  },
  {
   "cell_type": "code",
   "execution_count": 11,
   "metadata": {
    "collapsed": true
   },
   "outputs": [],
   "source": [
    "my_train = pickle.load( open('../models/my_nest.p','rb'))"
   ]
  },
  {
   "cell_type": "markdown",
   "metadata": {},
   "source": [
    "### get all data"
   ]
  },
  {
   "cell_type": "code",
   "execution_count": 12,
   "metadata": {
    "collapsed": true
   },
   "outputs": [],
   "source": [
    "csvList = ['../data/interim/csv/%s'%x for x in os.listdir('../data/interim/csv/') if x.startswith('roiLaterality_pat')]\n",
    "csvList.sort()"
   ]
  },
  {
   "cell_type": "code",
   "execution_count": null,
   "metadata": {},
   "outputs": [],
   "source": [
    "csvList[-5:]"
   ]
  },
  {
   "cell_type": "code",
   "execution_count": 14,
   "metadata": {
    "collapsed": true
   },
   "outputs": [],
   "source": [
    "def makeDf(csvList,trainOrTest):\n",
    "    df = pd.DataFrame()\n",
    "    for pat in csvList:\n",
    "        for lab in trainOrTest:\n",
    "            if lab[-1] in pat:\n",
    "                thisDf = pd.DataFrame([pat],index=[[lab[0]],[lab[1]]])\n",
    "                df = pd.concat([df,thisDf])\n",
    "    df.columns = ['csv']\n",
    "    return df"
   ]
  },
  {
   "cell_type": "code",
   "execution_count": 15,
   "metadata": {
    "collapsed": true
   },
   "outputs": [],
   "source": [
    "dfTrain = makeDf(csvList,my_train)"
   ]
  },
  {
   "cell_type": "code",
   "execution_count": null,
   "metadata": {},
   "outputs": [],
   "source": [
    "dfTrain.tail()"
   ]
  },
  {
   "cell_type": "code",
   "execution_count": 17,
   "metadata": {},
   "outputs": [
    {
     "data": {
      "text/plain": [
       "(521, 1)"
      ]
     },
     "execution_count": 17,
     "metadata": {},
     "output_type": "execute_result"
    }
   ],
   "source": [
    "dfTrain.shape"
   ]
  },
  {
   "cell_type": "code",
   "execution_count": 18,
   "metadata": {
    "collapsed": true
   },
   "outputs": [],
   "source": [
    "def getAll(dfTrain):\n",
    "    \n",
    "    bigDf = pd.DataFrame()\n",
    "    \n",
    "    for i in dfTrain.index:\n",
    "        \n",
    "        csv = dfTrain.loc[i]['csv']\n",
    "        df = changeDf( pd.read_csv(csv,index_col=[0],header=[0,1]) )\n",
    "        thisDf = pd.DataFrame( df.unstack() ).T\n",
    "        thisDf.index = [[i[0]],[i[1]]]\n",
    "        bigDf = pd.concat([bigDf,thisDf])\n",
    "        \n",
    "    bigDf = bigDf.reorder_levels([1,2,0],axis=1)\n",
    "    bigDf.sort_index(inplace=True)\n",
    "\n",
    "    return bigDf"
   ]
  },
  {
   "cell_type": "code",
   "execution_count": 19,
   "metadata": {
    "collapsed": true
   },
   "outputs": [],
   "source": [
    "df = getAll(dfTrain)"
   ]
  },
  {
   "cell_type": "code",
   "execution_count": null,
   "metadata": {
    "scrolled": false
   },
   "outputs": [],
   "source": [
    "df.tail()"
   ]
  },
  {
   "cell_type": "code",
   "execution_count": 64,
   "metadata": {},
   "outputs": [
    {
     "data": {
      "text/plain": [
       "(521, 18000)"
      ]
     },
     "execution_count": 64,
     "metadata": {},
     "output_type": "execute_result"
    }
   ],
   "source": [
    "df.shape"
   ]
  },
  {
   "cell_type": "markdown",
   "metadata": {},
   "source": [
    "### get features and labels into arrays"
   ]
  },
  {
   "cell_type": "code",
   "execution_count": 22,
   "metadata": {
    "collapsed": true
   },
   "outputs": [],
   "source": [
    "def makeXy(roiSize,thresh,dims,df=df,myLabeler=myLabeler):\n",
    "    \n",
    "    if dims==1:\n",
    "        # select the data\n",
    "        thisDf = pd.DataFrame( df['LI'][roiSize][thresh] )\n",
    "    elif dims==2:\n",
    "        diffDf = pd.DataFrame( df['L-R'][roiSize][thresh] )\n",
    "        addDf = pd.DataFrame( df['L+R'][roiSize][thresh] )\n",
    "        thisDf = pd.concat([diffDf,addDf],axis=1 )\n",
    "    # make int labels\n",
    "    labels = thisDf.index.get_level_values(0)#[ thisDf.index.levels[0][x] for x in thisDf.index.labels[0] ]\n",
    "    y = myLabeler.fit_transform(labels)\n",
    "\n",
    "    # put features into matrix\n",
    "    X = np.array( thisDf ).reshape(-1,thisDf.shape[-1])\n",
    "    \n",
    "    return X,y"
   ]
  },
  {
   "cell_type": "code",
   "execution_count": 23,
   "metadata": {
    "collapsed": true
   },
   "outputs": [],
   "source": [
    "X,y = makeXy(50,3.0,dims=2)"
   ]
  },
  {
   "cell_type": "code",
   "execution_count": 24,
   "metadata": {
    "scrolled": true
   },
   "outputs": [
    {
     "data": {
      "text/plain": [
       "array([[ 0.04018303,  0.27935426],\n",
       "       [ 0.11071595,  0.28089717],\n",
       "       [ 0.0669625 ,  0.32709931],\n",
       "       ..., \n",
       "       [-0.05545634,  0.16030088],\n",
       "       [-0.00308276,  0.05656758],\n",
       "       [-0.10056876,  0.18701565]])"
      ]
     },
     "execution_count": 24,
     "metadata": {},
     "output_type": "execute_result"
    }
   ],
   "source": [
    "X"
   ]
  },
  {
   "cell_type": "code",
   "execution_count": 25,
   "metadata": {
    "collapsed": true
   },
   "outputs": [],
   "source": [
    "X,y =  makeXy(50,3.0,dims=1)"
   ]
  },
  {
   "cell_type": "code",
   "execution_count": 72,
   "metadata": {},
   "outputs": [
    {
     "data": {
      "text/plain": [
       "[(array([ 0.14384255]), 0),\n",
       " (array([ 0.16110498]), 0),\n",
       " (array([ 0.21707046]), 0),\n",
       " (array([ 0.00624919]), 1),\n",
       " (array([ 0.70587051]), 1),\n",
       " (array([ 0.13339308]), 1),\n",
       " (array([-0.02731937]), 1),\n",
       " (array([ 0.31087715]), 2),\n",
       " (array([ 0.76318893]), 2),\n",
       " (array([ 0.25510519]), 2),\n",
       " (array([ 0.58986949]), 2),\n",
       " (array([ 0.34182313]), 2),\n",
       " (array([ 0.54352429]), 2),\n",
       " (array([ 0.35409723]), 2),\n",
       " (array([ 0.26630242]), 2),\n",
       " (array([ 0.93941679]), 2),\n",
       " (array([ 0.85517831]), 2),\n",
       " (array([ 0.87120038]), 2),\n",
       " (array([ 0.458595]), 2),\n",
       " (array([ 0.28711972]), 2),\n",
       " (array([ 0.80873953]), 2),\n",
       " (array([ 0.53069617]), 2),\n",
       " (array([ 0.52682235]), 2),\n",
       " (array([ 0.6676319]), 2),\n",
       " (array([ 0.5446064]), 2),\n",
       " (array([-0.06302284]), 3),\n",
       " (array([-0.53775586]), 3)]"
      ]
     },
     "execution_count": 72,
     "metadata": {},
     "output_type": "execute_result"
    }
   ],
   "source": [
    "zip(X[::20],y[::20])"
   ]
  },
  {
   "cell_type": "markdown",
   "metadata": {},
   "source": [
    "### split the nest set into training and validation set"
   ]
  },
  {
   "cell_type": "code",
   "execution_count": 28,
   "metadata": {
    "collapsed": true
   },
   "outputs": [],
   "source": [
    "def dropNans(X,y):\n",
    "    # get rid of nans for (because they throw an error when we try to fit the classifier)\n",
    "    \n",
    "    # this works also for multi-feature X (each observation row has multiple columns/features)\n",
    "    noNanTrain = np.where(np.isnan(X).sum(axis=1)==False)\n",
    "    \n",
    "    # X and y need to be changed, otherwise the order of real and predicted labels\n",
    "    # will not match\n",
    "    X = X[noNanTrain[0]]\n",
    "    y = y[noNanTrain[0]]\n",
    "    return X,y"
   ]
  },
  {
   "cell_type": "code",
   "execution_count": 29,
   "metadata": {
    "collapsed": true
   },
   "outputs": [],
   "source": [
    "def dropInc(X,y,myLabeler=myLabeler):\n",
    "\n",
    "    # here, we use the labels (y) to find and exclude inconclusive cases\n",
    "    noInc = np.where(y!=myLabeler.transform(['inconclusive'])[-1])\n",
    "    \n",
    "    # both X and y need to be changed\n",
    "    X = X[noInc[0]]\n",
    "    y = y[noInc[0]]\n",
    "    \n",
    "    return X,y"
   ]
  },
  {
   "cell_type": "code",
   "execution_count": 30,
   "metadata": {
    "collapsed": true
   },
   "outputs": [],
   "source": [
    "def makeSplit(X,y,rdState=1,drop=True):\n",
    "    \n",
    "    thisSplit = model_selection.StratifiedShuffleSplit(n_splits=1,test_size=0.5,random_state=rdState)\n",
    "    \n",
    "    for train_index,validate_index in thisSplit.split(X,y):\n",
    "        X_train,X_validate = X[train_index],X[validate_index]\n",
    "        y_train,y_validate = y[train_index],y[validate_index]\n",
    "\n",
    "    # for training, we cannot use nans, but for testing, we can later hard-code that\n",
    "    # any nan should be classified as inconclusive\n",
    "    X_train,y_train = dropNans(X_train,y_train)\n",
    "    \n",
    "    if drop:\n",
    "        X_train,y_train = dropInc(X_train,y_train)\n",
    "        X_validate,y_validate = dropInc(X_validate,y_validate)\n",
    "\n",
    "    return X_train,X_validate,y_train,y_validate"
   ]
  },
  {
   "cell_type": "code",
   "execution_count": 31,
   "metadata": {
    "collapsed": true
   },
   "outputs": [],
   "source": [
    "X_train,X_validate,y_train,y_validate = makeSplit(X,y,rdState=1,drop=False)"
   ]
  },
  {
   "cell_type": "code",
   "execution_count": 32,
   "metadata": {},
   "outputs": [
    {
     "name": "stdout",
     "output_type": "stream",
     "text": [
      "(257, 1)\n"
     ]
    }
   ],
   "source": [
    "print X_train.shape"
   ]
  },
  {
   "cell_type": "markdown",
   "metadata": {},
   "source": [
    "now both x and y are divided into two halves"
   ]
  },
  {
   "cell_type": "code",
   "execution_count": 33,
   "metadata": {},
   "outputs": [
    {
     "name": "stdout",
     "output_type": "stream",
     "text": [
      "(257, 1) (261, 1) (257,) (261,)\n"
     ]
    }
   ],
   "source": [
    "print X_train.shape,X_validate.shape,y_train.shape,y_validate.shape"
   ]
  },
  {
   "cell_type": "code",
   "execution_count": 34,
   "metadata": {},
   "outputs": [
    {
     "data": {
      "text/plain": [
       "array([[ 0.52336761],\n",
       "       [ 0.53256946],\n",
       "       [ 0.3627661 ],\n",
       "       [ 0.84919677],\n",
       "       [ 1.        ]])"
      ]
     },
     "execution_count": 34,
     "metadata": {},
     "output_type": "execute_result"
    }
   ],
   "source": [
    "X_train[-5:]"
   ]
  },
  {
   "cell_type": "markdown",
   "metadata": {},
   "source": [
    "### fit the classifier to the training data"
   ]
  },
  {
   "cell_type": "code",
   "execution_count": 35,
   "metadata": {
    "collapsed": true
   },
   "outputs": [],
   "source": [
    "def makeFit(X_train,y_train):\n",
    "    \n",
    "    scaler = preprocessing.StandardScaler()\n",
    "    X_train_std = scaler.fit_transform(X_train)\n",
    "\n",
    "    clf = SVC(kernel='linear', C=1.0, probability=True,random_state=0)\n",
    "    clf.fit(X_train_std,y_train)\n",
    "    \n",
    "    return clf,scaler"
   ]
  },
  {
   "cell_type": "code",
   "execution_count": 36,
   "metadata": {
    "collapsed": true
   },
   "outputs": [],
   "source": [
    "clf,scaler = makeFit(X_train,y_train)"
   ]
  },
  {
   "cell_type": "markdown",
   "metadata": {},
   "source": [
    "### use the classifier to predict the left-out validation data"
   ]
  },
  {
   "cell_type": "code",
   "execution_count": 37,
   "metadata": {
    "collapsed": true,
    "scrolled": true
   },
   "outputs": [],
   "source": [
    "def makeYPreds(X_validate,clf,scaler,myLabeler=myLabeler):\n",
    "    \n",
    "    y_pred = []\n",
    "\n",
    "    for x in X_validate:\n",
    "        \n",
    "        # when there is no LI, we consider the case to be inconclusive\n",
    "        if np.isnan(x).any():\n",
    "            pred = myLabeler.transform(['inconclusive'])[-1]\n",
    "            \n",
    "        # otherwise we apply the acutal classifier\n",
    "        else:\n",
    "            scaledX = scaler.transform( x.reshape(1,-1) )\n",
    "            pred = clf.predict(scaledX)[-1]\n",
    "            \n",
    "        y_pred.append(pred)\n",
    "    \n",
    "    return np.array(y_pred)"
   ]
  },
  {
   "cell_type": "code",
   "execution_count": 38,
   "metadata": {
    "collapsed": true
   },
   "outputs": [],
   "source": [
    "y_pred = makeYPreds(X_validate,clf,scaler)"
   ]
  },
  {
   "cell_type": "code",
   "execution_count": 39,
   "metadata": {},
   "outputs": [
    {
     "name": "stdout",
     "output_type": "stream",
     "text": [
      "[2 2 2 2 2 2 2 2 2 0 2 2 2 2 2 2 2 2 2 2 2 3 2 2 2 2 2 0 2 2 0 2 2 2 2 2 3\n",
      " 2 2 2 2 0 2 2 0 2 1 2 2 3 2 2 2 2 2 2 2 2 2 2 2 2 2 0 2 2 2 2 3 2 2 2 0 2\n",
      " 2 2 2 2 0 2 1 0 2 2 2 3 2 0 2 2 2 2 2 2 2 2 2 3 2 2 2 2 2 2 2 2 2 2 2 2 3\n",
      " 2 2 2 2 2 0 0 2 2 2 2 0 0 3 2 2 2 3 2 2 2 2 2 0 2 2 0 3 2 2 2 0 2 2 2 2 2\n",
      " 2 2 2 2 2 2 2 2 2 2 0 1 2 2 2 2 2 2 0 2 2 0 2 0 2 0 0 3 2 2 0 0 2 2 2 2 2\n",
      " 2 2 2 2 2 2 2 3 2 2 2 2 0 2 2 3 0 2 3 1 2 0 2 3 2 2 3 2 0 2 2 2 2 2 2 2 2\n",
      " 2 2 2 2 2 2 2 2 2 2 3 2 2 0 2 2 2 2 2 2 0 0 2 2 2 2 2 1 0 2 2 2 0 2 2 2 2\n",
      " 2 2]\n"
     ]
    }
   ],
   "source": [
    "print y_pred"
   ]
  },
  {
   "cell_type": "markdown",
   "metadata": {},
   "source": [
    "### get confusion matrix from prediction of testing data"
   ]
  },
  {
   "cell_type": "code",
   "execution_count": 40,
   "metadata": {
    "collapsed": true
   },
   "outputs": [],
   "source": [
    "def makeCm(X_validate,y_validate,y_pred,clf,scaler,myLabeler=myLabeler):\n",
    "\n",
    "    # predictions of left-out data\n",
    "    y_pred = makeYPreds(X_validate,clf,scaler)\n",
    "    # confusion matrix -- input y and y_pred -- result: true in rows, pred in columns\n",
    "    cm = metrics.confusion_matrix(y_validate,y_pred)\n",
    "\n",
    "    # put into df\n",
    "    cmDf = pd.DataFrame(cm)\n",
    "\n",
    "    # get the naming right\n",
    "    try:\n",
    "        theseLabels = myLabeler.inverse_transform( np.unique(y_validate) )\n",
    "        cmDf.index = theseLabels\n",
    "        cmDf.columns = theseLabels\n",
    "    except:\n",
    "        theseLabels = myLabeler.classes_\n",
    "        cmDf.index = theseLabels\n",
    "        cmDf.columns = theseLabels       \n",
    "\n",
    "    # make better order\n",
    "    theseLabels = ['left','bilateral','right','inconclusive']\n",
    "    cmDf = cmDf.reindex(index=theseLabels)\n",
    "    cmDf = cmDf.reindex(columns=theseLabels)\n",
    "    \n",
    "    cmDf.index = [['True label']*cmDf.shape[0],theseLabels]\n",
    "    cmDf.columns = [['Predicted label']*cmDf.shape[1],theseLabels]\n",
    "\n",
    "    return cmDf"
   ]
  },
  {
   "cell_type": "code",
   "execution_count": 41,
   "metadata": {
    "collapsed": true
   },
   "outputs": [],
   "source": [
    "cmDf = makeCm(X_validate,y_validate,y_pred,clf,scaler)"
   ]
  },
  {
   "cell_type": "code",
   "execution_count": 42,
   "metadata": {},
   "outputs": [
    {
     "data": {
      "text/html": [
       "<div>\n",
       "<style>\n",
       "    .dataframe thead tr:only-child th {\n",
       "        text-align: right;\n",
       "    }\n",
       "\n",
       "    .dataframe thead th {\n",
       "        text-align: left;\n",
       "    }\n",
       "\n",
       "    .dataframe tbody tr th {\n",
       "        vertical-align: top;\n",
       "    }\n",
       "</style>\n",
       "<table border=\"1\" class=\"dataframe\">\n",
       "  <thead>\n",
       "    <tr>\n",
       "      <th></th>\n",
       "      <th></th>\n",
       "      <th colspan=\"4\" halign=\"left\">Predicted label</th>\n",
       "    </tr>\n",
       "    <tr>\n",
       "      <th></th>\n",
       "      <th></th>\n",
       "      <th>left</th>\n",
       "      <th>bilateral</th>\n",
       "      <th>right</th>\n",
       "      <th>inconclusive</th>\n",
       "    </tr>\n",
       "  </thead>\n",
       "  <tbody>\n",
       "    <tr>\n",
       "      <th rowspan=\"4\" valign=\"top\">True label</th>\n",
       "      <th>left</th>\n",
       "      <td>174</td>\n",
       "      <td>2</td>\n",
       "      <td>0</td>\n",
       "      <td>0</td>\n",
       "    </tr>\n",
       "    <tr>\n",
       "      <th>bilateral</th>\n",
       "      <td>11</td>\n",
       "      <td>14</td>\n",
       "      <td>0</td>\n",
       "      <td>0</td>\n",
       "    </tr>\n",
       "    <tr>\n",
       "      <th>right</th>\n",
       "      <td>0</td>\n",
       "      <td>3</td>\n",
       "      <td>10</td>\n",
       "      <td>2</td>\n",
       "    </tr>\n",
       "    <tr>\n",
       "      <th>inconclusive</th>\n",
       "      <td>20</td>\n",
       "      <td>15</td>\n",
       "      <td>7</td>\n",
       "      <td>3</td>\n",
       "    </tr>\n",
       "  </tbody>\n",
       "</table>\n",
       "</div>"
      ],
      "text/plain": [
       "                        Predicted label                             \n",
       "                                   left bilateral right inconclusive\n",
       "True label left                     174         2     0            0\n",
       "           bilateral                 11        14     0            0\n",
       "           right                      0         3    10            2\n",
       "           inconclusive              20        15     7            3"
      ]
     },
     "execution_count": 42,
     "metadata": {},
     "output_type": "execute_result"
    }
   ],
   "source": [
    "cmDf"
   ]
  },
  {
   "cell_type": "markdown",
   "metadata": {},
   "source": [
    "### scale confusion matrix by total number of cases"
   ]
  },
  {
   "cell_type": "code",
   "execution_count": 43,
   "metadata": {
    "collapsed": true
   },
   "outputs": [],
   "source": [
    "def makeScaleCm(cmDf):\n",
    "    return ( cmDf.astype(float).T/cmDf.sum(axis=1) ).T"
   ]
  },
  {
   "cell_type": "code",
   "execution_count": 44,
   "metadata": {
    "collapsed": true
   },
   "outputs": [],
   "source": [
    "cmScaleDf = makeScaleCm(cmDf)"
   ]
  },
  {
   "cell_type": "code",
   "execution_count": 45,
   "metadata": {},
   "outputs": [
    {
     "data": {
      "text/html": [
       "<div>\n",
       "<style>\n",
       "    .dataframe thead tr:only-child th {\n",
       "        text-align: right;\n",
       "    }\n",
       "\n",
       "    .dataframe thead th {\n",
       "        text-align: left;\n",
       "    }\n",
       "\n",
       "    .dataframe tbody tr th {\n",
       "        vertical-align: top;\n",
       "    }\n",
       "</style>\n",
       "<table border=\"1\" class=\"dataframe\">\n",
       "  <thead>\n",
       "    <tr>\n",
       "      <th></th>\n",
       "      <th></th>\n",
       "      <th colspan=\"4\" halign=\"left\">Predicted label</th>\n",
       "    </tr>\n",
       "    <tr>\n",
       "      <th></th>\n",
       "      <th></th>\n",
       "      <th>left</th>\n",
       "      <th>bilateral</th>\n",
       "      <th>right</th>\n",
       "      <th>inconclusive</th>\n",
       "    </tr>\n",
       "  </thead>\n",
       "  <tbody>\n",
       "    <tr>\n",
       "      <th rowspan=\"4\" valign=\"top\">True label</th>\n",
       "      <th>left</th>\n",
       "      <td>0.988636</td>\n",
       "      <td>0.011364</td>\n",
       "      <td>0.000000</td>\n",
       "      <td>0.000000</td>\n",
       "    </tr>\n",
       "    <tr>\n",
       "      <th>bilateral</th>\n",
       "      <td>0.440000</td>\n",
       "      <td>0.560000</td>\n",
       "      <td>0.000000</td>\n",
       "      <td>0.000000</td>\n",
       "    </tr>\n",
       "    <tr>\n",
       "      <th>right</th>\n",
       "      <td>0.000000</td>\n",
       "      <td>0.200000</td>\n",
       "      <td>0.666667</td>\n",
       "      <td>0.133333</td>\n",
       "    </tr>\n",
       "    <tr>\n",
       "      <th>inconclusive</th>\n",
       "      <td>0.444444</td>\n",
       "      <td>0.333333</td>\n",
       "      <td>0.155556</td>\n",
       "      <td>0.066667</td>\n",
       "    </tr>\n",
       "  </tbody>\n",
       "</table>\n",
       "</div>"
      ],
      "text/plain": [
       "                        Predicted label                                 \n",
       "                                   left bilateral     right inconclusive\n",
       "True label left                0.988636  0.011364  0.000000     0.000000\n",
       "           bilateral           0.440000  0.560000  0.000000     0.000000\n",
       "           right               0.000000  0.200000  0.666667     0.133333\n",
       "           inconclusive        0.444444  0.333333  0.155556     0.066667"
      ]
     },
     "execution_count": 45,
     "metadata": {},
     "output_type": "execute_result"
    }
   ],
   "source": [
    "cmScaleDf"
   ]
  },
  {
   "cell_type": "markdown",
   "metadata": {},
   "source": [
    "sanity check: true labels for each class should add up to one"
   ]
  },
  {
   "cell_type": "code",
   "execution_count": 46,
   "metadata": {},
   "outputs": [
    {
     "data": {
      "text/plain": [
       "True label  left            1.0\n",
       "            bilateral       1.0\n",
       "            right           1.0\n",
       "            inconclusive    1.0\n",
       "dtype: float64"
      ]
     },
     "execution_count": 46,
     "metadata": {},
     "output_type": "execute_result"
    }
   ],
   "source": [
    "cmScaleDf.T.sum()"
   ]
  },
  {
   "cell_type": "markdown",
   "metadata": {},
   "source": [
    "### get diagonal (correct answers only)"
   ]
  },
  {
   "cell_type": "code",
   "execution_count": 47,
   "metadata": {
    "collapsed": true
   },
   "outputs": [],
   "source": [
    "def makeDiagCm(cmDf,idx):\n",
    "    \n",
    "    # get diagonal\n",
    "    diagDf = pd.DataFrame(np.diagonal(cmDf)).T\n",
    "    diagDf.index=idx\n",
    "    diagDf.columns=cmDf.columns\n",
    "    \n",
    "    return diagDf"
   ]
  },
  {
   "cell_type": "code",
   "execution_count": 48,
   "metadata": {
    "collapsed": true
   },
   "outputs": [],
   "source": [
    "diagDf = makeDiagCm(cmDf,[['diag'],[0]])"
   ]
  },
  {
   "cell_type": "code",
   "execution_count": 49,
   "metadata": {},
   "outputs": [
    {
     "data": {
      "text/html": [
       "<div>\n",
       "<style>\n",
       "    .dataframe thead tr:only-child th {\n",
       "        text-align: right;\n",
       "    }\n",
       "\n",
       "    .dataframe thead th {\n",
       "        text-align: left;\n",
       "    }\n",
       "\n",
       "    .dataframe tbody tr th {\n",
       "        vertical-align: top;\n",
       "    }\n",
       "</style>\n",
       "<table border=\"1\" class=\"dataframe\">\n",
       "  <thead>\n",
       "    <tr>\n",
       "      <th></th>\n",
       "      <th></th>\n",
       "      <th colspan=\"4\" halign=\"left\">Predicted label</th>\n",
       "    </tr>\n",
       "    <tr>\n",
       "      <th></th>\n",
       "      <th></th>\n",
       "      <th>left</th>\n",
       "      <th>bilateral</th>\n",
       "      <th>right</th>\n",
       "      <th>inconclusive</th>\n",
       "    </tr>\n",
       "  </thead>\n",
       "  <tbody>\n",
       "    <tr>\n",
       "      <th>diag</th>\n",
       "      <th>0</th>\n",
       "      <td>174</td>\n",
       "      <td>14</td>\n",
       "      <td>10</td>\n",
       "      <td>3</td>\n",
       "    </tr>\n",
       "  </tbody>\n",
       "</table>\n",
       "</div>"
      ],
      "text/plain": [
       "       Predicted label                             \n",
       "                  left bilateral right inconclusive\n",
       "diag 0             174        14    10            3"
      ]
     },
     "execution_count": 49,
     "metadata": {},
     "output_type": "execute_result"
    }
   ],
   "source": [
    "diagDf"
   ]
  },
  {
   "cell_type": "markdown",
   "metadata": {},
   "source": [
    "### get accuracy from diagonal"
   ]
  },
  {
   "cell_type": "code",
   "execution_count": 50,
   "metadata": {
    "collapsed": true
   },
   "outputs": [],
   "source": [
    "def getAcc(cmDf,drop=True):\n",
    "    \n",
    "    # get absolute count of hits (diagonal)\n",
    "    n_diag = makeDiagCm(cmDf,[['total'],['total']]).sum(axis=1).values[-1]\n",
    "\n",
    "    # get absolute count of all test data\n",
    "    n_total = cmDf.sum().sum()\n",
    "\n",
    "    # get proportion\n",
    "    prop = n_diag/float(n_total)\n",
    "\n",
    "    \n",
    "    return pd.DataFrame([prop],index=['acc']).T"
   ]
  },
  {
   "cell_type": "code",
   "execution_count": 51,
   "metadata": {},
   "outputs": [
    {
     "data": {
      "text/html": [
       "<div>\n",
       "<style>\n",
       "    .dataframe thead tr:only-child th {\n",
       "        text-align: right;\n",
       "    }\n",
       "\n",
       "    .dataframe thead th {\n",
       "        text-align: left;\n",
       "    }\n",
       "\n",
       "    .dataframe tbody tr th {\n",
       "        vertical-align: top;\n",
       "    }\n",
       "</style>\n",
       "<table border=\"1\" class=\"dataframe\">\n",
       "  <thead>\n",
       "    <tr style=\"text-align: right;\">\n",
       "      <th></th>\n",
       "      <th>acc</th>\n",
       "    </tr>\n",
       "  </thead>\n",
       "  <tbody>\n",
       "    <tr>\n",
       "      <th>0</th>\n",
       "      <td>0.770115</td>\n",
       "    </tr>\n",
       "  </tbody>\n",
       "</table>\n",
       "</div>"
      ],
      "text/plain": [
       "        acc\n",
       "0  0.770115"
      ]
     },
     "execution_count": 51,
     "metadata": {},
     "output_type": "execute_result"
    }
   ],
   "source": [
    "getAcc(cmDf,drop=True)"
   ]
  },
  {
   "cell_type": "markdown",
   "metadata": {},
   "source": [
    "### Train in  nested way"
   ]
  },
  {
   "cell_type": "code",
   "execution_count": 52,
   "metadata": {
    "collapsed": true
   },
   "outputs": [],
   "source": [
    "def getClfs(roiSize,dims,n_iter=100,drop=True):\n",
    "\n",
    "    clfDict = {}\n",
    "    accDict = {}\n",
    "\n",
    "    #for threshold in df.columns:\n",
    "    for threshold in np.arange(-5,15,0.2):\n",
    "        # get the LIs for a threshold\n",
    "        X,y = makeXy(roiSize,round(threshold,2),dims)\n",
    "        # split into train and test\n",
    "        \n",
    "        thisAcc = []\n",
    "        \n",
    "        for r in range(n_iter):\n",
    "            \n",
    "            X_train,X_validate,y_train,y_validate = makeSplit(X,y,rdState=r,drop=drop)\n",
    "\n",
    "            # train the classifer\n",
    "            clf,scaler = makeFit(X_train,y_train)\n",
    "            # make the predictions\n",
    "            y_pred = makeYPreds(X_validate,clf,scaler)\n",
    "            # get the confusion matrix\n",
    "            cmDf = makeCm(X_validate,y_validate,y_pred,clf,scaler)\n",
    "            # get the diagonal (correct responses)\n",
    "            diagDf = makeDiagCm(cmDf,[['diag'],[0]])    \n",
    "        \n",
    "            thisAcc.append( getAcc(cmDf).iloc[0].acc )\n",
    "        \n",
    "        # store the classifier and the scaler, but trained on the whole data,\n",
    "        # because we will later apply it to the left-out dataset\n",
    "        X,y = dropNans(X,y)\n",
    "        \n",
    "        if drop:\n",
    "            X,y = dropInc(X,y)\n",
    "            \n",
    "        clf,scaler = makeFit(X,y)\n",
    "        clfDict[round(threshold,1)] = {'clf':clf,'scaler':scaler}\n",
    "        \n",
    "        # store the average performance for the left-out data using the nested-cv results above\n",
    "        accDict[round(threshold,1)] = np.mean(thisAcc)\n",
    "\n",
    "    return clfDict,accDict"
   ]
  },
  {
   "cell_type": "markdown",
   "metadata": {},
   "source": [
    "Example for one ROI size (df)"
   ]
  },
  {
   "cell_type": "code",
   "execution_count": 53,
   "metadata": {
    "collapsed": true,
    "scrolled": true
   },
   "outputs": [],
   "source": [
    "clfDict,accDict = getClfs(50,1,n_iter=1,drop=True)"
   ]
  },
  {
   "cell_type": "markdown",
   "metadata": {},
   "source": [
    "Example of a stored classifer-scaler pair"
   ]
  },
  {
   "cell_type": "code",
   "execution_count": 54,
   "metadata": {},
   "outputs": [
    {
     "name": "stdout",
     "output_type": "stream",
     "text": [
      "{'clf': SVC(C=1.0, cache_size=200, class_weight=None, coef0=0.0,\n",
      "  decision_function_shape=None, degree=3, gamma='auto', kernel='linear',\n",
      "  max_iter=-1, probability=True, random_state=0, shrinking=True, tol=0.001,\n",
      "  verbose=False), 'scaler': StandardScaler(copy=True, with_mean=True, with_std=True)}\n"
     ]
    }
   ],
   "source": [
    "print clfDict[clfDict.keys()[-1]]"
   ]
  },
  {
   "cell_type": "markdown",
   "metadata": {},
   "source": [
    "Example of the accuracies for all thresholds of one ROI size:"
   ]
  },
  {
   "cell_type": "code",
   "execution_count": 55,
   "metadata": {},
   "outputs": [
    {
     "name": "stdout",
     "output_type": "stream",
     "text": [
      "{0.0: 0.87037037037037035, 1.0: 0.89351851851851849, 2.0: 0.89814814814814814, 3.0: 0.91203703703703709, 4.0: 0.90277777777777779, 5.0: 0.89814814814814814, 6.0: 0.875, 7.0: 0.87037037037037035, 8.0: 0.84259259259259256, 9.0: 0.82407407407407407, 10.0: 0.79629629629629628, 11.0: 0.7407407407407407, 12.0: 0.6157407407407407, 13.0: 0.52314814814814814, 14.0: 0.44444444444444442, 12.8: 0.55555555555555558, -2.2: 0.82870370370370372, 8.2: 0.83333333333333337, 0.2: 0.87962962962962965, 4.8: 0.90277777777777779, -4.4: 0.82407407407407407, 3.8: 0.90740740740740744, 7.4: 0.85648148148148151, -4.8: 0.81944444444444442, 12.6: 0.56944444444444442, 13.4: 0.47222222222222221, 0.4: 0.87962962962962965, 8.8: 0.82407407407407407, 0.6: 0.875, 9.4: 0.81481481481481477, 3.2: 0.91203703703703709, 1.6: 0.89814814814814814, -1.4: 0.82407407407407407, 0.8: 0.8842592592592593, 6.2: 0.86111111111111116, -4.6: 0.81944444444444442, 3.6: 0.91666666666666663, 1.2: 0.89814814814814814, -1.2: 0.83796296296296291, 13.8: 0.45370370370370372, 12.4: 0.57407407407407407, 3.4: 0.91666666666666663, 13.2: 0.5, 2.2: 0.90277777777777779, 10.4: 0.77777777777777779, 13.6: 0.46759259259259262, 5.8: 0.87962962962962965, 8.6: 0.82407407407407407, 6.4: 0.8657407407407407, 7.8: 0.86111111111111116, 2.4: 0.91666666666666663, 5.4: 0.89351851851851849, -4.2: 0.82407407407407407, 10.6: 0.76388888888888884, 4.6: 0.89814814814814814, 5.6: 0.8842592592592593, 9.8: 0.80555555555555558, 11.6: 0.68055555555555558, 11.8: 0.62962962962962965, -3.8: 0.82407407407407407, 12.2: 0.60185185185185186, -1.8: 0.82407407407407407, 4.4: 0.90277777777777779, 1.4: 0.89351851851851849, 2.6: 0.91666666666666663, 14.2: 0.43518518518518517, 5.2: 0.90740740740740744, -2.4: 0.82870370370370372, -2.6: 0.82870370370370372, -3.4: 0.82407407407407407, -0.2: 0.8657407407407407, 9.6: 0.81481481481481477, 14.8: 0.37037037037037035, 1.8: 0.89814814814814814, -2.8: 0.82870370370370372, 11.2: 0.72222222222222221, 2.8: 0.92129629629629628, 6.6: 0.8657407407407407, 6.8: 0.8657407407407407, 7.6: 0.85185185185185186, 10.2: 0.78240740740740744, -3.2: 0.82407407407407407, -1.6: 0.82407407407407407, 7.2: 0.85648148148148151, -3.6: 0.82407407407407407, -0.4: 0.8657407407407407, 9.2: 0.82407407407407407, 8.4: 0.83333333333333337, 10.8: 0.75, 11.4: 0.71759259259259256, 4.2: 0.90740740740740744, 14.6: 0.40277777777777779, -0.8: 0.84259259259259256, -0.6: 0.8657407407407407, 14.4: 0.42129629629629628, -1.0: 0.84259259259259256, -5.0: 0.81944444444444442, -4.0: 0.82407407407407407, -3.0: 0.82407407407407407, -2.0: 0.82870370370370372}\n"
     ]
    }
   ],
   "source": [
    "print accDict"
   ]
  },
  {
   "cell_type": "markdown",
   "metadata": {},
   "source": [
    "### Do this for all ROI sizes"
   ]
  },
  {
   "cell_type": "code",
   "execution_count": 56,
   "metadata": {
    "collapsed": true
   },
   "outputs": [],
   "source": [
    "def getAllClfs(dims,drop,n_iter=100):\n",
    "    \n",
    "    clfDict = {}\n",
    "    accDict = {}\n",
    "    \n",
    "    for pc in range(0,96,5):\n",
    "        #print pc\n",
    "        # this does everything to get and evaluate the classifiers\n",
    "        thisClfDict,thisAccDict = getClfs(pc,dims,n_iter=n_iter,drop=drop)\n",
    "        clfDict[pc] = thisClfDict\n",
    "        accDict[pc] = thisAccDict\n",
    "        \n",
    "    return clfDict,accDict"
   ]
  },
  {
   "cell_type": "markdown",
   "metadata": {},
   "source": [
    "Example:"
   ]
  },
  {
   "cell_type": "code",
   "execution_count": 57,
   "metadata": {
    "collapsed": true
   },
   "outputs": [],
   "source": [
    "clfDict,accDict = getAllClfs(dims=1,drop=True,n_iter=2)"
   ]
  },
  {
   "cell_type": "code",
   "execution_count": 58,
   "metadata": {},
   "outputs": [
    {
     "name": "stdout",
     "output_type": "stream",
     "text": [
      "[0, 65, 35, 5, 70, 40, 10, 75, 45, 15, 80, 50, 20, 85, 55, 25, 90, 60, 30, 95]\n"
     ]
    }
   ],
   "source": [
    "print clfDict.keys()"
   ]
  },
  {
   "cell_type": "code",
   "execution_count": 59,
   "metadata": {},
   "outputs": [
    {
     "name": "stdout",
     "output_type": "stream",
     "text": [
      "[0.0, 1.0, 2.0, 3.0, 4.0, 5.0, 6.0, 7.0, 8.0, 9.0, 10.0, 11.0, 12.0, 13.0, 14.0, 12.8, -2.2, 8.2, 0.2, 4.8, -4.4, 3.8, 7.4, -4.8, 12.6, 13.4, 0.4, 8.8, 0.6, 9.4, 3.2, 1.6, -1.4, 0.8, 6.2, -4.6, 3.6, 1.2, -1.2, 13.8, 12.4, 3.4, 13.2, 2.2, 10.4, 13.6, 5.8, 8.6, 6.4, 7.8, 2.4, 5.4, -4.2, 10.6, 4.6, 5.6, 9.8, 11.6, 11.8, -3.8, 12.2, -1.8, 4.4, 1.4, 2.6, 14.2, 5.2, -2.4, -2.6, -3.4, -0.2, 9.6, 14.8, 1.8, -2.8, 11.2, 2.8, 6.6, 6.8, 7.6, 10.2, -3.2, -1.6, 7.2, -3.6, -0.4, 9.2, 8.4, 10.8, 11.4, 4.2, 14.6, -0.8, -0.6, 14.4, -1.0, -5.0, -4.0, -3.0, -2.0]\n"
     ]
    }
   ],
   "source": [
    "print clfDict[0].keys()"
   ]
  },
  {
   "cell_type": "markdown",
   "metadata": {},
   "source": [
    "### show all accuracies"
   ]
  },
  {
   "cell_type": "code",
   "execution_count": 60,
   "metadata": {},
   "outputs": [
    {
     "data": {
      "text/plain": [
       "<matplotlib.axes._subplots.AxesSubplot at 0x7f881937d390>"
      ]
     },
     "execution_count": 60,
     "metadata": {},
     "output_type": "execute_result"
    },
    {
     "data": {
      "image/png": "[encoded data removed]",
      "text/plain": [
       "<matplotlib.figure.Figure at 0x7f881937dd90>"
      ]
     },
     "metadata": {},
     "output_type": "display_data"
    }
   ],
   "source": [
    "accDf = pd.DataFrame(accDict).T\n",
    "sns.heatmap( accDf, cmap='RdBu_r')"
   ]
  },
  {
   "cell_type": "markdown",
   "metadata": {},
   "source": [
    "## Run everything for each of the 4 versions & save"
   ]
  },
  {
   "cell_type": "code",
   "execution_count": 61,
   "metadata": {
    "collapsed": true
   },
   "outputs": [],
   "source": [
    "from datetime import datetime"
   ]
  },
  {
   "cell_type": "code",
   "execution_count": 62,
   "metadata": {},
   "outputs": [
    {
     "name": "stdout",
     "output_type": "stream",
     "text": [
      "1 True 2019-01-23 08:57:30.577788\n",
      "1 False 2019-01-23 10:53:03.327269\n",
      "2 True 2019-01-23 13:19:15.983233\n",
      "2 False 2019-01-23 15:22:15.653904\n"
     ]
    }
   ],
   "source": [
    "for thisDim in [1,2]:\n",
    "    for thisDrop in [True,False]:\n",
    "        print thisDim,thisDrop, datetime.now()\n",
    "        # fit the classifier\n",
    "        clfDict,accDict = getAllClfs(dims=thisDim,drop=thisDrop,n_iter=100)\n",
    "        \n",
    "        # save for later re-use\n",
    "        dropStr = ['full','drop'][thisDrop]\n",
    "        dimStr = ['1d','2d'][thisDim-1]\n",
    "        \n",
    "        pickle.dump(clfDict, open('../models/clf_%s_%s.p'%(dimStr,dropStr),'wb'))\n",
    "        pickle.dump(accDict, open('../models/acc_%s_%s.p'%(dimStr,dropStr),'wb'))"
   ]
  }
 ],
 "metadata": {
  "kernelspec": {
   "display_name": "Python 2",
   "language": "python",
   "name": "python2"
  },
  "language_info": {
   "codemirror_mode": {
    "name": "ipython",
    "version": 2
   },
   "file_extension": ".py",
   "mimetype": "text/x-python",
   "name": "python",
   "nbconvert_exporter": "python",
   "pygments_lexer": "ipython2",
   "version": "2.7.14"
  },
  "varInspector": {
   "cols": {
    "lenName": 16,
    "lenType": 16,
    "lenVar": 40
   },
   "kernels_config": {
    "python": {
     "delete_cmd_postfix": "",
     "delete_cmd_prefix": "del ",
     "library": "var_list.py",
     "varRefreshCmd": "print(var_dic_list())"
    },
    "r": {
     "delete_cmd_postfix": ") ",
     "delete_cmd_prefix": "rm(",
     "library": "var_list.r",
     "varRefreshCmd": "cat(var_dic_list()) "
    }
   },
   "types_to_exclude": [
    "module",
    "function",
    "builtin_function_or_method",
    "instance",
    "_Feature"
   ],
   "window_display": false
  }
 },
 "nbformat": 4,
 "nbformat_minor": 2
}
