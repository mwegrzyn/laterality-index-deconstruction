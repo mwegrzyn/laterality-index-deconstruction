{
 "cells": [
  {
   "cell_type": "markdown",
   "metadata": {},
   "source": [
    "# Re-load predictions and compare with true labels"
   ]
  },
  {
   "cell_type": "markdown",
   "metadata": {},
   "source": [
    "### import modules"
   ]
  },
  {
   "cell_type": "code",
   "execution_count": 1,
   "metadata": {
    "collapsed": true
   },
   "outputs": [],
   "source": [
    "%matplotlib inline"
   ]
  },
  {
   "cell_type": "code",
   "execution_count": 2,
   "metadata": {
    "collapsed": true
   },
   "outputs": [],
   "source": [
    "import os\n",
    "import fnmatch\n",
    "\n",
    "import numpy as np\n",
    "import pandas as pd\n",
    "from scipy import stats\n",
    "\n",
    "import matplotlib.pylab as plt\n",
    "import seaborn as sns\n",
    "\n",
    "from sklearn.svm import SVC\n",
    "from sklearn import preprocessing, model_selection, metrics\n",
    "from nilearn import plotting\n",
    "\n",
    "import pickle"
   ]
  },
  {
   "cell_type": "code",
   "execution_count": 3,
   "metadata": {
    "collapsed": true
   },
   "outputs": [],
   "source": [
    "sns.set_style('white')\n",
    "sns.set_context('poster')"
   ]
  },
  {
   "cell_type": "markdown",
   "metadata": {},
   "source": [
    "### load labeler"
   ]
  },
  {
   "cell_type": "code",
   "execution_count": 4,
   "metadata": {
    "collapsed": true
   },
   "outputs": [],
   "source": [
    "myLabeler = pickle.load(open('../models/myLabeler.p', 'rb'))"
   ]
  },
  {
   "cell_type": "code",
   "execution_count": 5,
   "metadata": {},
   "outputs": [
    {
     "data": {
      "text/plain": [
       "array(['bilateral', 'inconclusive', 'left', 'right'], dtype=object)"
      ]
     },
     "execution_count": 5,
     "metadata": {},
     "output_type": "execute_result"
    }
   ],
   "source": [
    "myLabeler.classes_"
   ]
  },
  {
   "cell_type": "markdown",
   "metadata": {},
   "source": [
    "### load list with patients"
   ]
  },
  {
   "cell_type": "code",
   "execution_count": 6,
   "metadata": {
    "collapsed": true
   },
   "outputs": [],
   "source": [
    "my_train = pickle.load(open('../models/my_nest.p', 'rb'))\n",
    "my_test = pickle.load(open('../models/my_test.p', 'rb'))"
   ]
  },
  {
   "cell_type": "code",
   "execution_count": 7,
   "metadata": {},
   "outputs": [
    {
     "data": {
      "text/plain": [
       "(521, 262)"
      ]
     },
     "execution_count": 7,
     "metadata": {},
     "output_type": "execute_result"
    }
   ],
   "source": [
    "len(my_train), len(my_test)"
   ]
  },
  {
   "cell_type": "code",
   "execution_count": 8,
   "metadata": {
    "collapsed": true
   },
   "outputs": [],
   "source": [
    "def makeDf(dimStr, dropStr, my_split=my_test):\n",
    "    df = pd.DataFrame()\n",
    "\n",
    "    for pGroup, pName in my_split:\n",
    "        try:\n",
    "            csv = '../data/processed/csv/meanTable_%s.csv' % pName\n",
    "\n",
    "            pDf = pd.read_csv(csv, index_col=[0, 1], header=0)\n",
    "            pDf = pDf.loc[dimStr, :].loc[[dropStr], :]\n",
    "            pDf.index = [[pGroup], [pName]]\n",
    "\n",
    "            df = pd.concat([df, pDf])\n",
    "        except:\n",
    "            print 'no valid data for %s %s!'%(pGroup, pName)\n",
    "\n",
    "    df.sort_index(inplace=True)\n",
    "\n",
    "    df.drop(['L+R', 'L-R', 'LI'], axis=1, inplace=True)\n",
    "\n",
    "    if dropStr == 'drop':\n",
    "        df.drop('inconclusive', axis=0, inplace=True)\n",
    "        df.drop('inconclusive', axis=1, inplace=True)\n",
    "\n",
    "    return df"
   ]
  },
  {
   "cell_type": "code",
   "execution_count": 9,
   "metadata": {
    "collapsed": true
   },
   "outputs": [],
   "source": [
    "testDf = makeDf('1d', 'drop')"
   ]
  },
  {
   "cell_type": "code",
   "execution_count": null,
   "metadata": {},
   "outputs": [],
   "source": [
    "testDf.tail()"
   ]
  },
  {
   "cell_type": "code",
   "execution_count": 11,
   "metadata": {
    "collapsed": true
   },
   "outputs": [],
   "source": [
    "predDf = pd.DataFrame(testDf.idxmax(axis=1))\n",
    "predDf.columns = ['pred']\n",
    "predDf.sort_index(inplace=True)"
   ]
  },
  {
   "cell_type": "code",
   "execution_count": null,
   "metadata": {},
   "outputs": [],
   "source": [
    "predDf.tail()"
   ]
  },
  {
   "cell_type": "code",
   "execution_count": 13,
   "metadata": {
    "collapsed": true
   },
   "outputs": [],
   "source": [
    "y_true = [\n",
    "    myLabeler.transform([predDf.index.levels[0][x]])[-1]\n",
    "    for x in predDf.index.labels[0]\n",
    "]\n",
    "y_pred = myLabeler.transform(predDf['pred'])"
   ]
  },
  {
   "cell_type": "code",
   "execution_count": 14,
   "metadata": {},
   "outputs": [
    {
     "name": "stdout",
     "output_type": "stream",
     "text": [
      "[0, 0, 0, 0, 0, 0, 0, 0, 0, 0, 0, 0, 0, 0, 0, 0, 0, 0, 0, 0, 0, 0, 0, 0, 0, 2, 2, 2, 2, 2, 2, 2, 2, 2, 2, 2, 2, 2, 2, 2, 2, 2, 2, 2, 2, 2, 2, 2, 2, 2, 2, 2, 2, 2, 2, 2, 2, 2, 2, 2, 2, 2, 2, 2, 2, 2, 2, 2, 2, 2, 2, 2, 2, 2, 2, 2, 2, 2, 2, 2, 2, 2, 2, 2, 2, 2, 2, 2, 2, 2, 2, 2, 2, 2, 2, 2, 2, 2, 2, 2, 2, 2, 2, 2, 2, 2, 2, 2, 2, 2, 2, 2, 2, 2, 2, 2, 2, 2, 2, 2, 2, 2, 2, 2, 2, 2, 2, 2, 2, 2, 2, 2, 2, 2, 2, 2, 2, 2, 2, 2, 2, 2, 2, 2, 2, 2, 2, 2, 2, 2, 2, 2, 2, 2, 2, 2, 2, 2, 2, 2, 2, 2, 2, 2, 2, 2, 2, 2, 2, 2, 2, 2, 2, 2, 2, 2, 2, 2, 2, 2, 2, 2, 2, 2, 2, 2, 2, 2, 2, 2, 2, 2, 2, 2, 2, 2, 2, 2, 2, 2, 2, 3, 3, 3, 3, 3, 3, 3, 3, 3, 3, 3, 3, 3, 3, 3, 3]\n",
      "[2 0 2 2 2 0 0 0 2 2 0 2 0 0 0 0 0 0 2 0 2 0 0 0 0 2 2 2 2 2 2 2 2 2 2 2 2\n",
      " 2 2 2 2 2 2 2 2 2 2 2 2 2 2 2 2 2 2 2 2 2 2 2 0 2 2 2 2 2 2 2 2 2 2 2 2 2\n",
      " 2 2 2 2 2 2 2 2 2 0 2 2 2 2 2 2 2 2 2 2 2 2 2 2 2 2 2 2 2 2 2 2 2 2 2 2 2\n",
      " 2 2 2 2 2 2 2 2 2 2 2 2 2 2 2 2 2 2 2 2 0 2 2 2 2 2 2 2 2 2 0 2 2 2 0 2 2\n",
      " 2 2 2 2 2 2 2 2 2 2 2 2 0 2 2 2 2 2 2 2 2 2 2 2 2 2 2 2 2 2 2 2 2 2 2 2 2\n",
      " 0 0 2 2 2 2 2 2 2 2 2 2 2 2 2 2 3 3 0 3 3 3 3 3 3 3 3 3 3 3 0 0]\n"
     ]
    }
   ],
   "source": [
    "print y_true\n",
    "print y_pred"
   ]
  },
  {
   "cell_type": "code",
   "execution_count": 15,
   "metadata": {
    "collapsed": true
   },
   "outputs": [],
   "source": [
    "cm =  metrics.confusion_matrix(y_true,y_pred)"
   ]
  },
  {
   "cell_type": "code",
   "execution_count": 16,
   "metadata": {},
   "outputs": [
    {
     "data": {
      "text/plain": [
       "array([[ 16,   9,   0],\n",
       "       [  8, 168,   0],\n",
       "       [  3,   0,  13]])"
      ]
     },
     "execution_count": 16,
     "metadata": {},
     "output_type": "execute_result"
    }
   ],
   "source": [
    "cm"
   ]
  },
  {
   "cell_type": "code",
   "execution_count": 17,
   "metadata": {
    "collapsed": true
   },
   "outputs": [],
   "source": [
    "def makeCm(predDf, myLabeler=myLabeler):\n",
    "\n",
    "    y_true = [\n",
    "        myLabeler.transform([predDf.index.levels[0][x]])[-1]\n",
    "        for x in predDf.index.labels[0]\n",
    "    ]\n",
    "    y_pred = myLabeler.transform(predDf['pred'])\n",
    "    cm = metrics.confusion_matrix(y_true, y_pred)\n",
    "\n",
    "    # put into df\n",
    "    cmDf = pd.DataFrame(cm)\n",
    "\n",
    "    # get the naming right\n",
    "    try:\n",
    "        theseLabels = myLabeler.inverse_transform(np.unique(y_true))\n",
    "        cmDf.index = theseLabels\n",
    "        cmDf.columns = theseLabels\n",
    "    except:\n",
    "        theseLabels = myLabeler.classes_\n",
    "        cmDf.index = theseLabels\n",
    "        cmDf.columns = theseLabels\n",
    "\n",
    "    # make better order\n",
    "    try:\n",
    "        theseLabels = ['left', 'bilateral', 'right', 'inconclusive']\n",
    "        cmDf = cmDf.reindex(index=theseLabels)\n",
    "        cmDf = cmDf.reindex(columns=theseLabels)\n",
    "        cmDf.index = [['True label'] * cmDf.shape[0], theseLabels]\n",
    "        cmDf.columns = [['Predicted label'] * cmDf.shape[1], theseLabels]\n",
    "    except:\n",
    "        theseLabels = ['left', 'bilateral', 'right']\n",
    "        cmDf = cmDf.reindex(index=theseLabels)\n",
    "        cmDf = cmDf.reindex(columns=theseLabels)\n",
    "        cmDf.index = [['True label'] * cmDf.shape[0], theseLabels]\n",
    "        cmDf.columns = [['Predicted label'] * cmDf.shape[1], theseLabels]\n",
    "\n",
    "    return cmDf"
   ]
  },
  {
   "cell_type": "code",
   "execution_count": 18,
   "metadata": {
    "collapsed": true
   },
   "outputs": [],
   "source": [
    "cmDf = makeCm(predDf)"
   ]
  },
  {
   "cell_type": "code",
   "execution_count": 19,
   "metadata": {},
   "outputs": [
    {
     "data": {
      "text/html": [
       "<div>\n",
       "<style>\n",
       "    .dataframe thead tr:only-child th {\n",
       "        text-align: right;\n",
       "    }\n",
       "\n",
       "    .dataframe thead th {\n",
       "        text-align: left;\n",
       "    }\n",
       "\n",
       "    .dataframe tbody tr th {\n",
       "        vertical-align: top;\n",
       "    }\n",
       "</style>\n",
       "<table border=\"1\" class=\"dataframe\">\n",
       "  <thead>\n",
       "    <tr>\n",
       "      <th></th>\n",
       "      <th></th>\n",
       "      <th colspan=\"4\" halign=\"left\">Predicted label</th>\n",
       "    </tr>\n",
       "    <tr>\n",
       "      <th></th>\n",
       "      <th></th>\n",
       "      <th>left</th>\n",
       "      <th>bilateral</th>\n",
       "      <th>right</th>\n",
       "      <th>inconclusive</th>\n",
       "    </tr>\n",
       "  </thead>\n",
       "  <tbody>\n",
       "    <tr>\n",
       "      <th rowspan=\"4\" valign=\"top\">True label</th>\n",
       "      <th>left</th>\n",
       "      <td>168.0</td>\n",
       "      <td>8.0</td>\n",
       "      <td>0.0</td>\n",
       "      <td>NaN</td>\n",
       "    </tr>\n",
       "    <tr>\n",
       "      <th>bilateral</th>\n",
       "      <td>9.0</td>\n",
       "      <td>16.0</td>\n",
       "      <td>0.0</td>\n",
       "      <td>NaN</td>\n",
       "    </tr>\n",
       "    <tr>\n",
       "      <th>right</th>\n",
       "      <td>0.0</td>\n",
       "      <td>3.0</td>\n",
       "      <td>13.0</td>\n",
       "      <td>NaN</td>\n",
       "    </tr>\n",
       "    <tr>\n",
       "      <th>inconclusive</th>\n",
       "      <td>NaN</td>\n",
       "      <td>NaN</td>\n",
       "      <td>NaN</td>\n",
       "      <td>NaN</td>\n",
       "    </tr>\n",
       "  </tbody>\n",
       "</table>\n",
       "</div>"
      ],
      "text/plain": [
       "                        Predicted label                             \n",
       "                                   left bilateral right inconclusive\n",
       "True label left                   168.0       8.0   0.0          NaN\n",
       "           bilateral                9.0      16.0   0.0          NaN\n",
       "           right                    0.0       3.0  13.0          NaN\n",
       "           inconclusive             NaN       NaN   NaN          NaN"
      ]
     },
     "execution_count": 19,
     "metadata": {},
     "output_type": "execute_result"
    }
   ],
   "source": [
    "cmDf"
   ]
  },
  {
   "cell_type": "code",
   "execution_count": 20,
   "metadata": {
    "collapsed": true
   },
   "outputs": [],
   "source": [
    "def makeScaleCm(cmDf):\n",
    "    return (cmDf.astype(float).T / cmDf.sum(axis=1)).T"
   ]
  },
  {
   "cell_type": "code",
   "execution_count": 21,
   "metadata": {
    "collapsed": true
   },
   "outputs": [],
   "source": [
    "cmScaleDf = makeScaleCm(cmDf)"
   ]
  },
  {
   "cell_type": "code",
   "execution_count": 22,
   "metadata": {},
   "outputs": [
    {
     "data": {
      "text/html": [
       "<div>\n",
       "<style>\n",
       "    .dataframe thead tr:only-child th {\n",
       "        text-align: right;\n",
       "    }\n",
       "\n",
       "    .dataframe thead th {\n",
       "        text-align: left;\n",
       "    }\n",
       "\n",
       "    .dataframe tbody tr th {\n",
       "        vertical-align: top;\n",
       "    }\n",
       "</style>\n",
       "<table border=\"1\" class=\"dataframe\">\n",
       "  <thead>\n",
       "    <tr>\n",
       "      <th></th>\n",
       "      <th></th>\n",
       "      <th colspan=\"4\" halign=\"left\">Predicted label</th>\n",
       "    </tr>\n",
       "    <tr>\n",
       "      <th></th>\n",
       "      <th></th>\n",
       "      <th>left</th>\n",
       "      <th>bilateral</th>\n",
       "      <th>right</th>\n",
       "      <th>inconclusive</th>\n",
       "    </tr>\n",
       "  </thead>\n",
       "  <tbody>\n",
       "    <tr>\n",
       "      <th rowspan=\"4\" valign=\"top\">True label</th>\n",
       "      <th>left</th>\n",
       "      <td>0.954545</td>\n",
       "      <td>0.045455</td>\n",
       "      <td>0.0000</td>\n",
       "      <td>NaN</td>\n",
       "    </tr>\n",
       "    <tr>\n",
       "      <th>bilateral</th>\n",
       "      <td>0.360000</td>\n",
       "      <td>0.640000</td>\n",
       "      <td>0.0000</td>\n",
       "      <td>NaN</td>\n",
       "    </tr>\n",
       "    <tr>\n",
       "      <th>right</th>\n",
       "      <td>0.000000</td>\n",
       "      <td>0.187500</td>\n",
       "      <td>0.8125</td>\n",
       "      <td>NaN</td>\n",
       "    </tr>\n",
       "    <tr>\n",
       "      <th>inconclusive</th>\n",
       "      <td>NaN</td>\n",
       "      <td>NaN</td>\n",
       "      <td>NaN</td>\n",
       "      <td>NaN</td>\n",
       "    </tr>\n",
       "  </tbody>\n",
       "</table>\n",
       "</div>"
      ],
      "text/plain": [
       "                        Predicted label                               \n",
       "                                   left bilateral   right inconclusive\n",
       "True label left                0.954545  0.045455  0.0000          NaN\n",
       "           bilateral           0.360000  0.640000  0.0000          NaN\n",
       "           right               0.000000  0.187500  0.8125          NaN\n",
       "           inconclusive             NaN       NaN     NaN          NaN"
      ]
     },
     "execution_count": 22,
     "metadata": {},
     "output_type": "execute_result"
    }
   ],
   "source": [
    "cmScaleDf"
   ]
  },
  {
   "cell_type": "markdown",
   "metadata": {},
   "source": [
    "sanity check: true labels for each class should add up to one"
   ]
  },
  {
   "cell_type": "code",
   "execution_count": 23,
   "metadata": {},
   "outputs": [
    {
     "data": {
      "text/plain": [
       "True label  left            1.0\n",
       "            bilateral       1.0\n",
       "            right           1.0\n",
       "            inconclusive    NaN\n",
       "dtype: float64"
      ]
     },
     "execution_count": 23,
     "metadata": {},
     "output_type": "execute_result"
    }
   ],
   "source": [
    "cmScaleDf.T.sum()"
   ]
  },
  {
   "cell_type": "markdown",
   "metadata": {},
   "source": [
    "### get diagonal (correct answers only)"
   ]
  },
  {
   "cell_type": "code",
   "execution_count": 24,
   "metadata": {
    "collapsed": true
   },
   "outputs": [],
   "source": [
    "def makeDiagCm(cmDf, idx):\n",
    "\n",
    "    # get diagonal\n",
    "    diagDf = pd.DataFrame(np.diagonal(cmDf)).T\n",
    "    diagDf.index = idx\n",
    "    diagDf.columns = cmDf.columns\n",
    "\n",
    "    return diagDf"
   ]
  },
  {
   "cell_type": "code",
   "execution_count": 25,
   "metadata": {},
   "outputs": [
    {
     "data": {
      "text/html": [
       "<div>\n",
       "<style>\n",
       "    .dataframe thead tr:only-child th {\n",
       "        text-align: right;\n",
       "    }\n",
       "\n",
       "    .dataframe thead th {\n",
       "        text-align: left;\n",
       "    }\n",
       "\n",
       "    .dataframe tbody tr th {\n",
       "        vertical-align: top;\n",
       "    }\n",
       "</style>\n",
       "<table border=\"1\" class=\"dataframe\">\n",
       "  <thead>\n",
       "    <tr>\n",
       "      <th></th>\n",
       "      <th></th>\n",
       "      <th colspan=\"4\" halign=\"left\">Predicted label</th>\n",
       "    </tr>\n",
       "    <tr>\n",
       "      <th></th>\n",
       "      <th></th>\n",
       "      <th>left</th>\n",
       "      <th>bilateral</th>\n",
       "      <th>right</th>\n",
       "      <th>inconclusive</th>\n",
       "    </tr>\n",
       "  </thead>\n",
       "  <tbody>\n",
       "    <tr>\n",
       "      <th>diag</th>\n",
       "      <th>0</th>\n",
       "      <td>168.0</td>\n",
       "      <td>16.0</td>\n",
       "      <td>13.0</td>\n",
       "      <td>NaN</td>\n",
       "    </tr>\n",
       "  </tbody>\n",
       "</table>\n",
       "</div>"
      ],
      "text/plain": [
       "       Predicted label                             \n",
       "                  left bilateral right inconclusive\n",
       "diag 0           168.0      16.0  13.0          NaN"
      ]
     },
     "execution_count": 25,
     "metadata": {},
     "output_type": "execute_result"
    }
   ],
   "source": [
    "diagDf = makeDiagCm(cmDf, [['diag'], [0]])\n",
    "diagDf"
   ]
  },
  {
   "cell_type": "markdown",
   "metadata": {},
   "source": [
    "### get accuracy from diagonal"
   ]
  },
  {
   "cell_type": "code",
   "execution_count": 26,
   "metadata": {
    "collapsed": true
   },
   "outputs": [],
   "source": [
    "def getAcc(cmDf, drop=True):\n",
    "\n",
    "    # get absolute count of hits (diagonal)\n",
    "    n_diag = makeDiagCm(cmDf, [['total'], ['total']]).sum(axis=1).values[-1]\n",
    "\n",
    "    # get absolute count of all test data\n",
    "    n_total = cmDf.sum().sum()\n",
    "\n",
    "    # get proportion\n",
    "    prop = n_diag / float(n_total)\n",
    "\n",
    "    return pd.DataFrame([prop], index=['acc']).T"
   ]
  },
  {
   "cell_type": "code",
   "execution_count": 27,
   "metadata": {},
   "outputs": [
    {
     "data": {
      "text/html": [
       "<div>\n",
       "<style>\n",
       "    .dataframe thead tr:only-child th {\n",
       "        text-align: right;\n",
       "    }\n",
       "\n",
       "    .dataframe thead th {\n",
       "        text-align: left;\n",
       "    }\n",
       "\n",
       "    .dataframe tbody tr th {\n",
       "        vertical-align: top;\n",
       "    }\n",
       "</style>\n",
       "<table border=\"1\" class=\"dataframe\">\n",
       "  <thead>\n",
       "    <tr style=\"text-align: right;\">\n",
       "      <th></th>\n",
       "      <th>acc</th>\n",
       "    </tr>\n",
       "  </thead>\n",
       "  <tbody>\n",
       "    <tr>\n",
       "      <th>0</th>\n",
       "      <td>0.907834</td>\n",
       "    </tr>\n",
       "  </tbody>\n",
       "</table>\n",
       "</div>"
      ],
      "text/plain": [
       "        acc\n",
       "0  0.907834"
      ]
     },
     "execution_count": 27,
     "metadata": {},
     "output_type": "execute_result"
    }
   ],
   "source": [
    "getAcc(cmDf, drop=True)"
   ]
  },
  {
   "cell_type": "code",
   "execution_count": 28,
   "metadata": {},
   "outputs": [
    {
     "data": {
      "text/plain": [
       "0.90783410138248843"
      ]
     },
     "execution_count": 28,
     "metadata": {},
     "output_type": "execute_result"
    }
   ],
   "source": [
    "metrics.accuracy_score(y_true, y_pred)"
   ]
  },
  {
   "cell_type": "markdown",
   "metadata": {},
   "source": [
    "### make nice plots"
   ]
  },
  {
   "cell_type": "markdown",
   "metadata": {},
   "source": [
    "This is used to define a different color for the diagnoal"
   ]
  },
  {
   "cell_type": "code",
   "execution_count": 29,
   "metadata": {
    "collapsed": true
   },
   "outputs": [],
   "source": [
    "copyDf = np.array([[1, 0, 0, 0], [0, 1, 0, 0], [0, 0, 1, 0], [0, 0, 0, 1]]).astype(bool)\n",
    "copyDf = pd.DataFrame(copyDf)\n",
    "copyDf.index = cmScaleDf.index\n",
    "copyDf.columns = cmScaleDf.columns"
   ]
  },
  {
   "cell_type": "code",
   "execution_count": 30,
   "metadata": {},
   "outputs": [
    {
     "data": {
      "text/html": [
       "<div>\n",
       "<style>\n",
       "    .dataframe thead tr:only-child th {\n",
       "        text-align: right;\n",
       "    }\n",
       "\n",
       "    .dataframe thead th {\n",
       "        text-align: left;\n",
       "    }\n",
       "\n",
       "    .dataframe tbody tr th {\n",
       "        vertical-align: top;\n",
       "    }\n",
       "</style>\n",
       "<table border=\"1\" class=\"dataframe\">\n",
       "  <thead>\n",
       "    <tr>\n",
       "      <th></th>\n",
       "      <th></th>\n",
       "      <th colspan=\"4\" halign=\"left\">Predicted label</th>\n",
       "    </tr>\n",
       "    <tr>\n",
       "      <th></th>\n",
       "      <th></th>\n",
       "      <th>left</th>\n",
       "      <th>bilateral</th>\n",
       "      <th>right</th>\n",
       "      <th>inconclusive</th>\n",
       "    </tr>\n",
       "  </thead>\n",
       "  <tbody>\n",
       "    <tr>\n",
       "      <th rowspan=\"4\" valign=\"top\">True label</th>\n",
       "      <th>left</th>\n",
       "      <td>True</td>\n",
       "      <td>False</td>\n",
       "      <td>False</td>\n",
       "      <td>False</td>\n",
       "    </tr>\n",
       "    <tr>\n",
       "      <th>bilateral</th>\n",
       "      <td>False</td>\n",
       "      <td>True</td>\n",
       "      <td>False</td>\n",
       "      <td>False</td>\n",
       "    </tr>\n",
       "    <tr>\n",
       "      <th>right</th>\n",
       "      <td>False</td>\n",
       "      <td>False</td>\n",
       "      <td>True</td>\n",
       "      <td>False</td>\n",
       "    </tr>\n",
       "    <tr>\n",
       "      <th>inconclusive</th>\n",
       "      <td>False</td>\n",
       "      <td>False</td>\n",
       "      <td>False</td>\n",
       "      <td>True</td>\n",
       "    </tr>\n",
       "  </tbody>\n",
       "</table>\n",
       "</div>"
      ],
      "text/plain": [
       "                        Predicted label                              \n",
       "                                   left bilateral  right inconclusive\n",
       "True label left                    True     False  False        False\n",
       "           bilateral              False      True  False        False\n",
       "           right                  False     False   True        False\n",
       "           inconclusive           False     False  False         True"
      ]
     },
     "execution_count": 30,
     "metadata": {},
     "output_type": "execute_result"
    }
   ],
   "source": [
    "copyDf"
   ]
  },
  {
   "cell_type": "code",
   "execution_count": 31,
   "metadata": {
    "collapsed": true
   },
   "outputs": [],
   "source": [
    "def makeCmAx(predDf, ax, copyDf=copyDf):\n",
    "\n",
    "    cmTest = makeCm(predDf)\n",
    "    cmScaleTest = makeScaleCm(cmTest)\n",
    "    sns.heatmap(\n",
    "        (cmScaleTest * 100).round(0),  # in percent...\n",
    "        annot=True,\n",
    "        cmap='Reds',\n",
    "        vmin=0,\n",
    "        vmax=100,\n",
    "        cbar=False,\n",
    "        annot_kws={\"fontsize\": 26},\n",
    "        square=True,\n",
    "    )\n",
    "\n",
    "    # just the diagonal\n",
    "    cmScaleTestDiag = cmScaleTest[copyDf]\n",
    "    sns.heatmap(\n",
    "        (cmScaleTestDiag * 100).round(0),  # in percent...\n",
    "        annot=True,\n",
    "        cmap='Blues',\n",
    "        vmin=0,\n",
    "        vmax=100,\n",
    "        cbar=False,\n",
    "        annot_kws={\"fontsize\": 26},\n",
    "        square=True,\n",
    "    )\n",
    "    ax.set_xticklabels([\n",
    "        cmScaleTest.columns.levels[1][x][0].upper()\n",
    "        for x in cmScaleTest.columns.labels[1]\n",
    "    ],\n",
    "                       fontsize=24,\n",
    "                       rotation=360)\n",
    "    ax.set_yticklabels(\n",
    "        [\n",
    "            cmScaleTest.index.levels[1][x][0].upper()\n",
    "            for x in cmScaleTest.index.labels[1]\n",
    "        ][::-1],\n",
    "        fontsize=24,\n",
    "        rotation=360)\n",
    "\n",
    "    ax.set_xlabel('Predicted', fontsize=24)\n",
    "    ax.set_ylabel('True', fontsize=24)\n",
    "    try:\n",
    "        print getAcc(cmTest, drop=True)\n",
    "    except:\n",
    "        print getAcc(cmTest, drop=False)\n",
    "\n",
    "    return ax"
   ]
  },
  {
   "cell_type": "code",
   "execution_count": 32,
   "metadata": {},
   "outputs": [
    {
     "name": "stdout",
     "output_type": "stream",
     "text": [
      "        acc\n",
      "0  0.907834\n"
     ]
    },
    {
     "data": {
      "image/png": "[encoded data removed]",
      "text/plain": [
       "<matplotlib.figure.Figure at 0x7f8d6dc67290>"
      ]
     },
     "metadata": {},
     "output_type": "display_data"
    }
   ],
   "source": [
    "fig, ax = plt.subplots(1, 1, figsize=(6, 6))\n",
    "ax = makeCmAx(predDf, ax)\n",
    "plt.show()"
   ]
  },
  {
   "cell_type": "code",
   "execution_count": 33,
   "metadata": {},
   "outputs": [
    {
     "name": "stdout",
     "output_type": "stream",
     "text": [
      "1d drop\n",
      "(217, 1)\n",
      "        acc\n",
      "0  0.907834\n",
      "1d full\n",
      "(262, 1)\n",
      "        acc\n",
      "0  0.824427\n",
      "2d drop\n",
      "(217, 1)\n",
      "        acc\n",
      "0  0.889401\n",
      "2d full\n",
      "(262, 1)\n",
      "        acc\n",
      "0  0.816794\n"
     ]
    },
    {
     "data": {
      "image/png": "[encoded data removed]",
      "text/plain": [
       "<matplotlib.figure.Figure at 0x7f8d5dea37d0>"
      ]
     },
     "metadata": {},
     "output_type": "display_data"
    }
   ],
   "source": [
    "# show accuracies and significance\n",
    "fig = plt.figure(figsize=(13, 17))\n",
    "\n",
    "i = 1\n",
    "for dim in [1, 2]:\n",
    "\n",
    "    dimStr = ['1d', '2d'][dim - 1]\n",
    "\n",
    "    for myDrop in [True, False]:\n",
    "        dropStr = ['full', 'drop'][myDrop]\n",
    "        print dimStr, dropStr\n",
    "\n",
    "        testDf = makeDf(dimStr, dropStr)\n",
    "\n",
    "        predDf = pd.DataFrame(testDf.idxmax(axis=1))\n",
    "        print predDf.shape\n",
    "        predDf.columns = ['pred']\n",
    "        predDf.sort_index(inplace=True)\n",
    "\n",
    "        ax = plt.subplot(2, 2, i)\n",
    "\n",
    "        dTitle1 = {'1d': '(L-R)/(L+R)', '2d': 'L-R & L+R'}\n",
    "        dTitle2 = {\n",
    "            True: 'without inconclusive cases',\n",
    "            False: 'with inconclusive cases'\n",
    "        }\n",
    "        ax.set_title(dTitle1[dimStr] + '\\n' + dTitle2[myDrop], fontsize=28)\n",
    "        \n",
    "        ax = makeCmAx(predDf, ax)\n",
    "    \n",
    "        # if there are only three classes, change the way the ticks are plotted\n",
    "        if myDrop:\n",
    "            ax.tick_params(axis=\"x\",direction=\"in\", pad=-75) # move inwards\n",
    "\n",
    "            # remove inc category\n",
    "            ax.set_xticklabels(ax.get_xticklabels()[:-1])\n",
    "            ax.set_yticklabels(ax.get_yticklabels()[1:])\n",
    "            ax.set_yticks(np.arange(1.5,4,1))\n",
    "            \n",
    "            # move label towards center of new, smaller plot\n",
    "            ax.set_ylabel(ax.get_ylabel(),y=.62)\n",
    "            ax.xaxis.set_label_coords(0.38, 0.15) \n",
    "            \n",
    "            ax.set_title(dTitle1[dimStr] + '\\n' + dTitle2[myDrop], fontsize=28, x=0.4)\n",
    "\n",
    "        i += 1\n",
    "\n",
    "fig.savefig(\n",
    "    '../reports/figures/10-test-set-cms.png', dpi=300, bbox_inches='tight')\n",
    "plt.show()"
   ]
  }
 ],
 "metadata": {
  "kernelspec": {
   "display_name": "Python 2",
   "language": "python",
   "name": "python2"
  },
  "language_info": {
   "codemirror_mode": {
    "name": "ipython",
    "version": 2
   },
   "file_extension": ".py",
   "mimetype": "text/x-python",
   "name": "python",
   "nbconvert_exporter": "python",
   "pygments_lexer": "ipython2",
   "version": "2.7.14"
  },
  "varInspector": {
   "cols": {
    "lenName": 16,
    "lenType": 16,
    "lenVar": 40
   },
   "kernels_config": {
    "python": {
     "delete_cmd_postfix": "",
     "delete_cmd_prefix": "del ",
     "library": "var_list.py",
     "varRefreshCmd": "print(var_dic_list())"
    },
    "r": {
     "delete_cmd_postfix": ") ",
     "delete_cmd_prefix": "rm(",
     "library": "var_list.r",
     "varRefreshCmd": "cat(var_dic_list()) "
    }
   },
   "types_to_exclude": [
    "module",
    "function",
    "builtin_function_or_method",
    "instance",
    "_Feature"
   ],
   "window_display": false
  }
 },
 "nbformat": 4,
 "nbformat_minor": 2
}
