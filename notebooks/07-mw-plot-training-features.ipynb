{
 "cells": [
  {
   "cell_type": "markdown",
   "metadata": {},
   "source": [
    "# Performance of different feature combinations for nested training data\n",
    "\n",
    "This scripts re-loads the classifiers and visualizes their preformance in a ROI x threshold space"
   ]
  },
  {
   "cell_type": "markdown",
   "metadata": {},
   "source": [
    "### import modules"
   ]
  },
  {
   "cell_type": "code",
   "execution_count": 1,
   "metadata": {
    "collapsed": true
   },
   "outputs": [],
   "source": [
    "%matplotlib inline"
   ]
  },
  {
   "cell_type": "code",
   "execution_count": 2,
   "metadata": {
    "collapsed": true
   },
   "outputs": [],
   "source": [
    "import os\n",
    "import fnmatch\n",
    "\n",
    "import numpy as np\n",
    "import pandas as pd\n",
    "\n",
    "import matplotlib.pylab as plt\n",
    "import seaborn as sns\n",
    "\n",
    "from sklearn.svm import SVC\n",
    "from sklearn import preprocessing, model_selection, metrics\n",
    "\n",
    "import pickle"
   ]
  },
  {
   "cell_type": "markdown",
   "metadata": {},
   "source": [
    "Initialize a Labeler, which allows to switch from string labels (e.g. \"left\" to integer labels e.g. 0 and back)."
   ]
  },
  {
   "cell_type": "code",
   "execution_count": 3,
   "metadata": {
    "collapsed": true
   },
   "outputs": [],
   "source": [
    "myLabeler = pickle.load(open('../models/myLabeler.p', 'rb'))"
   ]
  },
  {
   "cell_type": "markdown",
   "metadata": {},
   "source": [
    "divide into training and test data"
   ]
  },
  {
   "cell_type": "code",
   "execution_count": 4,
   "metadata": {
    "collapsed": true
   },
   "outputs": [],
   "source": [
    "my_train = pickle.load(open('../models/my_nest.p', 'rb'))"
   ]
  },
  {
   "cell_type": "markdown",
   "metadata": {},
   "source": [
    "### fit the classifier to the training data"
   ]
  },
  {
   "cell_type": "code",
   "execution_count": 5,
   "metadata": {
    "collapsed": true
   },
   "outputs": [],
   "source": [
    "def makeFit(X_train, y_train):\n",
    "\n",
    "    scaler = preprocessing.StandardScaler()\n",
    "    X_train_std = scaler.fit_transform(X_train)\n",
    "\n",
    "    clf = SVC(kernel='linear', C=1.0, probability=True, random_state=0)\n",
    "    clf.fit(X_train_std, y_train)\n",
    "\n",
    "    return clf, scaler"
   ]
  },
  {
   "cell_type": "markdown",
   "metadata": {},
   "source": [
    "Example:"
   ]
  },
  {
   "cell_type": "code",
   "execution_count": 6,
   "metadata": {
    "collapsed": true
   },
   "outputs": [],
   "source": [
    "X, y = np.array([0., 1., 0., 1.]).reshape(-1, 1), np.array([0, 1, 2, 3])"
   ]
  },
  {
   "cell_type": "code",
   "execution_count": 7,
   "metadata": {
    "collapsed": true
   },
   "outputs": [],
   "source": [
    "clf, scaler = makeFit(X, y)"
   ]
  },
  {
   "cell_type": "markdown",
   "metadata": {},
   "source": [
    "### use the classifier to predict the left-out validation data"
   ]
  },
  {
   "cell_type": "code",
   "execution_count": 8,
   "metadata": {
    "collapsed": true,
    "scrolled": true
   },
   "outputs": [],
   "source": [
    "def makeYPreds(X_validate, clf, scaler, myLabeler=myLabeler):\n",
    "\n",
    "    y_pred = []\n",
    "\n",
    "    for x in X_validate:\n",
    "\n",
    "        # when there is no LI, we consider the case to be inconclusive\n",
    "        if np.isnan(x).any():\n",
    "            pred = myLabeler.transform(['inconclusive'])[-1]\n",
    "\n",
    "        # otherwise we apply the acutal classifier\n",
    "        else:\n",
    "            scaledX = scaler.transform(x.reshape(1, -1))\n",
    "            pred = clf.predict(scaledX)[-1]\n",
    "\n",
    "        y_pred.append(pred)\n",
    "\n",
    "    return np.array(y_pred)"
   ]
  },
  {
   "cell_type": "code",
   "execution_count": 9,
   "metadata": {
    "collapsed": true
   },
   "outputs": [],
   "source": [
    "y_pred = makeYPreds(X, clf, scaler)"
   ]
  },
  {
   "cell_type": "code",
   "execution_count": 10,
   "metadata": {},
   "outputs": [
    {
     "name": "stdout",
     "output_type": "stream",
     "text": [
      "[2 3 2 3]\n"
     ]
    }
   ],
   "source": [
    "print y_pred"
   ]
  },
  {
   "cell_type": "markdown",
   "metadata": {},
   "source": [
    "### get confusion matrix from prediction of testing data"
   ]
  },
  {
   "cell_type": "code",
   "execution_count": 11,
   "metadata": {
    "collapsed": true
   },
   "outputs": [],
   "source": [
    "def makeCm(X_validate, y_validate, y_pred, clf, scaler, myLabeler=myLabeler):\n",
    "\n",
    "    # predictions of left-out data\n",
    "    y_pred = makeYPreds(X_validate, clf, scaler)\n",
    "    # confusion matrix -- input y and y_pred -- result: true in rows, pred in columns\n",
    "    cm = metrics.confusion_matrix(y_validate, y_pred)\n",
    "\n",
    "    # put into df\n",
    "    cmDf = pd.DataFrame(cm)\n",
    "\n",
    "    # get the naming right\n",
    "    try:\n",
    "        theseLabels = myLabeler.inverse_transform(np.unique(y_validate))\n",
    "        cmDf.index = theseLabels\n",
    "        cmDf.columns = theseLabels\n",
    "    except:\n",
    "        theseLabels = myLabeler.classes_\n",
    "        cmDf.index = theseLabels\n",
    "        cmDf.columns = theseLabels\n",
    "\n",
    "    # make better order\n",
    "    theseLabels = ['left', 'bilateral', 'right', 'inconclusive']\n",
    "    cmDf = cmDf.reindex(index=theseLabels)\n",
    "    cmDf = cmDf.reindex(columns=theseLabels)\n",
    "\n",
    "    cmDf.index = [['True label'] * cmDf.shape[0], theseLabels]\n",
    "    cmDf.columns = [['Predicted label'] * cmDf.shape[1], theseLabels]\n",
    "\n",
    "    return cmDf"
   ]
  },
  {
   "cell_type": "code",
   "execution_count": 12,
   "metadata": {
    "collapsed": true
   },
   "outputs": [],
   "source": [
    "cmDf = makeCm(X, y, y, clf, scaler)"
   ]
  },
  {
   "cell_type": "code",
   "execution_count": 13,
   "metadata": {},
   "outputs": [
    {
     "data": {
      "text/html": [
       "<div>\n",
       "<style>\n",
       "    .dataframe thead tr:only-child th {\n",
       "        text-align: right;\n",
       "    }\n",
       "\n",
       "    .dataframe thead th {\n",
       "        text-align: left;\n",
       "    }\n",
       "\n",
       "    .dataframe tbody tr th {\n",
       "        vertical-align: top;\n",
       "    }\n",
       "</style>\n",
       "<table border=\"1\" class=\"dataframe\">\n",
       "  <thead>\n",
       "    <tr>\n",
       "      <th></th>\n",
       "      <th></th>\n",
       "      <th colspan=\"4\" halign=\"left\">Predicted label</th>\n",
       "    </tr>\n",
       "    <tr>\n",
       "      <th></th>\n",
       "      <th></th>\n",
       "      <th>left</th>\n",
       "      <th>bilateral</th>\n",
       "      <th>right</th>\n",
       "      <th>inconclusive</th>\n",
       "    </tr>\n",
       "  </thead>\n",
       "  <tbody>\n",
       "    <tr>\n",
       "      <th rowspan=\"4\" valign=\"top\">True label</th>\n",
       "      <th>left</th>\n",
       "      <td>1</td>\n",
       "      <td>0</td>\n",
       "      <td>0</td>\n",
       "      <td>0</td>\n",
       "    </tr>\n",
       "    <tr>\n",
       "      <th>bilateral</th>\n",
       "      <td>1</td>\n",
       "      <td>0</td>\n",
       "      <td>0</td>\n",
       "      <td>0</td>\n",
       "    </tr>\n",
       "    <tr>\n",
       "      <th>right</th>\n",
       "      <td>0</td>\n",
       "      <td>0</td>\n",
       "      <td>1</td>\n",
       "      <td>0</td>\n",
       "    </tr>\n",
       "    <tr>\n",
       "      <th>inconclusive</th>\n",
       "      <td>0</td>\n",
       "      <td>0</td>\n",
       "      <td>1</td>\n",
       "      <td>0</td>\n",
       "    </tr>\n",
       "  </tbody>\n",
       "</table>\n",
       "</div>"
      ],
      "text/plain": [
       "                        Predicted label                             \n",
       "                                   left bilateral right inconclusive\n",
       "True label left                       1         0     0            0\n",
       "           bilateral                  1         0     0            0\n",
       "           right                      0         0     1            0\n",
       "           inconclusive               0         0     1            0"
      ]
     },
     "execution_count": 13,
     "metadata": {},
     "output_type": "execute_result"
    }
   ],
   "source": [
    "cmDf"
   ]
  },
  {
   "cell_type": "markdown",
   "metadata": {},
   "source": [
    "### scale confusion matrix by total number of cases"
   ]
  },
  {
   "cell_type": "code",
   "execution_count": 14,
   "metadata": {
    "collapsed": true
   },
   "outputs": [],
   "source": [
    "def makeScaleCm(cmDf):\n",
    "    return (cmDf.astype(float).T / cmDf.sum(axis=1)).T"
   ]
  },
  {
   "cell_type": "code",
   "execution_count": 15,
   "metadata": {
    "collapsed": true
   },
   "outputs": [],
   "source": [
    "cmScaleDf = makeScaleCm(cmDf)"
   ]
  },
  {
   "cell_type": "code",
   "execution_count": 16,
   "metadata": {},
   "outputs": [
    {
     "data": {
      "text/html": [
       "<div>\n",
       "<style>\n",
       "    .dataframe thead tr:only-child th {\n",
       "        text-align: right;\n",
       "    }\n",
       "\n",
       "    .dataframe thead th {\n",
       "        text-align: left;\n",
       "    }\n",
       "\n",
       "    .dataframe tbody tr th {\n",
       "        vertical-align: top;\n",
       "    }\n",
       "</style>\n",
       "<table border=\"1\" class=\"dataframe\">\n",
       "  <thead>\n",
       "    <tr>\n",
       "      <th></th>\n",
       "      <th></th>\n",
       "      <th colspan=\"4\" halign=\"left\">Predicted label</th>\n",
       "    </tr>\n",
       "    <tr>\n",
       "      <th></th>\n",
       "      <th></th>\n",
       "      <th>left</th>\n",
       "      <th>bilateral</th>\n",
       "      <th>right</th>\n",
       "      <th>inconclusive</th>\n",
       "    </tr>\n",
       "  </thead>\n",
       "  <tbody>\n",
       "    <tr>\n",
       "      <th rowspan=\"4\" valign=\"top\">True label</th>\n",
       "      <th>left</th>\n",
       "      <td>1.0</td>\n",
       "      <td>0.0</td>\n",
       "      <td>0.0</td>\n",
       "      <td>0.0</td>\n",
       "    </tr>\n",
       "    <tr>\n",
       "      <th>bilateral</th>\n",
       "      <td>1.0</td>\n",
       "      <td>0.0</td>\n",
       "      <td>0.0</td>\n",
       "      <td>0.0</td>\n",
       "    </tr>\n",
       "    <tr>\n",
       "      <th>right</th>\n",
       "      <td>0.0</td>\n",
       "      <td>0.0</td>\n",
       "      <td>1.0</td>\n",
       "      <td>0.0</td>\n",
       "    </tr>\n",
       "    <tr>\n",
       "      <th>inconclusive</th>\n",
       "      <td>0.0</td>\n",
       "      <td>0.0</td>\n",
       "      <td>1.0</td>\n",
       "      <td>0.0</td>\n",
       "    </tr>\n",
       "  </tbody>\n",
       "</table>\n",
       "</div>"
      ],
      "text/plain": [
       "                        Predicted label                             \n",
       "                                   left bilateral right inconclusive\n",
       "True label left                     1.0       0.0   0.0          0.0\n",
       "           bilateral                1.0       0.0   0.0          0.0\n",
       "           right                    0.0       0.0   1.0          0.0\n",
       "           inconclusive             0.0       0.0   1.0          0.0"
      ]
     },
     "execution_count": 16,
     "metadata": {},
     "output_type": "execute_result"
    }
   ],
   "source": [
    "cmScaleDf"
   ]
  },
  {
   "cell_type": "markdown",
   "metadata": {},
   "source": [
    "sanity check: true labels for each class should add up to one"
   ]
  },
  {
   "cell_type": "code",
   "execution_count": 17,
   "metadata": {},
   "outputs": [
    {
     "data": {
      "text/plain": [
       "True label  left            1.0\n",
       "            bilateral       1.0\n",
       "            right           1.0\n",
       "            inconclusive    1.0\n",
       "dtype: float64"
      ]
     },
     "execution_count": 17,
     "metadata": {},
     "output_type": "execute_result"
    }
   ],
   "source": [
    "cmScaleDf.T.sum()"
   ]
  },
  {
   "cell_type": "markdown",
   "metadata": {},
   "source": [
    "### get diagonal (correct answers only)"
   ]
  },
  {
   "cell_type": "code",
   "execution_count": 18,
   "metadata": {
    "collapsed": true
   },
   "outputs": [],
   "source": [
    "def makeDiagCm(cmDf, idx):\n",
    "\n",
    "    # get diagonal\n",
    "    diagDf = pd.DataFrame(np.diagonal(cmDf)).T\n",
    "    diagDf.index = idx\n",
    "    diagDf.columns = cmDf.columns\n",
    "\n",
    "    return diagDf"
   ]
  },
  {
   "cell_type": "code",
   "execution_count": 19,
   "metadata": {
    "collapsed": true
   },
   "outputs": [],
   "source": [
    "diagDf = makeDiagCm(cmDf, [['diag'], [0]])"
   ]
  },
  {
   "cell_type": "code",
   "execution_count": 20,
   "metadata": {},
   "outputs": [
    {
     "data": {
      "text/html": [
       "<div>\n",
       "<style>\n",
       "    .dataframe thead tr:only-child th {\n",
       "        text-align: right;\n",
       "    }\n",
       "\n",
       "    .dataframe thead th {\n",
       "        text-align: left;\n",
       "    }\n",
       "\n",
       "    .dataframe tbody tr th {\n",
       "        vertical-align: top;\n",
       "    }\n",
       "</style>\n",
       "<table border=\"1\" class=\"dataframe\">\n",
       "  <thead>\n",
       "    <tr>\n",
       "      <th></th>\n",
       "      <th></th>\n",
       "      <th colspan=\"4\" halign=\"left\">Predicted label</th>\n",
       "    </tr>\n",
       "    <tr>\n",
       "      <th></th>\n",
       "      <th></th>\n",
       "      <th>left</th>\n",
       "      <th>bilateral</th>\n",
       "      <th>right</th>\n",
       "      <th>inconclusive</th>\n",
       "    </tr>\n",
       "  </thead>\n",
       "  <tbody>\n",
       "    <tr>\n",
       "      <th>diag</th>\n",
       "      <th>0</th>\n",
       "      <td>1</td>\n",
       "      <td>0</td>\n",
       "      <td>1</td>\n",
       "      <td>0</td>\n",
       "    </tr>\n",
       "  </tbody>\n",
       "</table>\n",
       "</div>"
      ],
      "text/plain": [
       "       Predicted label                             \n",
       "                  left bilateral right inconclusive\n",
       "diag 0               1         0     1            0"
      ]
     },
     "execution_count": 20,
     "metadata": {},
     "output_type": "execute_result"
    }
   ],
   "source": [
    "diagDf"
   ]
  },
  {
   "cell_type": "markdown",
   "metadata": {},
   "source": [
    "### get accuracy from diagonal"
   ]
  },
  {
   "cell_type": "code",
   "execution_count": 21,
   "metadata": {
    "collapsed": true
   },
   "outputs": [],
   "source": [
    "def getAcc(cmDf, drop=True):\n",
    "\n",
    "    # get absolute count of hits (diagonal)\n",
    "    n_diag = makeDiagCm(cmDf, [['total'], ['total']]).sum(axis=1).values[-1]\n",
    "\n",
    "    # get absolute count of all test data\n",
    "    n_total = cmDf.sum().sum()\n",
    "\n",
    "    # get proportion\n",
    "    prop = n_diag / float(n_total)\n",
    "\n",
    "    return pd.DataFrame([prop], index=['acc']).T"
   ]
  },
  {
   "cell_type": "code",
   "execution_count": 22,
   "metadata": {},
   "outputs": [
    {
     "data": {
      "text/html": [
       "<div>\n",
       "<style>\n",
       "    .dataframe thead tr:only-child th {\n",
       "        text-align: right;\n",
       "    }\n",
       "\n",
       "    .dataframe thead th {\n",
       "        text-align: left;\n",
       "    }\n",
       "\n",
       "    .dataframe tbody tr th {\n",
       "        vertical-align: top;\n",
       "    }\n",
       "</style>\n",
       "<table border=\"1\" class=\"dataframe\">\n",
       "  <thead>\n",
       "    <tr style=\"text-align: right;\">\n",
       "      <th></th>\n",
       "      <th>acc</th>\n",
       "    </tr>\n",
       "  </thead>\n",
       "  <tbody>\n",
       "    <tr>\n",
       "      <th>0</th>\n",
       "      <td>0.5</td>\n",
       "    </tr>\n",
       "  </tbody>\n",
       "</table>\n",
       "</div>"
      ],
      "text/plain": [
       "   acc\n",
       "0  0.5"
      ]
     },
     "execution_count": 22,
     "metadata": {},
     "output_type": "execute_result"
    }
   ],
   "source": [
    "getAcc(cmDf, drop=True)"
   ]
  },
  {
   "cell_type": "markdown",
   "metadata": {},
   "source": [
    "### sort accuracies by percentiles"
   ]
  },
  {
   "cell_type": "markdown",
   "metadata": {},
   "source": [
    "To now be able to select the best-performing parameters for prediction, we get the percentile of best accuracy for each cell of the accDf table"
   ]
  },
  {
   "cell_type": "code",
   "execution_count": 23,
   "metadata": {
    "collapsed": true
   },
   "outputs": [],
   "source": [
    "from scipy import stats"
   ]
  },
  {
   "cell_type": "code",
   "execution_count": 24,
   "metadata": {
    "collapsed": true
   },
   "outputs": [],
   "source": [
    "def makePercentileDf(accDf):\n",
    "\n",
    "    # put the dataframe in to a 1d array\n",
    "    a = np.array(accDf.stack())\n",
    "    # get the percentile scores for all accuracy values\n",
    "    percentileList = [(i, stats.percentileofscore(a, i)) for i in np.unique(a)]\n",
    "    percentileDf = pd.DataFrame(percentileList)\n",
    "    # clean up index\n",
    "    percentileDf.index = percentileDf[0]\n",
    "    percentileDf.drop(0, inplace=True, axis=1)\n",
    "    # put back into dict, with accuracies as keys and percentiles as values\n",
    "    percentileDict = percentileDf.to_dict()[1]\n",
    "\n",
    "    # make a 2x2 table in the same format as the accDf, but with\n",
    "    # percentile scores in the respective cells\n",
    "    pcDf = accDf.copy()\n",
    "    for i in accDf.index:\n",
    "        for c in accDf.columns:\n",
    "            thisCell = accDf.loc[i][round(c, 1)]\n",
    "            pcDf.set_value(i, round(c, 1), percentileDict[thisCell])\n",
    "\n",
    "    return pcDf"
   ]
  },
  {
   "cell_type": "markdown",
   "metadata": {},
   "source": [
    "### get significance"
   ]
  },
  {
   "cell_type": "markdown",
   "metadata": {},
   "source": [
    "get the guessing rate (always predicting the largest class):"
   ]
  },
  {
   "cell_type": "code",
   "execution_count": 25,
   "metadata": {
    "collapsed": true
   },
   "outputs": [],
   "source": [
    "def getGuessingRate(my_list, drop=True):\n",
    "    groups = np.unique(np.array(my_list)[:, 0])\n",
    "    if drop:\n",
    "        groups = groups[groups != 'inconclusive']\n",
    "    f = lambda x: len(np.where(np.array(my_list)[:, 0] == x)[-1])\n",
    "    a = np.array(map(f, groups))\n",
    "    guessingRate = float(a.max()) / a.sum()\n",
    "    return guessingRate"
   ]
  },
  {
   "cell_type": "code",
   "execution_count": 26,
   "metadata": {
    "collapsed": true
   },
   "outputs": [],
   "source": [
    "guessingRate = getGuessingRate(my_train, drop=False)"
   ]
  },
  {
   "cell_type": "code",
   "execution_count": 27,
   "metadata": {},
   "outputs": [
    {
     "data": {
      "text/plain": [
       "0.6737044145873321"
      ]
     },
     "execution_count": 27,
     "metadata": {},
     "output_type": "execute_result"
    }
   ],
   "source": [
    "guessingRate"
   ]
  },
  {
   "cell_type": "code",
   "execution_count": 28,
   "metadata": {
    "collapsed": true
   },
   "outputs": [],
   "source": [
    "def getSigMap(accDf, my_train=my_train, drop=True):\n",
    "    # what is the chance of guessing correctly?\n",
    "    guessingRate = getGuessingRate(my_train, drop=drop)\n",
    "    # what is the sample size for the predictions?\n",
    "    nOfNest = len(my_train)\n",
    "\n",
    "    # function to compute a binomal test\n",
    "    fBinom = lambda x:stats.binom_test(x*nOfNest,n=nOfNest,p=guessingRate,alternative='two-sided')\n",
    "\n",
    "    # compute the probability of getting the accuracy in each cell by chance,\n",
    "    # given the specified guessing rate and sample size\n",
    "    sigMap = accDf.applymap(fBinom)\n",
    "\n",
    "    return sigMap"
   ]
  },
  {
   "cell_type": "markdown",
   "metadata": {},
   "source": [
    "### do this on group level"
   ]
  },
  {
   "cell_type": "code",
   "execution_count": 29,
   "metadata": {
    "collapsed": true
   },
   "outputs": [],
   "source": [
    "def makeGroupPred(my_list, clfDict, pcDf, whichD='1d', drop=True):\n",
    "\n",
    "    bigDf = pd.DataFrame()\n",
    "\n",
    "    for group, pName in my_list:\n",
    "        #print group,pName\n",
    "        dataDict = getDataDict((group, pName), my_list, whichD=whichD)\n",
    "        predDf = makeAllPred(dataDict, clfDict)\n",
    "        curveDf = makePredPercCurves(predDf, pcDf)\n",
    "\n",
    "        thisDf = curveDf.T\n",
    "        thisDf.index = [[group] * len(thisDf.index),\n",
    "                        [pName] * len(thisDf.index), thisDf.index]\n",
    "        bigDf = pd.concat([bigDf, thisDf])\n",
    "\n",
    "    bigDf.sort_index(inplace=True)\n",
    "\n",
    "    if drop:\n",
    "        bigDf = bigDf.drop('inconclusive')\n",
    "\n",
    "    return bigDf"
   ]
  },
  {
   "cell_type": "markdown",
   "metadata": {},
   "source": [
    "### evaluate the results for one patient"
   ]
  },
  {
   "cell_type": "code",
   "execution_count": 30,
   "metadata": {
    "collapsed": true
   },
   "outputs": [],
   "source": [
    "def makeEval(bigDf, group, pName):\n",
    "\n",
    "    # pick a person\n",
    "    thisDf = bigDf.loc[group].loc[pName]\n",
    "\n",
    "    # get the winners\n",
    "    thisMax = thisDf.T.idxmax(axis=1)\n",
    "\n",
    "    # make into binary 1=hit 0=miss\n",
    "    thisInt = (thisMax == group).astype(int)\n",
    "\n",
    "    # make into df\n",
    "    thisOut = pd.DataFrame(thisInt).T\n",
    "    thisOut.index = [[group], [pName]]\n",
    "\n",
    "    return thisOut"
   ]
  },
  {
   "cell_type": "markdown",
   "metadata": {},
   "source": [
    "### evaluate the results for all patients"
   ]
  },
  {
   "cell_type": "code",
   "execution_count": 31,
   "metadata": {
    "collapsed": true
   },
   "outputs": [],
   "source": [
    "def makeBigEval(bigDf):\n",
    "\n",
    "    bigEvalDf = pd.DataFrame()\n",
    "\n",
    "    for group in bigDf.index.levels[0]:\n",
    "        thisGroupDf = bigDf.loc[group]\n",
    "\n",
    "        for pName in thisGroupDf.index.remove_unused_levels().levels[0]:\n",
    "            thisEvalDf = makeEval(bigDf, group, pName)\n",
    "            bigEvalDf = pd.concat([bigEvalDf, thisEvalDf])\n",
    "\n",
    "    return bigEvalDf"
   ]
  },
  {
   "cell_type": "markdown",
   "metadata": {},
   "source": [
    "### summary of performance accross different percentile cutoffs"
   ]
  },
  {
   "cell_type": "markdown",
   "metadata": {},
   "source": [
    "make plots with accuracies for different level of aggreggation and mark the percentile that corresponds to p<0.001"
   ]
  },
  {
   "cell_type": "code",
   "execution_count": 32,
   "metadata": {
    "collapsed": true
   },
   "outputs": [],
   "source": [
    "def makeOverallAcc(bigEvalDf, mark, ax):\n",
    "    ax.plot(bigEvalDf.mean())\n",
    "    ax.axvline(mark, linestyle='dashed', c='k')\n",
    "    return ax"
   ]
  },
  {
   "cell_type": "code",
   "execution_count": 33,
   "metadata": {
    "collapsed": true
   },
   "outputs": [],
   "source": [
    "def makeFineAcc(bigEvalDf, mark, ax):\n",
    "    for i in bigEvalDf.index.levels[0]:\n",
    "        thisDf = bigEvalDf.loc[i].mean(axis=0)\n",
    "        ax.plot(thisDf, label=i)\n",
    "    ax.legend(loc='best')\n",
    "    ax.axvline(mark, linestyle='dashed', c='k')\n",
    "    return ax"
   ]
  },
  {
   "cell_type": "markdown",
   "metadata": {},
   "source": [
    "### make confusion matrices"
   ]
  },
  {
   "cell_type": "code",
   "execution_count": 34,
   "metadata": {
    "collapsed": true
   },
   "outputs": [],
   "source": [
    "def makeBigCm(bigDf, pc, myLabeler=myLabeler, drop=True):\n",
    "\n",
    "    fu = pd.DataFrame(pd.DataFrame(bigDf[pc]).unstack(-1)[pc].idxmax(axis=1))\n",
    "\n",
    "    cmDf = pd.DataFrame()\n",
    "\n",
    "    # we want to hard-code the order to be more logical (from left to right)\n",
    "    if drop == False:\n",
    "        theseLabels = np.array(['left', 'bilateral', 'right', 'inconclusive'])\n",
    "    else:\n",
    "        theseLabels = np.array(['left', 'bilateral', 'right'])\n",
    "\n",
    "    for c in theseLabels:\n",
    "        thisDf = fu[fu == c].groupby(level=0).count()\n",
    "        thisDf.columns = [c]\n",
    "        cmDf = pd.concat([cmDf, thisDf], axis=1)\n",
    "\n",
    "    cmDf = cmDf.reindex(index=theseLabels)\n",
    "    cmDf = cmDf.reindex(columns=theseLabels)\n",
    "\n",
    "    cmDf.index = [['True label'] * cmDf.shape[0], theseLabels]\n",
    "    cmDf.columns = [['Predicted label'] * cmDf.shape[1], theseLabels]\n",
    "\n",
    "    return cmDf"
   ]
  },
  {
   "cell_type": "markdown",
   "metadata": {
    "collapsed": true
   },
   "source": [
    "### re-load"
   ]
  },
  {
   "cell_type": "code",
   "execution_count": 35,
   "metadata": {
    "collapsed": true
   },
   "outputs": [],
   "source": [
    "def getForAccPlot(thisDimension, thisDrop, my_train):\n",
    "\n",
    "    # some standard stuff that is not supposed to change\n",
    "    dropName = ['full', 'drop'][thisDrop]\n",
    "\n",
    "    alpha = 0.001\n",
    "\n",
    "    # get the classifier\n",
    "    clfDict = pickle.load(\n",
    "        open('../models/clf_%s_%s.p' % (thisDimension, dropName),\n",
    "             'rb'))\n",
    "    accDict = pickle.load(\n",
    "        open('../models/acc_%s_%s.p' % (thisDimension, dropName),\n",
    "             'rb'))\n",
    "    accDf = pd.DataFrame(accDict).T\n",
    "    pcDf = makePercentileDf(accDf)\n",
    "\n",
    "    # get the guessing rate\n",
    "    guessingRate = getGuessingRate(my_train, drop=thisDrop)\n",
    "\n",
    "    # get the best and worst accuracies\n",
    "    minAcc = accDf.min().min()\n",
    "    maxAcc = accDf.max().max()\n",
    "\n",
    "    # get the accuracy corresponding to above-chance\n",
    "    sigMap = getSigMap(accDf, drop=thisDrop)\n",
    "    minSig = accDf[accDf > guessingRate][sigMap < alpha].min().min()\n",
    "\n",
    "    return accDf, guessingRate, sigMap, minSig, maxAcc"
   ]
  },
  {
   "cell_type": "code",
   "execution_count": 36,
   "metadata": {
    "collapsed": true
   },
   "outputs": [],
   "source": [
    "def makeAccAx(accDf, guessingRate, sigMap, minSig, maxAcc, ax):\n",
    "\n",
    "    alpha = 0.001\n",
    "\n",
    "    # get the proportions of the colobars right:\n",
    "    totalSize = maxAcc - guessingRate\n",
    "    propBlue = (minSig - guessingRate) / totalSize\n",
    "    propRed = (maxAcc - minSig) / totalSize\n",
    "    #print 'propBlue,propRed',propBlue,propRed\n",
    "\n",
    "    ax = sns.heatmap(\n",
    "        accDf[sigMap > alpha].fillna(0) +\n",
    "        accDf[accDf < guessingRate][sigMap < alpha].fillna(0),\n",
    "        vmin=guessingRate,\n",
    "        vmax=minSig,\n",
    "        cmap='Blues_r',\n",
    "        ax=ax,\n",
    "        cbar_kws={\n",
    "            \"aspect\":\n",
    "            propBlue * 10.2,\n",
    "            \"shrink\":\n",
    "            propBlue,\n",
    "            'format':\n",
    "            '%.2f',\n",
    "            'use_gridspec':\n",
    "            False,\n",
    "            'anchor': (-2, .0),\n",
    "            'ticks': (np.linspace(guessingRate, minSig,\n",
    "                                  (propBlue * 10).astype(int) + 1))[:-1]\n",
    "        })\n",
    "\n",
    "    ax = sns.heatmap(\n",
    "        accDf[accDf > guessingRate][sigMap < alpha],\n",
    "        vmin=minSig,\n",
    "        vmax=maxAcc,\n",
    "        cmap='Reds',\n",
    "        ax=ax,\n",
    "        cbar_kws={\n",
    "            \"aspect\": propRed * 10,\n",
    "            \"shrink\": propRed,\n",
    "            'format': '%.2f',\n",
    "            'use_gridspec': False,\n",
    "            'anchor': (.0, 1.0),\n",
    "            'ticks': np.linspace(minSig, maxAcc,\n",
    "                                 (propRed * 10).astype(int) + 2)\n",
    "        })\n",
    "\n",
    "    ax.set_xticks(range(len(accDf.columns) + 1)[::5])\n",
    "\n",
    "    return ax"
   ]
  },
  {
   "cell_type": "markdown",
   "metadata": {},
   "source": [
    "Naming of conditions:"
   ]
  },
  {
   "cell_type": "code",
   "execution_count": 37,
   "metadata": {
    "collapsed": true
   },
   "outputs": [],
   "source": [
    "dTitle1 = {'1d': '(L-R)/(L+R)', '2d': 'L-R & L+R'}\n",
    "\n",
    "dTitle2 = {\n",
    "    True: 'without inconclusive cases',\n",
    "    False: 'with inconclusive cases'\n",
    "}"
   ]
  },
  {
   "cell_type": "code",
   "execution_count": 38,
   "metadata": {
    "collapsed": true
   },
   "outputs": [],
   "source": [
    "# store results in dict\n",
    "resultDict = {}\n",
    "\n",
    "for myDim in ['1d', '2d']:\n",
    "    resultDict[dTitle1[myDim]] = {}\n",
    "    for myDrop in [True, False]:\n",
    "\n",
    "        accDf, guessingRate, sigMap, minSig, maxAcc = getForAccPlot(\n",
    "            myDim, myDrop, my_train)\n",
    "\n",
    "        resultDict[dTitle1[myDim]][dTitle2[myDrop]] = {\n",
    "            'guessing rate': guessingRate,\n",
    "            'lowest significant accuracy': minSig,\n",
    "            'highest accuracy': maxAcc\n",
    "        }\n",
    "\n",
    "resultDf = pd.DataFrame.from_dict({(i, j): resultDict[i][j]\n",
    "                                   for i in resultDict.keys()\n",
    "                                   for j in resultDict[i].keys()},\n",
    "                                  orient='index')"
   ]
  },
  {
   "cell_type": "code",
   "execution_count": 39,
   "metadata": {
    "collapsed": true
   },
   "outputs": [],
   "source": [
    "resultDf = pd.DataFrame.from_dict({(i, j): resultDict[i][j]\n",
    "                                   for i in resultDict.keys()\n",
    "                                   for j in resultDict[i].keys()},\n",
    "                                  orient='index')\n",
    "resultDf = resultDf.reorder_levels([1, 0])"
   ]
  },
  {
   "cell_type": "code",
   "execution_count": 40,
   "metadata": {},
   "outputs": [
    {
     "data": {
      "text/html": [
       "<div>\n",
       "<style>\n",
       "    .dataframe thead tr:only-child th {\n",
       "        text-align: right;\n",
       "    }\n",
       "\n",
       "    .dataframe thead th {\n",
       "        text-align: left;\n",
       "    }\n",
       "\n",
       "    .dataframe tbody tr th {\n",
       "        vertical-align: top;\n",
       "    }\n",
       "</style>\n",
       "<table border=\"1\" class=\"dataframe\">\n",
       "  <thead>\n",
       "    <tr style=\"text-align: right;\">\n",
       "      <th></th>\n",
       "      <th></th>\n",
       "      <th>highest accuracy</th>\n",
       "      <th>guessing rate</th>\n",
       "      <th>lowest significant accuracy</th>\n",
       "    </tr>\n",
       "  </thead>\n",
       "  <tbody>\n",
       "    <tr>\n",
       "      <th>with inconclusive cases</th>\n",
       "      <th>(L-R)/(L+R)</th>\n",
       "      <td>0.813793</td>\n",
       "      <td>0.673704</td>\n",
       "      <td>0.742835</td>\n",
       "    </tr>\n",
       "    <tr>\n",
       "      <th>without inconclusive cases</th>\n",
       "      <th>(L-R)/(L+R)</th>\n",
       "      <td>0.918472</td>\n",
       "      <td>0.812500</td>\n",
       "      <td>0.867593</td>\n",
       "    </tr>\n",
       "    <tr>\n",
       "      <th>with inconclusive cases</th>\n",
       "      <th>L-R &amp; L+R</th>\n",
       "      <td>0.842835</td>\n",
       "      <td>0.673704</td>\n",
       "      <td>0.742912</td>\n",
       "    </tr>\n",
       "    <tr>\n",
       "      <th>without inconclusive cases</th>\n",
       "      <th>L-R &amp; L+R</th>\n",
       "      <td>0.913796</td>\n",
       "      <td>0.812500</td>\n",
       "      <td>0.867593</td>\n",
       "    </tr>\n",
       "  </tbody>\n",
       "</table>\n",
       "</div>"
      ],
      "text/plain": [
       "                                        highest accuracy  guessing rate  \\\n",
       "with inconclusive cases    (L-R)/(L+R)          0.813793       0.673704   \n",
       "without inconclusive cases (L-R)/(L+R)          0.918472       0.812500   \n",
       "with inconclusive cases    L-R & L+R            0.842835       0.673704   \n",
       "without inconclusive cases L-R & L+R            0.913796       0.812500   \n",
       "\n",
       "                                        lowest significant accuracy  \n",
       "with inconclusive cases    (L-R)/(L+R)                     0.742835  \n",
       "without inconclusive cases (L-R)/(L+R)                     0.867593  \n",
       "with inconclusive cases    L-R & L+R                       0.742912  \n",
       "without inconclusive cases L-R & L+R                       0.867593  "
      ]
     },
     "execution_count": 40,
     "metadata": {},
     "output_type": "execute_result"
    }
   ],
   "source": [
    "resultDf"
   ]
  },
  {
   "cell_type": "code",
   "execution_count": 41,
   "metadata": {},
   "outputs": [
    {
     "name": "stdout",
     "output_type": "stream",
     "text": [
      "dim=1d,drop=True, guess=0.81, sig=0.87, acc=0.92\n"
     ]
    },
    {
     "name": "stderr",
     "output_type": "stream",
     "text": [
      "/data/martin/frontSub/venv/lib/python2.7/site-packages/matplotlib/axes/_base.py:1298: UnicodeWarning: Unicode equal comparison failed to convert both arguments to Unicode - interpreting them as being unequal\n",
      "  if aspect == 'normal':\n",
      "/data/martin/frontSub/venv/lib/python2.7/site-packages/matplotlib/axes/_base.py:1303: UnicodeWarning: Unicode equal comparison failed to convert both arguments to Unicode - interpreting them as being unequal\n",
      "  elif aspect in ('equal', 'auto'):\n"
     ]
    },
    {
     "name": "stdout",
     "output_type": "stream",
     "text": [
      "dim=1d,drop=False, guess=0.67, sig=0.74, acc=0.81\n",
      "dim=2d,drop=True, guess=0.81, sig=0.87, acc=0.91\n",
      "dim=2d,drop=False, guess=0.67, sig=0.74, acc=0.84\n"
     ]
    },
    {
     "data": {
      "image/png": "[encoded data removed]",
      "text/plain": [
       "<matplotlib.figure.Figure at 0x7fd8549d7250>"
      ]
     },
     "metadata": {},
     "output_type": "display_data"
    }
   ],
   "source": [
    "# show accuracies and significance\n",
    "fig = plt.figure(figsize=(16, 11))\n",
    "i = 1\n",
    "for myDim in ['1d', '2d']:\n",
    "    for myDrop in [True, False]:\n",
    "\n",
    "        ax = plt.subplot(2, 2, i)\n",
    "        if myDrop == False:\n",
    "            l, b, w, h = ax.get_position().bounds\n",
    "            ax.set_position([l - 0.08, b, w, h])\n",
    "        myTitle = dTitle1[myDim] + ', ' + dTitle2[myDrop]\n",
    "        ax.set_title(myTitle, fontsize=14)\n",
    "\n",
    "        accDf, guessingRate, sigMap, minSig, maxAcc = getForAccPlot(\n",
    "            myDim, myDrop, my_train)\n",
    "\n",
    "        print 'dim=%s,drop=%s, guess=%s, sig=%s, acc=%s'%(myDim, myDrop, round(guessingRate,2), round(minSig,2), round(maxAcc,2))\n",
    "\n",
    "        # set the top value to each pair's highest value, so plots are more\n",
    "        # comparable\n",
    "\n",
    "        maxMax = resultDf.loc[:, 'highest accuracy'].loc[dTitle2[myDrop]].max()\n",
    "\n",
    "        ax = makeAccAx(accDf, guessingRate, sigMap, minSig, maxMax, ax)\n",
    "        # this is very weird behavior: to get the labels to rotate by 90 degrees,\n",
    "        # we have to invert their order and rotate them by 360...?\n",
    "        ax.set_yticklabels(accDf.index[::-1], rotation=360)\n",
    "\n",
    "        myX = np.concatenate([accDf.columns[::5], np.array([15])])\n",
    "        ax.set_xticklabels(myX.astype(int), rotation=360)\n",
    "\n",
    "        if myDim == '2d':\n",
    "            ax.set_xlabel('t value for thresholding', fontsize=12)\n",
    "\n",
    "        if myDrop:\n",
    "            ax.set_ylabel('percentile cutoff for ROI definition', fontsize=12)\n",
    "\n",
    "        i += 1\n",
    "\n",
    "fig.savefig(\n",
    "    '../reports/figures/07-training-feature-accuracy.png',\n",
    "    dpi=600,\n",
    "    bbox_inches='tight')\n",
    "\n",
    "plt.show()"
   ]
  }
 ],
 "metadata": {
  "kernelspec": {
   "display_name": "Python 2",
   "language": "python",
   "name": "python2"
  },
  "language_info": {
   "codemirror_mode": {
    "name": "ipython",
    "version": 2
   },
   "file_extension": ".py",
   "mimetype": "text/x-python",
   "name": "python",
   "nbconvert_exporter": "python",
   "pygments_lexer": "ipython2",
   "version": "2.7.14"
  },
  "varInspector": {
   "cols": {
    "lenName": 16,
    "lenType": 16,
    "lenVar": 40
   },
   "kernels_config": {
    "python": {
     "delete_cmd_postfix": "",
     "delete_cmd_prefix": "del ",
     "library": "var_list.py",
     "varRefreshCmd": "print(var_dic_list())"
    },
    "r": {
     "delete_cmd_postfix": ") ",
     "delete_cmd_prefix": "rm(",
     "library": "var_list.r",
     "varRefreshCmd": "cat(var_dic_list()) "
    }
   },
   "types_to_exclude": [
    "module",
    "function",
    "builtin_function_or_method",
    "instance",
    "_Feature"
   ],
   "window_display": false
  }
 },
 "nbformat": 4,
 "nbformat_minor": 2
}
