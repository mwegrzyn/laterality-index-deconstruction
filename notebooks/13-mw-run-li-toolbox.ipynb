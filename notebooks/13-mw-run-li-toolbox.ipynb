{
 "cells": [
  {
   "cell_type": "markdown",
   "metadata": {},
   "source": [
    "# Make LIs with the  LI-Toolbox by Wilke"
   ]
  },
  {
   "cell_type": "markdown",
   "metadata": {},
   "source": [
    "### import modules"
   ]
  },
  {
   "cell_type": "code",
   "execution_count": 1,
   "metadata": {
    "collapsed": true
   },
   "outputs": [],
   "source": [
    "import os"
   ]
  },
  {
   "cell_type": "markdown",
   "metadata": {},
   "source": [
    "### get template"
   ]
  },
  {
   "cell_type": "code",
   "execution_count": 4,
   "metadata": {
    "collapsed": true
   },
   "outputs": [],
   "source": [
    "with open('../helper/li_tool_template.m','r') as f:\n",
    "    txt = f.read()"
   ]
  },
  {
   "cell_type": "code",
   "execution_count": 5,
   "metadata": {},
   "outputs": [
    {
     "name": "stdout",
     "output_type": "stream",
     "text": [
      "% spm defaults\n",
      "spm('defaults','fmri');\n",
      "spm_jobman('initcfg');\n",
      "\n",
      "dirContent = dir(myDir);\n",
      "fileList = {dirContent.name};\n",
      "\n",
      "myFiles = {};\n",
      "for i=1:length(fileList),\n",
      "    if (fileList{i}(1)=='t') == 1,\n",
      "        myFiles = [myFiles strcat(myDir,fileList{i})];\n",
      "    end\n",
      "end\n",
      "\n",
      "% the main script\n",
      "\n",
      "\n"
     ]
    }
   ],
   "source": [
    "print txt"
   ]
  },
  {
   "cell_type": "markdown",
   "metadata": {},
   "source": [
    "### make files for big sample"
   ]
  },
  {
   "cell_type": "code",
   "execution_count": 6,
   "metadata": {},
   "outputs": [
    {
     "name": "stdout",
     "output_type": "stream",
     "text": [
      "AllFixedCountLI\n",
      "AllFixedMeanLI\n",
      "AllBootLI\n",
      "AllAdaptMeanLI\n"
     ]
    }
   ],
   "source": [
    "myDir = '../data/raw/nii/'\n",
    "dirVar = \"myDir = '%s';\\n\\n\"%myDir\n",
    "\n",
    "cmdList = [\"out = struct('A',char(myFiles),'B1',1,'C1',1,'thr1',1,'thr3',3,'vc',1,'outfile','AllFixedCountLI.txt');\\nLI(out);\",\n",
    "           \"out = struct('A',char(myFiles),'B1',1,'C1',1,'thr1',1,'thr3',3,'vc',0,'outfile','AllFixedMeanLI.txt');\\nLI(out);\",\n",
    "           \"out = struct('A',char(myFiles),'B1',1,'C1',1,'thr1',-5,'vc',0,'outfile','AllBootLI.txt');\\nLI(out);\",\n",
    "           \"out = struct('A',char(myFiles),'B1',1,'C1',1,'thr1',-1,'vc',0,'outfile','AllAdaptMeanLI.txt');\\nLI(out);\"]\n",
    "\n",
    "for c in cmdList:\n",
    "    cmdName = c.split(\",'\")[-1].split('.')[0]\n",
    "    print cmdName\n",
    "    with open('../helper/%sScript.m'%cmdName,'w') as f:\n",
    "        f.write(dirVar)\n",
    "        f.write(txt)\n",
    "        f.write(c)\n",
    "    f.close()"
   ]
  },
  {
   "cell_type": "markdown",
   "metadata": {},
   "source": [
    "### re-load scripts"
   ]
  },
  {
   "cell_type": "code",
   "execution_count": 8,
   "metadata": {
    "collapsed": true
   },
   "outputs": [],
   "source": [
    "scriptList = ['../helper/%s'%x for x in os.listdir('../helper/') if x.endswith('Script.m') and 'template' not in x ]\n",
    "scriptList.sort()"
   ]
  },
  {
   "cell_type": "code",
   "execution_count": 9,
   "metadata": {},
   "outputs": [
    {
     "data": {
      "text/plain": [
       "['../helper/AllAdaptMeanLIScript.m',\n",
       " '../helper/AllBootLIScript.m',\n",
       " '../helper/AllFixedCountLIScript.m',\n",
       " '../helper/AllFixedMeanLIScript.m']"
      ]
     },
     "execution_count": 9,
     "metadata": {},
     "output_type": "execute_result"
    }
   ],
   "source": [
    "scriptList"
   ]
  },
  {
   "cell_type": "code",
   "execution_count": 10,
   "metadata": {},
   "outputs": [
    {
     "name": "stdout",
     "output_type": "stream",
     "text": [
      "\n",
      "*********** ../helper/AllAdaptMeanLIScript.m ***********\n",
      "\n",
      "myDir = '../data/raw/nii/';\n",
      "\n",
      "% spm defaults\n",
      "spm('defaults','fmri');\n",
      "spm_jobman('initcfg');\n",
      "\n",
      "dirContent = dir(myDir);\n",
      "fileList = {dirContent.name};\n",
      "\n",
      "myFiles = {};\n",
      "for i=1:length(fileList),\n",
      "    if (fileList{i}(1)=='t') == 1,\n",
      "        myFiles = [myFiles strcat(myDir,fileList{i})];\n",
      "    end\n",
      "end\n",
      "\n",
      "% the main script\n",
      "\n",
      "out = struct('A',char(myFiles),'B1',1,'C1',1,'thr1',-1,'vc',0,'outfile','AllAdaptMeanLI.txt');\n",
      "LI(out);\n",
      "\n",
      "*********** ../helper/AllBootLIScript.m ***********\n",
      "\n",
      "myDir = '../data/raw/nii/';\n",
      "\n",
      "% spm defaults\n",
      "spm('defaults','fmri');\n",
      "spm_jobman('initcfg');\n",
      "\n",
      "dirContent = dir(myDir);\n",
      "fileList = {dirContent.name};\n",
      "\n",
      "myFiles = {};\n",
      "for i=1:length(fileList),\n",
      "    if (fileList{i}(1)=='t') == 1,\n",
      "        myFiles = [myFiles strcat(myDir,fileList{i})];\n",
      "    end\n",
      "end\n",
      "\n",
      "% the main script\n",
      "\n",
      "out = struct('A',char(myFiles),'B1',1,'C1',1,'thr1',-5,'vc',0,'outfile','AllBootLI.txt');\n",
      "LI(out);\n",
      "\n",
      "*********** ../helper/AllFixedCountLIScript.m ***********\n",
      "\n",
      "myDir = '../data/raw/nii/';\n",
      "\n",
      "% spm defaults\n",
      "spm('defaults','fmri');\n",
      "spm_jobman('initcfg');\n",
      "\n",
      "dirContent = dir(myDir);\n",
      "fileList = {dirContent.name};\n",
      "\n",
      "myFiles = {};\n",
      "for i=1:length(fileList),\n",
      "    if (fileList{i}(1)=='t') == 1,\n",
      "        myFiles = [myFiles strcat(myDir,fileList{i})];\n",
      "    end\n",
      "end\n",
      "\n",
      "% the main script\n",
      "\n",
      "out = struct('A',char(myFiles),'B1',1,'C1',1,'thr1',1,'thr3',3,'vc',1,'outfile','AllFixedCountLI.txt');\n",
      "LI(out);\n",
      "\n",
      "*********** ../helper/AllFixedMeanLIScript.m ***********\n",
      "\n",
      "myDir = '../data/raw/nii/';\n",
      "\n",
      "% spm defaults\n",
      "spm('defaults','fmri');\n",
      "spm_jobman('initcfg');\n",
      "\n",
      "dirContent = dir(myDir);\n",
      "fileList = {dirContent.name};\n",
      "\n",
      "myFiles = {};\n",
      "for i=1:length(fileList),\n",
      "    if (fileList{i}(1)=='t') == 1,\n",
      "        myFiles = [myFiles strcat(myDir,fileList{i})];\n",
      "    end\n",
      "end\n",
      "\n",
      "% the main script\n",
      "\n",
      "out = struct('A',char(myFiles),'B1',1,'C1',1,'thr1',1,'thr3',3,'vc',0,'outfile','AllFixedMeanLI.txt');\n",
      "LI(out);\n"
     ]
    }
   ],
   "source": [
    "for s in scriptList:\n",
    "    with open(s,'r') as f:\n",
    "        print '\\n*********** %s ***********\\n' % s\n",
    "        print f.read()"
   ]
  },
  {
   "cell_type": "markdown",
   "metadata": {},
   "source": [
    "### run scripts"
   ]
  },
  {
   "cell_type": "code",
   "execution_count": 11,
   "metadata": {},
   "outputs": [
    {
     "name": "stdout",
     "output_type": "stream",
     "text": [
      "cd ../helper/; matlab -nodisplay -r \"run ../helper/AllAdaptMeanLIScript;exit;cd ../helper/;\"\n",
      "cd ../helper/; matlab -nodisplay -r \"run ../helper/AllBootLIScript;exit;cd ../helper/;\"\n",
      "cd ../helper/; matlab -nodisplay -r \"run ../helper/AllFixedCountLIScript;exit;cd ../helper/;\"\n",
      "cd ../helper/; matlab -nodisplay -r \"run ../helper/AllFixedMeanLIScript;exit;cd ../helper/;\"\n"
     ]
    }
   ],
   "source": [
    "for s in scriptList:\n",
    "    thisCmd = 'cd ../helper/; matlab -nodisplay -r \"run %s;exit;cd ../helper/;\"'%s[:-2]\n",
    "    print thisCmd\n",
    "    os.system(thisCmd)"
   ]
  }
 ],
 "metadata": {
  "kernelspec": {
   "display_name": "Python 2",
   "language": "python",
   "name": "python2"
  },
  "language_info": {
   "codemirror_mode": {
    "name": "ipython",
    "version": 2
   },
   "file_extension": ".py",
   "mimetype": "text/x-python",
   "name": "python",
   "nbconvert_exporter": "python",
   "pygments_lexer": "ipython2",
   "version": "2.7.14"
  },
  "varInspector": {
   "cols": {
    "lenName": 16,
    "lenType": 16,
    "lenVar": 40
   },
   "kernels_config": {
    "python": {
     "delete_cmd_postfix": "",
     "delete_cmd_prefix": "del ",
     "library": "var_list.py",
     "varRefreshCmd": "print(var_dic_list())"
    },
    "r": {
     "delete_cmd_postfix": ") ",
     "delete_cmd_prefix": "rm(",
     "library": "var_list.r",
     "varRefreshCmd": "cat(var_dic_list()) "
    }
   },
   "types_to_exclude": [
    "module",
    "function",
    "builtin_function_or_method",
    "instance",
    "_Feature"
   ],
   "window_display": false
  }
 },
 "nbformat": 4,
 "nbformat_minor": 2
}
