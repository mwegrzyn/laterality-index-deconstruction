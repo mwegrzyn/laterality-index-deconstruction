{
 "cells": [
  {
   "cell_type": "markdown",
   "metadata": {},
   "source": [
    "# Descriptive statistics of Wada test results"
   ]
  },
  {
   "cell_type": "markdown",
   "metadata": {},
   "source": [
    "### import modules"
   ]
  },
  {
   "cell_type": "code",
   "execution_count": 1,
   "metadata": {
    "collapsed": true
   },
   "outputs": [],
   "source": [
    "import pandas as pd\n",
    "import numpy as np\n",
    "\n",
    "from sklearn import cluster\n",
    "\n",
    "import matplotlib.pyplot as plt\n",
    "import seaborn as sns\n",
    "sns.set_style('ticks')\n",
    "sns.set_context('poster')\n",
    "\n",
    "%matplotlib inline"
   ]
  },
  {
   "cell_type": "markdown",
   "metadata": {},
   "source": [
    "### get data"
   ]
  },
  {
   "cell_type": "code",
   "execution_count": 2,
   "metadata": {
    "collapsed": true
   },
   "outputs": [],
   "source": [
    "df = pd.read_csv('../data/raw/csv/wadaData.csv', index_col=[0])"
   ]
  },
  {
   "cell_type": "code",
   "execution_count": 3,
   "metadata": {},
   "outputs": [
    {
     "data": {
      "text/plain": [
       "(65, 9)"
      ]
     },
     "execution_count": 3,
     "metadata": {},
     "output_type": "execute_result"
    }
   ],
   "source": [
    "df.shape"
   ]
  },
  {
   "cell_type": "markdown",
   "metadata": {},
   "source": [
    "### set color scheme"
   ]
  },
  {
   "cell_type": "code",
   "execution_count": 4,
   "metadata": {},
   "outputs": [
    {
     "data": {
      "image/png": "[encoded data removed]",
      "text/plain": [
       "<matplotlib.figure.Figure at 0x7fb2995d2650>"
      ]
     },
     "metadata": {},
     "output_type": "display_data"
    },
    {
     "data": {
      "image/png": "[encoded data removed]",
      "text/plain": [
       "<matplotlib.figure.Figure at 0x7fb29958b4d0>"
      ]
     },
     "metadata": {},
     "output_type": "display_data"
    },
    {
     "data": {
      "image/png": "[encoded data removed]",
      "text/plain": [
       "<matplotlib.figure.Figure at 0x7fb299531750>"
      ]
     },
     "metadata": {},
     "output_type": "display_data"
    }
   ],
   "source": [
    "my_palette = sns.color_palette('Set1', 3)\n",
    "\n",
    "color_dict = {\n",
    "    'left': my_palette[0],\n",
    "    'bilateral': my_palette[2],\n",
    "    'right': my_palette[1]\n",
    "}\n",
    "\n",
    "for c in color_dict.keys()[::-1]:\n",
    "    sns.palplot(color_dict[c])\n",
    "    plt.title(c)"
   ]
  },
  {
   "cell_type": "markdown",
   "metadata": {},
   "source": [
    "### get results of 2-sided Wada"
   ]
  },
  {
   "cell_type": "code",
   "execution_count": 5,
   "metadata": {
    "collapsed": true,
    "scrolled": true
   },
   "outputs": [],
   "source": [
    "df_2sided_wada = df.loc[:, ['wada', 'score']][df.loc[:, 'two'] == 1]\n",
    "df_2sided_wada.loc[:, 'score'] = pd.to_numeric(df_2sided_wada.loc[:, 'score'])"
   ]
  },
  {
   "cell_type": "code",
   "execution_count": 6,
   "metadata": {},
   "outputs": [
    {
     "data": {
      "text/plain": [
       "(44, 2)"
      ]
     },
     "execution_count": 6,
     "metadata": {},
     "output_type": "execute_result"
    }
   ],
   "source": [
    "df_2sided_wada.shape"
   ]
  },
  {
   "cell_type": "code",
   "execution_count": null,
   "metadata": {},
   "outputs": [],
   "source": [
    "df_2sided_wada.tail()"
   ]
  },
  {
   "cell_type": "markdown",
   "metadata": {},
   "source": [
    "### cluster analysis"
   ]
  },
  {
   "cell_type": "markdown",
   "metadata": {},
   "source": [
    "Initialize: Try to find 3 clusters in the data"
   ]
  },
  {
   "cell_type": "code",
   "execution_count": 8,
   "metadata": {
    "collapsed": true
   },
   "outputs": [],
   "source": [
    "clf = cluster.KMeans(n_clusters=3)"
   ]
  },
  {
   "cell_type": "markdown",
   "metadata": {},
   "source": [
    "Fit: cluster the bialteral Wada scores"
   ]
  },
  {
   "cell_type": "code",
   "execution_count": 9,
   "metadata": {
    "collapsed": true
   },
   "outputs": [],
   "source": [
    "df_2sided_wada.loc[:, 'k'] = clf.fit_predict(df_2sided_wada.loc[:, ['score']])"
   ]
  },
  {
   "cell_type": "code",
   "execution_count": null,
   "metadata": {
    "scrolled": true
   },
   "outputs": [],
   "source": [
    "df_2sided_wada.tail()"
   ]
  },
  {
   "cell_type": "markdown",
   "metadata": {},
   "source": [
    "Check if automatic clustering is in accordance with clinical evaluation. If this is the case, each clinical group should be represented by one number - and by a unique number."
   ]
  },
  {
   "cell_type": "code",
   "execution_count": 11,
   "metadata": {},
   "outputs": [
    {
     "data": {
      "image/png": "[encoded data removed]",
      "text/plain": [
       "<matplotlib.figure.Figure at 0x7fb2d8e8d8d0>"
      ]
     },
     "metadata": {},
     "output_type": "display_data"
    }
   ],
   "source": [
    "sns.swarmplot(data=df_2sided_wada, x='wada', y='k')\n",
    "sns.despine()\n",
    "plt.show()"
   ]
  },
  {
   "cell_type": "markdown",
   "metadata": {},
   "source": [
    "### plot a histogram"
   ]
  },
  {
   "cell_type": "code",
   "execution_count": 12,
   "metadata": {
    "collapsed": true,
    "scrolled": false
   },
   "outputs": [],
   "source": [
    "def make_hist_plot(this_df):\n",
    "\n",
    "    # Assign cluster numbers to clinical labels\n",
    "    k_dict = this_df.groupby('wada').first()['k'].to_dict()\n",
    "\n",
    "    # loop through the labels (in a hard-coded order)\n",
    "    for k in ['left', 'bilateral', 'right']:\n",
    "        if k in this_df.loc[:,'wada'].values:\n",
    "            # get all patients from a clinical group/cluster\n",
    "            is_k = (this_df.loc[:, 'k'] == k_dict[k])\n",
    "\n",
    "            # get scores from these patients\n",
    "            x = this_df.loc[:, 'score'][is_k]\n",
    "\n",
    "            # hack in case we only have one value in a group\n",
    "            if x.shape[0]<2:\n",
    "                print x.shape[0],x\n",
    "                x.loc['dummy'] = -999\n",
    "\n",
    "            # make histogram\n",
    "            sns.distplot(\n",
    "                x,\n",
    "                #alpha=0.8,\n",
    "                bins=np.linspace(-1, 1, 21),\n",
    "                kde=False,\n",
    "                color=color_dict[k],\n",
    "                rug=True,\n",
    "                rug_kws={\n",
    "                    \"alpha\": 0.3,\n",
    "                    \"linewidth\": 2\n",
    "                },\n",
    "                label=k)\n",
    "\n",
    "    sns.despine(offset=5, trim=True)\n",
    "\n",
    "    return"
   ]
  },
  {
   "cell_type": "code",
   "execution_count": 13,
   "metadata": {},
   "outputs": [
    {
     "data": {
      "image/png": "[encoded data removed]",
      "text/plain": [
       "<matplotlib.figure.Figure at 0x7fb295bddd90>"
      ]
     },
     "metadata": {},
     "output_type": "display_data"
    }
   ],
   "source": [
    "fig = plt.figure(figsize=(16, 6))\n",
    "make_hist_plot(df_2sided_wada)\n",
    "plt.legend()\n",
    "plt.xlim(1.05, -1.05, -0.1)\n",
    "plt.show()"
   ]
  },
  {
   "cell_type": "markdown",
   "metadata": {},
   "source": [
    "### get results of 1-sided Wada"
   ]
  },
  {
   "cell_type": "code",
   "execution_count": 14,
   "metadata": {
    "collapsed": true,
    "scrolled": true
   },
   "outputs": [],
   "source": [
    "df_1sided_wada = df.loc[:, ['wada', 'score', 'injection']][\n",
    "    df.loc[:, 'one'] == 1]"
   ]
  },
  {
   "cell_type": "code",
   "execution_count": 15,
   "metadata": {},
   "outputs": [
    {
     "data": {
      "text/plain": [
       "(21, 3)"
      ]
     },
     "execution_count": 15,
     "metadata": {},
     "output_type": "execute_result"
    }
   ],
   "source": [
    "df_1sided_wada.shape"
   ]
  },
  {
   "cell_type": "code",
   "execution_count": null,
   "metadata": {},
   "outputs": [],
   "source": [
    "df_1sided_wada.tail()"
   ]
  },
  {
   "cell_type": "code",
   "execution_count": 17,
   "metadata": {},
   "outputs": [
    {
     "data": {
      "image/png": "[encoded data removed]",
      "text/plain": [
       "<matplotlib.figure.Figure at 0x7fb295b0f650>"
      ]
     },
     "metadata": {},
     "output_type": "display_data"
    }
   ],
   "source": [
    "df_1sided_wada.loc[:, 'k'] = clf.fit_predict(df_1sided_wada.loc[:, ['score']])\n",
    "\n",
    "fig = plt.figure(figsize=(12, 4))\n",
    "\n",
    "for n, g in enumerate(['left', 'right']):\n",
    "\n",
    "    injection_side = (df_1sided_wada.loc[:, 'injection'] == g)\n",
    "    this_df = df_1sided_wada[injection_side]\n",
    "    k_dict = this_df.groupby('wada').first()['k'].to_dict()\n",
    "    ax = plt.subplot(1, 2, n + 1)\n",
    "    sns.swarmplot(data=this_df, x='wada', y='k', ax=ax)\n",
    "    sns.despine()\n",
    "    ax.set_title(g)\n",
    "plt.tight_layout()\n",
    "plt.show()"
   ]
  },
  {
   "cell_type": "markdown",
   "metadata": {},
   "source": [
    "### remove problem cases"
   ]
  },
  {
   "cell_type": "code",
   "execution_count": 18,
   "metadata": {
    "collapsed": true
   },
   "outputs": [],
   "source": [
    "df_1sided_wada_clean = df_1sided_wada[(\n",
    "    (df_1sided_wada.loc[:, 'score'] > 0.) &\n",
    "    (df_1sided_wada.loc[:, 'score'] < 0.2)) == False]"
   ]
  },
  {
   "cell_type": "code",
   "execution_count": 19,
   "metadata": {},
   "outputs": [
    {
     "data": {
      "text/plain": [
       "(18, 4)"
      ]
     },
     "execution_count": 19,
     "metadata": {},
     "output_type": "execute_result"
    }
   ],
   "source": [
    "df_1sided_wada_clean.shape"
   ]
  },
  {
   "cell_type": "code",
   "execution_count": 20,
   "metadata": {},
   "outputs": [
    {
     "name": "stderr",
     "output_type": "stream",
     "text": [
      "/data/martin/frontSub/venv/lib/python2.7/site-packages/pandas/core/indexing.py:517: SettingWithCopyWarning: \n",
      "A value is trying to be set on a copy of a slice from a DataFrame.\n",
      "Try using .loc[row_indexer,col_indexer] = value instead\n",
      "\n",
      "See the caveats in the documentation: http://pandas.pydata.org/pandas-docs/stable/indexing.html#indexing-view-versus-copy\n",
      "  self.obj[item] = s\n"
     ]
    },
    {
     "data": {
      "image/png": "[encoded data removed]",
      "text/plain": [
       "<matplotlib.figure.Figure at 0x7fb2995a5050>"
      ]
     },
     "metadata": {},
     "output_type": "display_data"
    }
   ],
   "source": [
    "df_1sided_wada_clean.loc[:, 'k'] = clf.fit_predict(df_1sided_wada_clean.loc[:, ['score']])\n",
    "\n",
    "fig = plt.figure(figsize=(12, 4))\n",
    "\n",
    "for n, g in enumerate(['left', 'right']):\n",
    "\n",
    "    injection_side = (df_1sided_wada_clean.loc[:, 'injection'] == g)\n",
    "    this_df = df_1sided_wada_clean[injection_side]\n",
    "    k_dict = this_df.groupby('wada').first()['k'].to_dict()\n",
    "    ax = plt.subplot(1, 2, n + 1)\n",
    "    sns.swarmplot(data=this_df, x='wada', y='k', ax=ax)\n",
    "    sns.despine()\n",
    "    ax.set_title(g)\n",
    "plt.tight_layout()\n",
    "plt.show()"
   ]
  },
  {
   "cell_type": "markdown",
   "metadata": {},
   "source": [
    "### store data for later re-use"
   ]
  },
  {
   "cell_type": "code",
   "execution_count": 22,
   "metadata": {
    "collapsed": true
   },
   "outputs": [],
   "source": [
    "df_wada_clean = pd.concat([df_2sided_wada,df_1sided_wada_clean])\n",
    "df_wada_clean.to_csv('../data/processed/csv/wada_clean.csv')"
   ]
  },
  {
   "cell_type": "code",
   "execution_count": null,
   "metadata": {},
   "outputs": [],
   "source": [
    "df_wada_clean"
   ]
  },
  {
   "cell_type": "code",
   "execution_count": 24,
   "metadata": {},
   "outputs": [
    {
     "data": {
      "text/plain": [
       "(62, 4)"
      ]
     },
     "execution_count": 24,
     "metadata": {},
     "output_type": "execute_result"
    }
   ],
   "source": [
    "df_wada_clean.shape"
   ]
  },
  {
   "cell_type": "markdown",
   "metadata": {},
   "source": [
    "some stats:"
   ]
  },
  {
   "cell_type": "code",
   "execution_count": 25,
   "metadata": {},
   "outputs": [
    {
     "name": "stdout",
     "output_type": "stream",
     "text": [
      "number of patients: 65\n",
      "number of bilateral tests 44\n",
      "number of unilateral tests 21\n",
      "number of unilateral dropped: 3\n"
     ]
    }
   ],
   "source": [
    "print 'number of patients:',np.unique(df.index).shape[0]\n",
    "print 'number of bilateral tests', df_2sided_wada.shape[0]\n",
    "print 'number of unilateral tests', df_1sided_wada.shape[0]\n",
    "\n",
    "print 'number of unilateral dropped:',df_1sided_wada.shape[0]-df_1sided_wada_clean.shape[0]"
   ]
  },
  {
   "cell_type": "markdown",
   "metadata": {},
   "source": [
    "Distribution of lateralisation"
   ]
  },
  {
   "cell_type": "code",
   "execution_count": 26,
   "metadata": {},
   "outputs": [
    {
     "data": {
      "text/html": [
       "<div>\n",
       "<style>\n",
       "    .dataframe thead tr:only-child th {\n",
       "        text-align: right;\n",
       "    }\n",
       "\n",
       "    .dataframe thead th {\n",
       "        text-align: left;\n",
       "    }\n",
       "\n",
       "    .dataframe tbody tr th {\n",
       "        vertical-align: top;\n",
       "    }\n",
       "</style>\n",
       "<table border=\"1\" class=\"dataframe\">\n",
       "  <thead>\n",
       "    <tr style=\"text-align: right;\">\n",
       "      <th></th>\n",
       "      <th>score</th>\n",
       "    </tr>\n",
       "    <tr>\n",
       "      <th>wada</th>\n",
       "      <th></th>\n",
       "    </tr>\n",
       "  </thead>\n",
       "  <tbody>\n",
       "    <tr>\n",
       "      <th>bilateral</th>\n",
       "      <td>10</td>\n",
       "    </tr>\n",
       "    <tr>\n",
       "      <th>left</th>\n",
       "      <td>39</td>\n",
       "    </tr>\n",
       "    <tr>\n",
       "      <th>right</th>\n",
       "      <td>13</td>\n",
       "    </tr>\n",
       "  </tbody>\n",
       "</table>\n",
       "</div>"
      ],
      "text/plain": [
       "           score\n",
       "wada            \n",
       "bilateral     10\n",
       "left          39\n",
       "right         13"
      ]
     },
     "execution_count": 26,
     "metadata": {},
     "output_type": "execute_result"
    }
   ],
   "source": [
    "lat_df = df_wada_clean.groupby('wada').count().loc[:,['score']]\n",
    "lat_df"
   ]
  },
  {
   "cell_type": "code",
   "execution_count": 27,
   "metadata": {},
   "outputs": [
    {
     "data": {
      "text/html": [
       "<div>\n",
       "<style>\n",
       "    .dataframe thead tr:only-child th {\n",
       "        text-align: right;\n",
       "    }\n",
       "\n",
       "    .dataframe thead th {\n",
       "        text-align: left;\n",
       "    }\n",
       "\n",
       "    .dataframe tbody tr th {\n",
       "        vertical-align: top;\n",
       "    }\n",
       "</style>\n",
       "<table border=\"1\" class=\"dataframe\">\n",
       "  <thead>\n",
       "    <tr style=\"text-align: right;\">\n",
       "      <th></th>\n",
       "      <th>score</th>\n",
       "    </tr>\n",
       "    <tr>\n",
       "      <th>wada</th>\n",
       "      <th></th>\n",
       "    </tr>\n",
       "  </thead>\n",
       "  <tbody>\n",
       "    <tr>\n",
       "      <th>bilateral</th>\n",
       "      <td>16.0</td>\n",
       "    </tr>\n",
       "    <tr>\n",
       "      <th>left</th>\n",
       "      <td>63.0</td>\n",
       "    </tr>\n",
       "    <tr>\n",
       "      <th>right</th>\n",
       "      <td>21.0</td>\n",
       "    </tr>\n",
       "  </tbody>\n",
       "</table>\n",
       "</div>"
      ],
      "text/plain": [
       "           score\n",
       "wada            \n",
       "bilateral   16.0\n",
       "left        63.0\n",
       "right       21.0"
      ]
     },
     "execution_count": 27,
     "metadata": {},
     "output_type": "execute_result"
    }
   ],
   "source": [
    "lat_perc_df = lat_df/lat_df.sum(axis=0) * 100\n",
    "lat_perc_df.round(0)"
   ]
  },
  {
   "cell_type": "markdown",
   "metadata": {},
   "source": [
    "Distribution of injection site (0= bilateral Wada test)"
   ]
  },
  {
   "cell_type": "code",
   "execution_count": 28,
   "metadata": {},
   "outputs": [
    {
     "data": {
      "text/html": [
       "<div>\n",
       "<style>\n",
       "    .dataframe thead tr:only-child th {\n",
       "        text-align: right;\n",
       "    }\n",
       "\n",
       "    .dataframe thead th {\n",
       "        text-align: left;\n",
       "    }\n",
       "\n",
       "    .dataframe tbody tr th {\n",
       "        vertical-align: top;\n",
       "    }\n",
       "</style>\n",
       "<table border=\"1\" class=\"dataframe\">\n",
       "  <thead>\n",
       "    <tr style=\"text-align: right;\">\n",
       "      <th></th>\n",
       "      <th>k</th>\n",
       "      <th>score</th>\n",
       "      <th>wada</th>\n",
       "    </tr>\n",
       "    <tr>\n",
       "      <th>injection</th>\n",
       "      <th></th>\n",
       "      <th></th>\n",
       "      <th></th>\n",
       "    </tr>\n",
       "  </thead>\n",
       "  <tbody>\n",
       "    <tr>\n",
       "      <th>0</th>\n",
       "      <td>44</td>\n",
       "      <td>44</td>\n",
       "      <td>44</td>\n",
       "    </tr>\n",
       "    <tr>\n",
       "      <th>left</th>\n",
       "      <td>10</td>\n",
       "      <td>10</td>\n",
       "      <td>10</td>\n",
       "    </tr>\n",
       "    <tr>\n",
       "      <th>right</th>\n",
       "      <td>8</td>\n",
       "      <td>8</td>\n",
       "      <td>8</td>\n",
       "    </tr>\n",
       "  </tbody>\n",
       "</table>\n",
       "</div>"
      ],
      "text/plain": [
       "            k  score  wada\n",
       "injection                 \n",
       "0          44     44    44\n",
       "left       10     10    10\n",
       "right       8      8     8"
      ]
     },
     "execution_count": 28,
     "metadata": {},
     "output_type": "execute_result"
    }
   ],
   "source": [
    "df_wada_clean.fillna(0).groupby('injection').count()"
   ]
  },
  {
   "cell_type": "markdown",
   "metadata": {},
   "source": [
    "### show clean data"
   ]
  },
  {
   "cell_type": "code",
   "execution_count": 29,
   "metadata": {},
   "outputs": [
    {
     "data": {
      "image/png": "[encoded data removed]",
      "text/plain": [
       "<matplotlib.figure.Figure at 0x7fb295b80750>"
      ]
     },
     "metadata": {},
     "output_type": "display_data"
    }
   ],
   "source": [
    "df_1sided_wada_clean.loc[:, 'k'] = clf.fit_predict(\n",
    "    df_1sided_wada_clean.loc[:, ['score']])\n",
    "\n",
    "fig = plt.figure(figsize=(12, 4))\n",
    "\n",
    "for n, g in enumerate(['left', 'right']):\n",
    "\n",
    "    injection_side = (df_1sided_wada_clean.loc[:, 'injection'] == g)\n",
    "    this_df = df_1sided_wada_clean[injection_side]\n",
    "    k_dict = this_df.groupby('wada').first()['k'].to_dict()\n",
    "    ax = plt.subplot(1, 2, n + 1)\n",
    "    sns.swarmplot(data=this_df, x='wada', y='k', ax=ax)\n",
    "    sns.despine()\n",
    "    ax.set_title(g)\n",
    "\n",
    "plt.tight_layout()\n",
    "plt.show()"
   ]
  },
  {
   "cell_type": "code",
   "execution_count": 30,
   "metadata": {
    "collapsed": true
   },
   "outputs": [],
   "source": [
    "is_left = df_1sided_wada_clean.loc[:, 'injection'] == 'left'\n",
    "is_right = (is_left == False)"
   ]
  },
  {
   "cell_type": "code",
   "execution_count": 31,
   "metadata": {},
   "outputs": [
    {
     "data": {
      "image/png": "[encoded data removed]",
      "text/plain": [
       "<matplotlib.figure.Figure at 0x7fb299499c90>"
      ]
     },
     "metadata": {},
     "output_type": "display_data"
    }
   ],
   "source": [
    "fig = plt.figure(figsize=(16, 6))\n",
    "\n",
    "plt.subplot2grid((1, 11), (0, 0), colspan=5)\n",
    "\n",
    "plt.ylim(0, 10)\n",
    "plt.xlim(1.05, -1.05, -0.1)\n",
    "plt.xticks(np.linspace(-1, 1, 5))\n",
    "make_hist_plot(df_2sided_wada)\n",
    "plt.xlabel('Lateralisation Index\\n(LI)')\n",
    "plt.ylabel('Number of Patients')\n",
    "legend = plt.legend(title='classification')\n",
    "plt.setp(legend.get_title(), fontsize='xx-large')\n",
    "plt.title('Bilateral Wada Test')\n",
    "\n",
    "plt.subplot2grid((1, 11), (0, 5), colspan=3)\n",
    "plt.xlim(-0.05, 1.05)\n",
    "plt.xticks(np.linspace(0, 1, 3))\n",
    "plt.ylim(0, 10)\n",
    "make_hist_plot(df_1sided_wada_clean[is_left])\n",
    "plt.xlabel('Hemispheric language capacity\\n(HLC)')\n",
    "plt.title('Left-sided Wada Test')\n",
    "\n",
    "plt.subplot2grid((1, 11), (0, 8), colspan=3)\n",
    "plt.xlim(-0.05, 1.05)\n",
    "plt.xticks(np.linspace(0, 1, 3))\n",
    "plt.ylim(0, 10)\n",
    "make_hist_plot(df_1sided_wada_clean[is_right])\n",
    "plt.xlabel('Hemispheric language capacity\\n(HLC)')\n",
    "plt.title('Right-sided Wada Test')\n",
    "\n",
    "#plt.suptitle('Distribution of Wada Scores', y=1.08, fontsize=24)\n",
    "plt.tight_layout()\n",
    "plt.savefig(\n",
    "    '../reports/figures/02-wada-score-distribution.png',\n",
    "    bbox_inches='tight',\n",
    "    dpi=300)\n",
    "plt.show()"
   ]
  },
  {
   "cell_type": "markdown",
   "metadata": {},
   "source": [
    "Combined histogram (bars) and rug plot (lines). The histograms have 0.1-sized bins, while the rug plot has zero-sized bins. Stronger color of rug plot lines indicate overlapping values, as reflected in higher bars of the histogram. \n",
    "Colors denote the clinical classification of the data, which is identical to the results of an unsupervised clustering algorithm."
   ]
  }
 ],
 "metadata": {
  "kernelspec": {
   "display_name": "Python 2",
   "language": "python",
   "name": "python2"
  },
  "language_info": {
   "codemirror_mode": {
    "name": "ipython",
    "version": 2
   },
   "file_extension": ".py",
   "mimetype": "text/x-python",
   "name": "python",
   "nbconvert_exporter": "python",
   "pygments_lexer": "ipython2",
   "version": "2.7.14"
  },
  "varInspector": {
   "cols": {
    "lenName": 16,
    "lenType": 16,
    "lenVar": 40
   },
   "kernels_config": {
    "python": {
     "delete_cmd_postfix": "",
     "delete_cmd_prefix": "del ",
     "library": "var_list.py",
     "varRefreshCmd": "print(var_dic_list())"
    },
    "r": {
     "delete_cmd_postfix": ") ",
     "delete_cmd_prefix": "rm(",
     "library": "var_list.r",
     "varRefreshCmd": "cat(var_dic_list()) "
    }
   },
   "position": {
    "height": "268px",
    "left": "1976.67px",
    "right": "20px",
    "top": "120px",
    "width": "350px"
   },
   "types_to_exclude": [
    "module",
    "function",
    "builtin_function_or_method",
    "instance",
    "_Feature"
   ],
   "window_display": false
  }
 },
 "nbformat": 4,
 "nbformat_minor": 2
}
