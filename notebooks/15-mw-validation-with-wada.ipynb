{
 "cells": [
  {
   "cell_type": "markdown",
   "metadata": {},
   "source": [
    "# Predict Wada Scores and compare with LI toolbox"
   ]
  },
  {
   "cell_type": "markdown",
   "metadata": {},
   "source": [
    "### import modules"
   ]
  },
  {
   "cell_type": "code",
   "execution_count": 1,
   "metadata": {
    "collapsed": true
   },
   "outputs": [],
   "source": [
    "%matplotlib inline\n",
    "\n",
    "import os\n",
    "import pickle\n",
    "\n",
    "import numpy as np\n",
    "import pandas as pd\n",
    "from scipy import stats\n",
    "from sklearn import metrics\n",
    "\n",
    "import matplotlib.pyplot as plt\n",
    "import seaborn as sns\n",
    "sns.set_style('ticks')"
   ]
  },
  {
   "cell_type": "markdown",
   "metadata": {},
   "source": [
    "### get data"
   ]
  },
  {
   "cell_type": "code",
   "execution_count": 2,
   "metadata": {
    "collapsed": true
   },
   "outputs": [],
   "source": [
    "wilkeDf = pd.read_csv('../data/processed/li_tool/allWilkeData.csv',index_col=[0,1],header=0)"
   ]
  },
  {
   "cell_type": "code",
   "execution_count": 3,
   "metadata": {},
   "outputs": [
    {
     "data": {
      "text/plain": [
       "(783, 7)"
      ]
     },
     "execution_count": 3,
     "metadata": {},
     "output_type": "execute_result"
    }
   ],
   "source": [
    "wilkeDf.shape"
   ]
  },
  {
   "cell_type": "code",
   "execution_count": null,
   "metadata": {
    "collapsed": true
   },
   "outputs": [],
   "source": [
    "wilkeDf.head()"
   ]
  },
  {
   "cell_type": "markdown",
   "metadata": {},
   "source": [
    "## predict clinical judgements using Wilke LIs"
   ]
  },
  {
   "cell_type": "markdown",
   "metadata": {},
   "source": [
    "### split data into training and testing"
   ]
  },
  {
   "cell_type": "code",
   "execution_count": 5,
   "metadata": {
    "collapsed": true
   },
   "outputs": [],
   "source": [
    "my_nest = pickle.load( open('../models/my_nest.p','rb'))\n",
    "my_test = pickle.load( open('../models/my_test.p','rb'))"
   ]
  },
  {
   "cell_type": "code",
   "execution_count": 6,
   "metadata": {
    "collapsed": true
   },
   "outputs": [],
   "source": [
    "df_nest = wilkeDf.loc[my_nest].sort_index()\n",
    "df_test = wilkeDf.loc[my_test].sort_index()"
   ]
  },
  {
   "cell_type": "code",
   "execution_count": 7,
   "metadata": {
    "scrolled": true
   },
   "outputs": [
    {
     "data": {
      "text/plain": [
       "((521, 7), (262, 7))"
      ]
     },
     "execution_count": 7,
     "metadata": {},
     "output_type": "execute_result"
    }
   ],
   "source": [
    "df_nest.shape,df_test.shape"
   ]
  },
  {
   "cell_type": "markdown",
   "metadata": {},
   "source": [
    "### get features and labels"
   ]
  },
  {
   "cell_type": "code",
   "execution_count": 8,
   "metadata": {
    "collapsed": true
   },
   "outputs": [],
   "source": [
    "clfDict = pickle.load(open('../models/li_tool_clf.p','r'))"
   ]
  },
  {
   "cell_type": "code",
   "execution_count": 9,
   "metadata": {
    "collapsed": true
   },
   "outputs": [],
   "source": [
    "myLabeler = pickle.load( open('../models/myLabeler.p','rb') )"
   ]
  },
  {
   "cell_type": "markdown",
   "metadata": {},
   "source": [
    "### decide if inconclusive data should be included"
   ]
  },
  {
   "cell_type": "code",
   "execution_count": 10,
   "metadata": {
    "collapsed": true
   },
   "outputs": [],
   "source": [
    "def dropInc(X,y,myLabeler):\n",
    "\n",
    "    # here, we use the labels (y) to find and exclude inconclusive cases\n",
    "    noInc = np.where(y!=myLabeler.transform(['inconclusive'])[-1])\n",
    "    \n",
    "    # both X and y need to be changed\n",
    "    X = X[noInc[0]]\n",
    "    y = y[noInc[0]]\n",
    "    \n",
    "    return X,y"
   ]
  },
  {
   "cell_type": "code",
   "execution_count": 11,
   "metadata": {
    "collapsed": true
   },
   "outputs": [],
   "source": [
    "X = np.array(df_test[df_test.columns[-1]])\n",
    "y = np.array([myLabeler.transform([df_test.index.levels[0][x]]) for x in df_test.index.labels[0]])"
   ]
  },
  {
   "cell_type": "code",
   "execution_count": 12,
   "metadata": {},
   "outputs": [
    {
     "name": "stdout",
     "output_type": "stream",
     "text": [
      "(262,) (262, 1)\n"
     ]
    }
   ],
   "source": [
    "print X.shape,y.shape"
   ]
  },
  {
   "cell_type": "code",
   "execution_count": 13,
   "metadata": {},
   "outputs": [
    {
     "name": "stdout",
     "output_type": "stream",
     "text": [
      "(217,) (217, 1)\n"
     ]
    }
   ],
   "source": [
    "Xclean,yclean = dropInc(X,y,myLabeler)\n",
    "print Xclean.shape,yclean.shape"
   ]
  },
  {
   "cell_type": "markdown",
   "metadata": {},
   "source": [
    "### predict the test data"
   ]
  },
  {
   "cell_type": "code",
   "execution_count": 14,
   "metadata": {
    "collapsed": true
   },
   "outputs": [],
   "source": [
    "def makeYPreds(X_validate,clf,scaler,myLabeler):\n",
    "    \n",
    "    y_pred = []\n",
    "\n",
    "    for x in X_validate:\n",
    "        \n",
    "        # when there is no LI, we consider the case to be inconclusive\n",
    "        if np.isnan(x).any():\n",
    "            pred = myLabeler.transform(['inconclusive'])[-1]\n",
    "            \n",
    "        # otherwise we apply the actual classifier\n",
    "        else:\n",
    "            scaledX = scaler.transform( x.reshape(1,-1) )\n",
    "            \n",
    "            thisPred = clf.predict_proba(scaledX)[-1]\n",
    "            pred = np.where(thisPred==thisPred.max())[-1][-1]\n",
    "            # if there are only three classes, we tweak the labels\n",
    "            if thisPred.shape[-1]==3 and pred>0:\n",
    "                pred+=1\n",
    "            \n",
    "        y_pred.append(pred)\n",
    "    \n",
    "    return np.array(y_pred)"
   ]
  },
  {
   "cell_type": "markdown",
   "metadata": {},
   "source": [
    "Example:"
   ]
  },
  {
   "cell_type": "code",
   "execution_count": 15,
   "metadata": {
    "collapsed": true
   },
   "outputs": [],
   "source": [
    "c = 'bootstrap'\n",
    "thisClf = clfDict[c][False]\n",
    "clf = thisClf['clf']\n",
    "scaler = thisClf['scaler']\n",
    "X_validate = df_test[c].values\n",
    "y_validate = myLabeler.transform([df_test[c].index.levels[0][x] for x in df_test[c].index.labels[0]])\n",
    "y_pred = makeYPreds(X_validate,clf,scaler,myLabeler)"
   ]
  },
  {
   "cell_type": "code",
   "execution_count": 16,
   "metadata": {},
   "outputs": [
    {
     "data": {
      "text/plain": [
       "array([2, 1, 1, 1, 1, 1, 1, 1, 2, 2, 1, 2, 1, 1, 1, 1, 2, 2, 2, 1, 1, 1, 1,\n",
       "       1, 1, 1, 1, 2, 1, 2, 3, 1, 1, 2, 1, 2, 2, 2, 2, 2, 2, 2, 2, 2, 1, 3,\n",
       "       1, 2, 1, 2, 1, 3, 2, 2, 1, 3, 1, 2, 2, 2, 1, 2, 2, 1, 1, 1, 1, 1, 1,\n",
       "       1, 2, 2, 2, 2, 2, 2, 2, 2, 2, 2, 1, 2, 2, 2, 2, 2, 2, 2, 2, 2, 2, 2,\n",
       "       2, 2, 2, 2, 2, 2, 2, 2, 2, 2, 2, 2, 2, 1, 2, 2, 2, 2, 2, 2, 2, 2, 2,\n",
       "       2, 2, 2, 2, 2, 2, 2, 2, 2, 2, 2, 2, 2, 2, 2, 2, 2, 2, 2, 1, 2, 2, 2,\n",
       "       2, 2, 2, 2, 2, 2, 2, 2, 2, 2, 2, 2, 2, 2, 2, 2, 2, 2, 2, 2, 2, 2, 2,\n",
       "       2, 2, 2, 2, 2, 2, 2, 2, 2, 2, 2, 2, 2, 2, 2, 2, 2, 1, 2, 2, 2, 2, 2,\n",
       "       2, 2, 1, 2, 2, 2, 2, 2, 2, 2, 2, 2, 2, 2, 1, 2, 2, 2, 2, 2, 2, 2, 2,\n",
       "       2, 2, 2, 2, 2, 2, 2, 2, 2, 2, 2, 2, 2, 2, 2, 2, 2, 2, 2, 2, 2, 2, 2,\n",
       "       1, 2, 2, 2, 2, 2, 2, 2, 2, 2, 2, 2, 2, 1, 2, 2, 1, 3, 1, 1, 3, 3, 3,\n",
       "       3, 3, 3, 3, 1, 3, 3, 3, 1])"
      ]
     },
     "execution_count": 16,
     "metadata": {},
     "output_type": "execute_result"
    }
   ],
   "source": [
    "y_pred"
   ]
  },
  {
   "cell_type": "markdown",
   "metadata": {},
   "source": [
    "### evaluate the results and make confusion matrix"
   ]
  },
  {
   "cell_type": "code",
   "execution_count": 17,
   "metadata": {
    "collapsed": true
   },
   "outputs": [],
   "source": [
    "def makePred(df_test,c,clfDict,myLabeler,myDrop=True):\n",
    "    \n",
    "    thisClf = clfDict[c][myDrop]\n",
    "    clf = thisClf['clf']\n",
    "    scaler = thisClf['scaler']\n",
    "    X_validate = df_test[c].values\n",
    "\n",
    "    y_pred = makeYPreds(X_validate,clf,scaler,myLabeler)\n",
    "    y_lab = myLabeler.inverse_transform(y_pred)\n",
    "    df = pd.DataFrame(y_lab)\n",
    "    df.index = df_test.index\n",
    "    df.columns = [c]\n",
    "    \n",
    "    return df"
   ]
  },
  {
   "cell_type": "code",
   "execution_count": 18,
   "metadata": {
    "collapsed": true
   },
   "outputs": [],
   "source": [
    "predsDf = pd.DataFrame()\n",
    "for c in clfDict.keys():\n",
    "    thisDf = makePred(df_test,c,clfDict,myLabeler,myDrop=True)\n",
    "    predsDf = pd.concat([predsDf,thisDf],axis=1)"
   ]
  },
  {
   "cell_type": "code",
   "execution_count": null,
   "metadata": {
    "collapsed": true
   },
   "outputs": [],
   "source": [
    "predsDf.tail()"
   ]
  },
  {
   "cell_type": "code",
   "execution_count": 20,
   "metadata": {
    "collapsed": true
   },
   "outputs": [],
   "source": [
    "def makeCm(df,c,myLabeler):\n",
    "\n",
    "    # predictions of left-out data\n",
    "    y_pred = df[c]\n",
    "    y_true = [df.index.levels[0][x] for x in df.index.labels[0]]\n",
    "\n",
    "    # confusion matrix -- input y and y_pred -- result: true in rows, pred in columns\n",
    "    cm = metrics.confusion_matrix(y_true,y_pred)\n",
    "\n",
    "    # put into df\n",
    "    cmDf = pd.DataFrame(cm)\n",
    "\n",
    "    # get the naming right\n",
    "    try:\n",
    "        theseLabels = np.unique(y_true)\n",
    "        cmDf.index = theseLabels\n",
    "        cmDf.columns = theseLabels\n",
    "    except:\n",
    "        theseLabels = myLabeler.classes_\n",
    "        cmDf.index = theseLabels\n",
    "        cmDf.columns = theseLabels       \n",
    "\n",
    "    # make better order\n",
    "    theseLabels = ['left','bilateral','right','inconclusive']\n",
    "    cmDf = cmDf.reindex(index=theseLabels)\n",
    "    cmDf = cmDf.reindex(columns=theseLabels)\n",
    "    \n",
    "    cmDf.index = [['True label']*cmDf.shape[0],theseLabels]\n",
    "    cmDf.columns = [['Predicted label']*cmDf.shape[1],theseLabels]\n",
    "\n",
    "    return cmDf"
   ]
  },
  {
   "cell_type": "code",
   "execution_count": 21,
   "metadata": {
    "collapsed": true
   },
   "outputs": [],
   "source": [
    "cmDf = makeCm(predsDf,'fixed-count',myLabeler)"
   ]
  },
  {
   "cell_type": "code",
   "execution_count": 22,
   "metadata": {},
   "outputs": [
    {
     "data": {
      "text/html": [
       "<div>\n",
       "<style>\n",
       "    .dataframe thead tr:only-child th {\n",
       "        text-align: right;\n",
       "    }\n",
       "\n",
       "    .dataframe thead th {\n",
       "        text-align: left;\n",
       "    }\n",
       "\n",
       "    .dataframe tbody tr th {\n",
       "        vertical-align: top;\n",
       "    }\n",
       "</style>\n",
       "<table border=\"1\" class=\"dataframe\">\n",
       "  <thead>\n",
       "    <tr>\n",
       "      <th></th>\n",
       "      <th></th>\n",
       "      <th colspan=\"4\" halign=\"left\">Predicted label</th>\n",
       "    </tr>\n",
       "    <tr>\n",
       "      <th></th>\n",
       "      <th></th>\n",
       "      <th>left</th>\n",
       "      <th>bilateral</th>\n",
       "      <th>right</th>\n",
       "      <th>inconclusive</th>\n",
       "    </tr>\n",
       "  </thead>\n",
       "  <tbody>\n",
       "    <tr>\n",
       "      <th rowspan=\"4\" valign=\"top\">True label</th>\n",
       "      <th>left</th>\n",
       "      <td>167</td>\n",
       "      <td>8</td>\n",
       "      <td>0</td>\n",
       "      <td>1</td>\n",
       "    </tr>\n",
       "    <tr>\n",
       "      <th>bilateral</th>\n",
       "      <td>6</td>\n",
       "      <td>18</td>\n",
       "      <td>1</td>\n",
       "      <td>0</td>\n",
       "    </tr>\n",
       "    <tr>\n",
       "      <th>right</th>\n",
       "      <td>0</td>\n",
       "      <td>3</td>\n",
       "      <td>13</td>\n",
       "      <td>0</td>\n",
       "    </tr>\n",
       "    <tr>\n",
       "      <th>inconclusive</th>\n",
       "      <td>21</td>\n",
       "      <td>4</td>\n",
       "      <td>7</td>\n",
       "      <td>13</td>\n",
       "    </tr>\n",
       "  </tbody>\n",
       "</table>\n",
       "</div>"
      ],
      "text/plain": [
       "                        Predicted label                             \n",
       "                                   left bilateral right inconclusive\n",
       "True label left                     167         8     0            1\n",
       "           bilateral                  6        18     1            0\n",
       "           right                      0         3    13            0\n",
       "           inconclusive              21         4     7           13"
      ]
     },
     "execution_count": 22,
     "metadata": {},
     "output_type": "execute_result"
    }
   ],
   "source": [
    "cmDf"
   ]
  },
  {
   "cell_type": "code",
   "execution_count": 23,
   "metadata": {
    "collapsed": true
   },
   "outputs": [],
   "source": [
    "def makeDiagCm(cmDf,idx):\n",
    "    \n",
    "    # get diagonal\n",
    "    diagDf = pd.DataFrame(np.diagonal(cmDf)).T\n",
    "    diagDf.index=idx\n",
    "    diagDf.columns=cmDf.columns\n",
    "    \n",
    "    return diagDf"
   ]
  },
  {
   "cell_type": "code",
   "execution_count": 24,
   "metadata": {},
   "outputs": [
    {
     "data": {
      "text/html": [
       "<div>\n",
       "<style>\n",
       "    .dataframe thead tr:only-child th {\n",
       "        text-align: right;\n",
       "    }\n",
       "\n",
       "    .dataframe thead th {\n",
       "        text-align: left;\n",
       "    }\n",
       "\n",
       "    .dataframe tbody tr th {\n",
       "        vertical-align: top;\n",
       "    }\n",
       "</style>\n",
       "<table border=\"1\" class=\"dataframe\">\n",
       "  <thead>\n",
       "    <tr>\n",
       "      <th></th>\n",
       "      <th colspan=\"4\" halign=\"left\">Predicted label</th>\n",
       "    </tr>\n",
       "    <tr>\n",
       "      <th></th>\n",
       "      <th>left</th>\n",
       "      <th>bilateral</th>\n",
       "      <th>right</th>\n",
       "      <th>inconclusive</th>\n",
       "    </tr>\n",
       "  </thead>\n",
       "  <tbody>\n",
       "    <tr>\n",
       "      <th>0</th>\n",
       "      <td>167</td>\n",
       "      <td>18</td>\n",
       "      <td>13</td>\n",
       "      <td>13</td>\n",
       "    </tr>\n",
       "  </tbody>\n",
       "</table>\n",
       "</div>"
      ],
      "text/plain": [
       "  Predicted label                             \n",
       "             left bilateral right inconclusive\n",
       "0             167        18    13           13"
      ]
     },
     "execution_count": 24,
     "metadata": {},
     "output_type": "execute_result"
    }
   ],
   "source": [
    "makeDiagCm(cmDf,[0])"
   ]
  },
  {
   "cell_type": "code",
   "execution_count": 25,
   "metadata": {
    "collapsed": true
   },
   "outputs": [],
   "source": [
    "def getAcc(cmDf):\n",
    "    \n",
    "    # get absolute count of hits (diagonal)\n",
    "    n_diag = makeDiagCm(cmDf,[['total'],['total']]).sum(axis=1).values[-1]\n",
    "\n",
    "    # get absolute count of all test data\n",
    "    n_total = cmDf.sum().sum()\n",
    "\n",
    "    # get proportion\n",
    "    prop = n_diag/float(n_total)\n",
    "\n",
    "    return pd.DataFrame([prop],index=['acc']).T"
   ]
  },
  {
   "cell_type": "code",
   "execution_count": 26,
   "metadata": {},
   "outputs": [
    {
     "data": {
      "text/html": [
       "<div>\n",
       "<style>\n",
       "    .dataframe thead tr:only-child th {\n",
       "        text-align: right;\n",
       "    }\n",
       "\n",
       "    .dataframe thead th {\n",
       "        text-align: left;\n",
       "    }\n",
       "\n",
       "    .dataframe tbody tr th {\n",
       "        vertical-align: top;\n",
       "    }\n",
       "</style>\n",
       "<table border=\"1\" class=\"dataframe\">\n",
       "  <thead>\n",
       "    <tr style=\"text-align: right;\">\n",
       "      <th></th>\n",
       "      <th>acc</th>\n",
       "    </tr>\n",
       "  </thead>\n",
       "  <tbody>\n",
       "    <tr>\n",
       "      <th>0</th>\n",
       "      <td>0.805344</td>\n",
       "    </tr>\n",
       "  </tbody>\n",
       "</table>\n",
       "</div>"
      ],
      "text/plain": [
       "        acc\n",
       "0  0.805344"
      ]
     },
     "execution_count": 26,
     "metadata": {},
     "output_type": "execute_result"
    }
   ],
   "source": [
    "getAcc(cmDf)"
   ]
  },
  {
   "cell_type": "code",
   "execution_count": 27,
   "metadata": {
    "collapsed": true
   },
   "outputs": [],
   "source": [
    "def makeBigAccDf(predsDf,myLabeler,myDrop=True):\n",
    "    \n",
    "    # empty df to write to\n",
    "    bigAccDf = pd.DataFrame()\n",
    "\n",
    "    # for all LIs\n",
    "    for c in predsDf.columns:\n",
    "        \n",
    "        # get the classifier and scaler objects associated with this LI,\n",
    "        cmDf = makeCm(predsDf,c,myLabeler)\n",
    "        \n",
    "        #print cmDf,nInc\n",
    "        # get the number of remaining conclusive cases\n",
    "        if myDrop:\n",
    "            # remove the true inconclusive cases\n",
    "            dropDf = cmDf.drop('inconclusive',level=1,axis=0)\n",
    "            # get number of cases that were classified as inconclusive\n",
    "            nInc = dropDf['Predicted label']['inconclusive'].sum()\n",
    "            # we ignore the predicted inconclusive cases in the 3-class case only,\n",
    "            # for the four-class case they are of interest\n",
    "            dropDf = dropDf.drop('inconclusive',level=1,axis=1)\n",
    "\n",
    "            # get the number of conclusive cases\n",
    "            n = dropDf.sum().sum()\n",
    "\n",
    "            accDf = getAcc(dropDf)\n",
    "            accDf.set_value(accDf.index[0],'nInc',nInc)\n",
    "            accDf.set_value(accDf.index[0],'n',n)\n",
    "        else:\n",
    "            accDf = getAcc(cmDf)\n",
    "            n = cmDf.sum().sum()\n",
    "            nInc = predsDf.shape[0]-n\n",
    "            accDf.set_value(accDf.index[0],'nInc',nInc)\n",
    "            accDf.set_value(accDf.index[0],'n',n) \n",
    "\n",
    "        accDf.index = [c]\n",
    "        \n",
    "        # add to big df\n",
    "        bigAccDf = pd.concat([bigAccDf,accDf])\n",
    "    \n",
    "    bigAccDf.sort_values(by='acc',ascending=False,inplace=True)\n",
    "        \n",
    "    return bigAccDf"
   ]
  },
  {
   "cell_type": "code",
   "execution_count": 28,
   "metadata": {},
   "outputs": [
    {
     "data": {
      "text/html": [
       "<div>\n",
       "<style>\n",
       "    .dataframe thead tr:only-child th {\n",
       "        text-align: right;\n",
       "    }\n",
       "\n",
       "    .dataframe thead th {\n",
       "        text-align: left;\n",
       "    }\n",
       "\n",
       "    .dataframe tbody tr th {\n",
       "        vertical-align: top;\n",
       "    }\n",
       "</style>\n",
       "<table border=\"1\" class=\"dataframe\">\n",
       "  <thead>\n",
       "    <tr>\n",
       "      <th></th>\n",
       "      <th></th>\n",
       "      <th colspan=\"4\" halign=\"left\">Predicted label</th>\n",
       "    </tr>\n",
       "    <tr>\n",
       "      <th></th>\n",
       "      <th></th>\n",
       "      <th>left</th>\n",
       "      <th>bilateral</th>\n",
       "      <th>right</th>\n",
       "      <th>inconclusive</th>\n",
       "    </tr>\n",
       "  </thead>\n",
       "  <tbody>\n",
       "    <tr>\n",
       "      <th rowspan=\"4\" valign=\"top\">True label</th>\n",
       "      <th>left</th>\n",
       "      <td>167</td>\n",
       "      <td>8</td>\n",
       "      <td>0</td>\n",
       "      <td>1</td>\n",
       "    </tr>\n",
       "    <tr>\n",
       "      <th>bilateral</th>\n",
       "      <td>6</td>\n",
       "      <td>18</td>\n",
       "      <td>1</td>\n",
       "      <td>0</td>\n",
       "    </tr>\n",
       "    <tr>\n",
       "      <th>right</th>\n",
       "      <td>0</td>\n",
       "      <td>3</td>\n",
       "      <td>13</td>\n",
       "      <td>0</td>\n",
       "    </tr>\n",
       "    <tr>\n",
       "      <th>inconclusive</th>\n",
       "      <td>21</td>\n",
       "      <td>4</td>\n",
       "      <td>7</td>\n",
       "      <td>13</td>\n",
       "    </tr>\n",
       "  </tbody>\n",
       "</table>\n",
       "</div>"
      ],
      "text/plain": [
       "                        Predicted label                             \n",
       "                                   left bilateral right inconclusive\n",
       "True label left                     167         8     0            1\n",
       "           bilateral                  6        18     1            0\n",
       "           right                      0         3    13            0\n",
       "           inconclusive              21         4     7           13"
      ]
     },
     "execution_count": 28,
     "metadata": {},
     "output_type": "execute_result"
    }
   ],
   "source": [
    "cmDf"
   ]
  },
  {
   "cell_type": "code",
   "execution_count": 29,
   "metadata": {},
   "outputs": [
    {
     "data": {
      "text/html": [
       "<div>\n",
       "<style>\n",
       "    .dataframe thead tr:only-child th {\n",
       "        text-align: right;\n",
       "    }\n",
       "\n",
       "    .dataframe thead th {\n",
       "        text-align: left;\n",
       "    }\n",
       "\n",
       "    .dataframe tbody tr th {\n",
       "        vertical-align: top;\n",
       "    }\n",
       "</style>\n",
       "<table border=\"1\" class=\"dataframe\">\n",
       "  <thead>\n",
       "    <tr style=\"text-align: right;\">\n",
       "      <th></th>\n",
       "      <th>acc</th>\n",
       "      <th>nInc</th>\n",
       "      <th>n</th>\n",
       "    </tr>\n",
       "  </thead>\n",
       "  <tbody>\n",
       "    <tr>\n",
       "      <th>bootstrap-weighted</th>\n",
       "      <td>0.921296</td>\n",
       "      <td>1.0</td>\n",
       "      <td>216.0</td>\n",
       "    </tr>\n",
       "    <tr>\n",
       "      <th>bootstrap</th>\n",
       "      <td>0.921296</td>\n",
       "      <td>1.0</td>\n",
       "      <td>216.0</td>\n",
       "    </tr>\n",
       "    <tr>\n",
       "      <th>bootstrap-trimmed</th>\n",
       "      <td>0.921296</td>\n",
       "      <td>1.0</td>\n",
       "      <td>216.0</td>\n",
       "    </tr>\n",
       "    <tr>\n",
       "      <th>fixed-mean</th>\n",
       "      <td>0.920930</td>\n",
       "      <td>2.0</td>\n",
       "      <td>215.0</td>\n",
       "    </tr>\n",
       "    <tr>\n",
       "      <th>fixed-count</th>\n",
       "      <td>0.916667</td>\n",
       "      <td>1.0</td>\n",
       "      <td>216.0</td>\n",
       "    </tr>\n",
       "    <tr>\n",
       "      <th>adaptive</th>\n",
       "      <td>0.916667</td>\n",
       "      <td>1.0</td>\n",
       "      <td>216.0</td>\n",
       "    </tr>\n",
       "  </tbody>\n",
       "</table>\n",
       "</div>"
      ],
      "text/plain": [
       "                         acc  nInc      n\n",
       "bootstrap-weighted  0.921296   1.0  216.0\n",
       "bootstrap           0.921296   1.0  216.0\n",
       "bootstrap-trimmed   0.921296   1.0  216.0\n",
       "fixed-mean          0.920930   2.0  215.0\n",
       "fixed-count         0.916667   1.0  216.0\n",
       "adaptive            0.916667   1.0  216.0"
      ]
     },
     "execution_count": 29,
     "metadata": {},
     "output_type": "execute_result"
    }
   ],
   "source": [
    "bigAllAccDf = makeBigAccDf(predsDf,myLabeler,myDrop=True)\n",
    "bigAllAccDf"
   ]
  },
  {
   "cell_type": "markdown",
   "metadata": {},
   "source": [
    "### add own predictions"
   ]
  },
  {
   "cell_type": "code",
   "execution_count": 30,
   "metadata": {
    "collapsed": true
   },
   "outputs": [],
   "source": [
    "def makeDf(dimStr, dropStr, my_split=my_test):\n",
    "    df = pd.DataFrame()\n",
    "\n",
    "    for pGroup, pName in my_split:\n",
    "\n",
    "        csv = '../data/processed/csv/meanTable_%s.csv' % pName\n",
    "\n",
    "        pDf = pd.read_csv(csv, index_col=[0, 1], header=0)\n",
    "        pDf = pDf.loc[dimStr, :].loc[[dropStr], :]\n",
    "        pDf.index = [[pGroup], [pName]]\n",
    "\n",
    "        df = pd.concat([df, pDf])\n",
    "\n",
    "    df.sort_index(inplace=True)\n",
    "\n",
    "    df.drop(['L+R', 'L-R', 'LI'], axis=1, inplace=True)\n",
    "\n",
    "    if dropStr == 'drop':\n",
    "        df.drop('inconclusive', axis=0, inplace=True)\n",
    "        df.drop('inconclusive', axis=1, inplace=True)\n",
    "\n",
    "    return df"
   ]
  },
  {
   "cell_type": "code",
   "execution_count": 31,
   "metadata": {
    "collapsed": true
   },
   "outputs": [],
   "source": [
    "testDf = makeDf('2d', 'full')"
   ]
  },
  {
   "cell_type": "code",
   "execution_count": 32,
   "metadata": {
    "collapsed": true
   },
   "outputs": [],
   "source": [
    "twoAllDf = pd.DataFrame(testDf.idxmax(axis=1))\n",
    "twoAllDf.columns = ['2d']\n",
    "twoAllDf.sort_index(inplace=True)"
   ]
  },
  {
   "cell_type": "code",
   "execution_count": null,
   "metadata": {
    "collapsed": true
   },
   "outputs": [],
   "source": [
    "twoAllDf.tail()"
   ]
  },
  {
   "cell_type": "code",
   "execution_count": 34,
   "metadata": {
    "scrolled": true
   },
   "outputs": [
    {
     "data": {
      "text/plain": [
       "(262, 1)"
      ]
     },
     "execution_count": 34,
     "metadata": {},
     "output_type": "execute_result"
    }
   ],
   "source": [
    "twoAllDf.shape"
   ]
  },
  {
   "cell_type": "code",
   "execution_count": 35,
   "metadata": {
    "collapsed": true
   },
   "outputs": [],
   "source": [
    "predsDf = pd.concat([predsDf,twoAllDf],axis=1)\n",
    "predsDf.drop(['bootstrap-weighted','fixed-mean','bootstrap-trimmed'],axis=1,inplace=True)"
   ]
  },
  {
   "cell_type": "code",
   "execution_count": null,
   "metadata": {
    "collapsed": true
   },
   "outputs": [],
   "source": [
    "predsDf.tail()"
   ]
  },
  {
   "cell_type": "code",
   "execution_count": null,
   "metadata": {
    "collapsed": true,
    "scrolled": false
   },
   "outputs": [],
   "source": [
    "predsDf.iloc[:,1:3].stack()[predsDf.iloc[:,1:3].stack()=='inconclusive']"
   ]
  },
  {
   "cell_type": "code",
   "execution_count": 39,
   "metadata": {},
   "outputs": [
    {
     "data": {
      "text/html": [
       "<div>\n",
       "<style>\n",
       "    .dataframe thead tr:only-child th {\n",
       "        text-align: right;\n",
       "    }\n",
       "\n",
       "    .dataframe thead th {\n",
       "        text-align: left;\n",
       "    }\n",
       "\n",
       "    .dataframe tbody tr th {\n",
       "        vertical-align: top;\n",
       "    }\n",
       "</style>\n",
       "<table border=\"1\" class=\"dataframe\">\n",
       "  <thead>\n",
       "    <tr style=\"text-align: right;\">\n",
       "      <th></th>\n",
       "      <th>acc</th>\n",
       "      <th>nInc</th>\n",
       "      <th>n</th>\n",
       "    </tr>\n",
       "  </thead>\n",
       "  <tbody>\n",
       "    <tr>\n",
       "      <th>2d</th>\n",
       "      <td>0.816794</td>\n",
       "      <td>0.0</td>\n",
       "      <td>262.0</td>\n",
       "    </tr>\n",
       "    <tr>\n",
       "      <th>fixed-count</th>\n",
       "      <td>0.805344</td>\n",
       "      <td>0.0</td>\n",
       "      <td>262.0</td>\n",
       "    </tr>\n",
       "    <tr>\n",
       "      <th>bootstrap</th>\n",
       "      <td>0.759542</td>\n",
       "      <td>0.0</td>\n",
       "      <td>262.0</td>\n",
       "    </tr>\n",
       "    <tr>\n",
       "      <th>adaptive</th>\n",
       "      <td>0.755725</td>\n",
       "      <td>0.0</td>\n",
       "      <td>262.0</td>\n",
       "    </tr>\n",
       "  </tbody>\n",
       "</table>\n",
       "</div>"
      ],
      "text/plain": [
       "                  acc  nInc      n\n",
       "2d           0.816794   0.0  262.0\n",
       "fixed-count  0.805344   0.0  262.0\n",
       "bootstrap    0.759542   0.0  262.0\n",
       "adaptive     0.755725   0.0  262.0"
      ]
     },
     "execution_count": 39,
     "metadata": {},
     "output_type": "execute_result"
    }
   ],
   "source": [
    "bigAllAccDf = makeBigAccDf(predsDf,myLabeler,myDrop=False)\n",
    "bigAllAccDf"
   ]
  },
  {
   "cell_type": "code",
   "execution_count": 40,
   "metadata": {},
   "outputs": [
    {
     "data": {
      "text/html": [
       "<div>\n",
       "<style>\n",
       "    .dataframe thead tr:only-child th {\n",
       "        text-align: right;\n",
       "    }\n",
       "\n",
       "    .dataframe thead th {\n",
       "        text-align: left;\n",
       "    }\n",
       "\n",
       "    .dataframe tbody tr th {\n",
       "        vertical-align: top;\n",
       "    }\n",
       "</style>\n",
       "<table border=\"1\" class=\"dataframe\">\n",
       "  <thead>\n",
       "    <tr style=\"text-align: right;\">\n",
       "      <th></th>\n",
       "      <th>acc</th>\n",
       "      <th>nInc</th>\n",
       "      <th>n</th>\n",
       "    </tr>\n",
       "  </thead>\n",
       "  <tbody>\n",
       "    <tr>\n",
       "      <th>2d</th>\n",
       "      <td>0.927083</td>\n",
       "      <td>25.0</td>\n",
       "      <td>192.0</td>\n",
       "    </tr>\n",
       "    <tr>\n",
       "      <th>bootstrap</th>\n",
       "      <td>0.921296</td>\n",
       "      <td>1.0</td>\n",
       "      <td>216.0</td>\n",
       "    </tr>\n",
       "    <tr>\n",
       "      <th>fixed-count</th>\n",
       "      <td>0.916667</td>\n",
       "      <td>1.0</td>\n",
       "      <td>216.0</td>\n",
       "    </tr>\n",
       "    <tr>\n",
       "      <th>adaptive</th>\n",
       "      <td>0.916667</td>\n",
       "      <td>1.0</td>\n",
       "      <td>216.0</td>\n",
       "    </tr>\n",
       "  </tbody>\n",
       "</table>\n",
       "</div>"
      ],
      "text/plain": [
       "                  acc  nInc      n\n",
       "2d           0.927083  25.0  192.0\n",
       "bootstrap    0.921296   1.0  216.0\n",
       "fixed-count  0.916667   1.0  216.0\n",
       "adaptive     0.916667   1.0  216.0"
      ]
     },
     "execution_count": 40,
     "metadata": {},
     "output_type": "execute_result"
    }
   ],
   "source": [
    "bigConcAccDf = makeBigAccDf(predsDf,myLabeler,myDrop=True)\n",
    "bigConcAccDf"
   ]
  },
  {
   "cell_type": "markdown",
   "metadata": {},
   "source": [
    "### plot figure"
   ]
  },
  {
   "cell_type": "markdown",
   "metadata": {},
   "source": [
    "#### get guessing rate"
   ]
  },
  {
   "cell_type": "markdown",
   "metadata": {},
   "source": [
    "for the four classes"
   ]
  },
  {
   "cell_type": "code",
   "execution_count": 41,
   "metadata": {},
   "outputs": [
    {
     "data": {
      "text/plain": [
       "0.67"
      ]
     },
     "execution_count": 41,
     "metadata": {},
     "output_type": "execute_result"
    }
   ],
   "source": [
    "pGuess = round(wilkeDf.groupby(level=0).count().max().max()/float(wilkeDf.shape[0]),2)\n",
    "pGuess"
   ]
  },
  {
   "cell_type": "markdown",
   "metadata": {},
   "source": [
    "only for conclusive cases"
   ]
  },
  {
   "cell_type": "code",
   "execution_count": 42,
   "metadata": {},
   "outputs": [
    {
     "data": {
      "text/plain": [
       "0.81"
      ]
     },
     "execution_count": 42,
     "metadata": {},
     "output_type": "execute_result"
    }
   ],
   "source": [
    "wilkeConcDf = wilkeDf.drop('inconclusive',level=0)\n",
    "pGuessConc = round(wilkeConcDf.groupby(level=0).count().max().max()/float(wilkeConcDf.shape[0]),2)\n",
    "pGuessConc"
   ]
  },
  {
   "cell_type": "markdown",
   "metadata": {},
   "source": [
    "#### compute confidence interval for binomial distribution"
   ]
  },
  {
   "cell_type": "code",
   "execution_count": 43,
   "metadata": {
    "collapsed": true
   },
   "outputs": [],
   "source": [
    "from scipy.stats import beta"
   ]
  },
  {
   "cell_type": "code",
   "execution_count": 44,
   "metadata": {
    "collapsed": true
   },
   "outputs": [],
   "source": [
    "def binom_interval(success, total, confint=0.95):\n",
    "    #https://gist.github.com/paulgb/6627336\n",
    "    quantile = (1 - confint) / 2.\n",
    "    lower = beta.ppf(quantile, success, total - success + 1)\n",
    "    upper = beta.ppf(1 - quantile, success + 1, total - success)\n",
    "    return np.array([lower, upper])"
   ]
  },
  {
   "cell_type": "code",
   "execution_count": 45,
   "metadata": {},
   "outputs": [
    {
     "data": {
      "text/plain": [
       "array([ 0.8237774 ,  0.95099531])"
      ]
     },
     "execution_count": 45,
     "metadata": {},
     "output_type": "execute_result"
    }
   ],
   "source": [
    "binom_interval(.9*100,100,confint=0.95)"
   ]
  },
  {
   "cell_type": "code",
   "execution_count": 46,
   "metadata": {
    "collapsed": true
   },
   "outputs": [],
   "source": [
    "def binomCI(x,n,alpha):\n",
    "    thisCi = stats.binom.interval(alpha,n,x)\n",
    "    return np.array(thisCi)/float(n)"
   ]
  },
  {
   "cell_type": "markdown",
   "metadata": {},
   "source": [
    "Example:"
   ]
  },
  {
   "cell_type": "code",
   "execution_count": 47,
   "metadata": {},
   "outputs": [
    {
     "data": {
      "text/plain": [
       "array([ 0.84,  0.95])"
      ]
     },
     "execution_count": 47,
     "metadata": {},
     "output_type": "execute_result"
    }
   ],
   "source": [
    "binomCI(0.9,100,alpha=0.95)"
   ]
  },
  {
   "cell_type": "code",
   "execution_count": 48,
   "metadata": {},
   "outputs": [
    {
     "name": "stdout",
     "output_type": "stream",
     "text": [
      "0.0368170991798\n",
      "0.0626438208138\n"
     ]
    }
   ],
   "source": [
    "print stats.binom_test(90,100,p=0.82)\n",
    "print stats.binom_test(90,100,p=0.83)"
   ]
  },
  {
   "cell_type": "markdown",
   "metadata": {},
   "source": [
    "#### compute confidence intervals for all predictions"
   ]
  },
  {
   "cell_type": "code",
   "execution_count": 49,
   "metadata": {
    "collapsed": true
   },
   "outputs": [],
   "source": [
    "def addCIs(bigDf,alpha):\n",
    "    \n",
    "    d = {}\n",
    "    for i in bigDf.index:\n",
    "        thisDf = bigDf.loc[i]\n",
    "        thisAcc = thisDf['acc']\n",
    "        thisN = thisDf['n']\n",
    "        #print i,thisAcc,thisN\n",
    "        thisCI = binom_interval(thisAcc*thisN,thisN,confint=alpha)\n",
    "        d[i] = thisCI\n",
    "    \n",
    "    df = pd.DataFrame(d).T\n",
    "    df.columns = ['lowCI','upCI']\n",
    "\n",
    "    ciDf = pd.concat([bigDf,df],axis=1)\n",
    "    ciDf.sort_values(by='acc',inplace=True)\n",
    "    \n",
    "    return ciDf"
   ]
  },
  {
   "cell_type": "markdown",
   "metadata": {},
   "source": [
    "Example:"
   ]
  },
  {
   "cell_type": "code",
   "execution_count": 50,
   "metadata": {
    "collapsed": true
   },
   "outputs": [],
   "source": [
    "ciDf = addCIs(bigConcAccDf,alpha=0.84)"
   ]
  },
  {
   "cell_type": "code",
   "execution_count": 51,
   "metadata": {},
   "outputs": [
    {
     "data": {
      "text/html": [
       "<div>\n",
       "<style>\n",
       "    .dataframe thead tr:only-child th {\n",
       "        text-align: right;\n",
       "    }\n",
       "\n",
       "    .dataframe thead th {\n",
       "        text-align: left;\n",
       "    }\n",
       "\n",
       "    .dataframe tbody tr th {\n",
       "        vertical-align: top;\n",
       "    }\n",
       "</style>\n",
       "<table border=\"1\" class=\"dataframe\">\n",
       "  <thead>\n",
       "    <tr style=\"text-align: right;\">\n",
       "      <th></th>\n",
       "      <th>acc</th>\n",
       "      <th>nInc</th>\n",
       "      <th>n</th>\n",
       "      <th>lowCI</th>\n",
       "      <th>upCI</th>\n",
       "    </tr>\n",
       "  </thead>\n",
       "  <tbody>\n",
       "    <tr>\n",
       "      <th>adaptive</th>\n",
       "      <td>0.916667</td>\n",
       "      <td>1.0</td>\n",
       "      <td>216.0</td>\n",
       "      <td>0.884422</td>\n",
       "      <td>0.941921</td>\n",
       "    </tr>\n",
       "    <tr>\n",
       "      <th>fixed-count</th>\n",
       "      <td>0.916667</td>\n",
       "      <td>1.0</td>\n",
       "      <td>216.0</td>\n",
       "      <td>0.884422</td>\n",
       "      <td>0.941921</td>\n",
       "    </tr>\n",
       "    <tr>\n",
       "      <th>bootstrap</th>\n",
       "      <td>0.921296</td>\n",
       "      <td>1.0</td>\n",
       "      <td>216.0</td>\n",
       "      <td>0.889676</td>\n",
       "      <td>0.945832</td>\n",
       "    </tr>\n",
       "    <tr>\n",
       "      <th>2d</th>\n",
       "      <td>0.927083</td>\n",
       "      <td>25.0</td>\n",
       "      <td>192.0</td>\n",
       "      <td>0.894005</td>\n",
       "      <td>0.952012</td>\n",
       "    </tr>\n",
       "  </tbody>\n",
       "</table>\n",
       "</div>"
      ],
      "text/plain": [
       "                  acc  nInc      n     lowCI      upCI\n",
       "adaptive     0.916667   1.0  216.0  0.884422  0.941921\n",
       "fixed-count  0.916667   1.0  216.0  0.884422  0.941921\n",
       "bootstrap    0.921296   1.0  216.0  0.889676  0.945832\n",
       "2d           0.927083  25.0  192.0  0.894005  0.952012"
      ]
     },
     "execution_count": 51,
     "metadata": {},
     "output_type": "execute_result"
    }
   ],
   "source": [
    "ciDf"
   ]
  },
  {
   "cell_type": "markdown",
   "metadata": {},
   "source": [
    "#### make the plot"
   ]
  },
  {
   "cell_type": "code",
   "execution_count": 52,
   "metadata": {
    "collapsed": true
   },
   "outputs": [],
   "source": [
    "sns.set_style('white')\n",
    "sns.set_context('poster')"
   ]
  },
  {
   "cell_type": "code",
   "execution_count": 53,
   "metadata": {
    "collapsed": true
   },
   "outputs": [],
   "source": [
    "def makePlot(df,pGuess,ax):\n",
    "\n",
    "    ciDf = addCIs(df,alpha=0.95)\n",
    "\n",
    "    yRange = range(ciDf.shape[0])\n",
    "    xVals = ciDf.acc.values\n",
    "    xErr = abs(ciDf[['lowCI','upCI']].values.T - ciDf.acc.values)\n",
    "    ax.errorbar(xVals,yRange,xerr=xErr,marker='o',linewidth=0,elinewidth=4,color=(0.6,0.6,1))\n",
    "    \n",
    "    myDf = ciDf.loc[ [x for x in ciDf.index if '2d' in x] ]\n",
    "    yRange = [n for n,x in enumerate(ciDf.index) if '2d' in x]\n",
    "    xVals = myDf.acc.values\n",
    "    xErr = abs(myDf[['lowCI','upCI']].values.T - myDf.acc.values)\n",
    "    ax.errorbar(xVals,yRange,xerr=xErr,marker='o',linewidth=0,elinewidth=4,color=(1,0.6,0.6))\n",
    "    \n",
    "    myDf = ciDf.loc[ [x for x in ciDf.index if '+' in x] ]\n",
    "    yRange = [n for n,x in enumerate(ciDf.index) if '+' in x]\n",
    "    xVals = myDf.acc.values\n",
    "    xErr = abs(myDf[['lowCI','upCI']].values.T - myDf.acc.values)\n",
    "    ax.errorbar(xVals,yRange,xerr=xErr,marker='o',linewidth=0,elinewidth=4,color=(1,0.6,0.6))\n",
    "    \n",
    "    ciDf = addCIs(df,alpha=0.84)\n",
    "    \n",
    "    yRange = range(ciDf.shape[0])\n",
    "    xVals = ciDf.acc.values\n",
    "    xErr = abs(ciDf[['lowCI','upCI']].values.T - ciDf.acc.values)\n",
    "    ax.errorbar(xVals,yRange,xerr=xErr,marker='o',linewidth=0,elinewidth=6,color=(0.5,0.5,1))\n",
    "    \n",
    "    myDf = ciDf.loc[ [x for x in ciDf.index if '2d' in x] ]\n",
    "    yRange = [n for n,x in enumerate(ciDf.index) if '2d' in x]\n",
    "    xVals = myDf.acc.values\n",
    "    xErr = abs(myDf[['lowCI','upCI']].values.T - myDf.acc.values)\n",
    "    ax.errorbar(xVals,yRange,xerr=xErr,marker='o',linewidth=0,elinewidth=6,color=(1,0.5,0.5))\n",
    "    \n",
    "    myDf = ciDf.loc[ [x for x in ciDf.index if '+' in x] ]\n",
    "    yRange = [n for n,x in enumerate(ciDf.index) if '+' in x]\n",
    "    xVals = myDf.acc.values\n",
    "    xErr = abs(myDf[['lowCI','upCI']].values.T - myDf.acc.values)\n",
    "    ax.errorbar(xVals,yRange,xerr=xErr,marker='o',linewidth=0,elinewidth=6,color=(1,0.5,0.5))\n",
    "\n",
    "    ax.set_yticks( range(ciDf.shape[0]) )\n",
    "    ax.set_yticklabels( ciDf.index )\n",
    "    ax.axvline(pGuess,linewidth=1,linestyle='dashed',c='k')\n",
    "\n",
    "    ax.set_xlabel('accuracy')\n",
    "\n",
    "    return ax"
   ]
  },
  {
   "cell_type": "code",
   "execution_count": 54,
   "metadata": {
    "collapsed": true
   },
   "outputs": [],
   "source": [
    "sns.set_style('ticks')"
   ]
  },
  {
   "cell_type": "code",
   "execution_count": 55,
   "metadata": {},
   "outputs": [
    {
     "data": {
      "image/png": "[encoded data removed]",
      "text/plain": [
       "<matplotlib.figure.Figure at 0x7f1f01451b10>"
      ]
     },
     "metadata": {},
     "output_type": "display_data"
    }
   ],
   "source": [
    "fig,(ax1,ax2) = plt.subplots(2,1,figsize=(6,6))\n",
    "\n",
    "ax1 = makePlot(bigConcAccDf,pGuessConc,ax1)\n",
    "ax1.set_title('without inconclusive cases',y=1.1)\n",
    "ax1.set_xlim(0.6,1.05)\n",
    "ax1.set_ylim(-0.5,3.5)\n",
    "\n",
    "ax2 = makePlot(bigAllAccDf,pGuess,ax2)\n",
    "ax2.set_title('with inconclusive cases',y=1.1)\n",
    "ax2.set_xlim(0.6,1.05)\n",
    "ax2.set_ylim(-0.5,3.5)\n",
    "\n",
    "sns.despine(left=True,offset=10,trim=True)\n",
    "plt.tight_layout()\n",
    "fig.savefig('../reports/figures/15-comparison-with-li-tool.png',dpi=300,bbox_inches='tight')\n",
    "plt.show()"
   ]
  },
  {
   "cell_type": "markdown",
   "metadata": {},
   "source": [
    "## make Wada Predictions"
   ]
  },
  {
   "cell_type": "markdown",
   "metadata": {},
   "source": [
    "### get wada"
   ]
  },
  {
   "cell_type": "code",
   "execution_count": 63,
   "metadata": {
    "collapsed": true
   },
   "outputs": [],
   "source": [
    "wadaDataDf = pd.read_csv('../data/processed/csv/wada_clean.csv',index_col=[0],header=0)\n",
    "wadaDataDf = wadaDataDf.loc[:,['wada']]\n",
    "wadaDataDf.loc[:,'name'] = wadaDataDf.index"
   ]
  },
  {
   "cell_type": "code",
   "execution_count": null,
   "metadata": {
    "collapsed": true
   },
   "outputs": [],
   "source": [
    "wadaDataDf.tail()"
   ]
  },
  {
   "cell_type": "code",
   "execution_count": 65,
   "metadata": {},
   "outputs": [
    {
     "data": {
      "text/plain": [
       "(62, 2)"
      ]
     },
     "execution_count": 65,
     "metadata": {},
     "output_type": "execute_result"
    }
   ],
   "source": [
    "wadaDataDf.shape"
   ]
  },
  {
   "cell_type": "markdown",
   "metadata": {},
   "source": [
    "#### make sure no wada patients were in the train set  \n",
    "\n",
    "Here, we do not want to get any output"
   ]
  },
  {
   "cell_type": "code",
   "execution_count": 66,
   "metadata": {
    "collapsed": true
   },
   "outputs": [],
   "source": [
    "for n in [x[1] for x in my_nest]:\n",
    "    for j in wadaDataDf.index:\n",
    "        if j in n:\n",
    "            print n,j"
   ]
  },
  {
   "cell_type": "markdown",
   "metadata": {},
   "source": [
    "#### make sure all wada patients are in the test set\n",
    "\n",
    "Here, we do not want to get any output"
   ]
  },
  {
   "cell_type": "code",
   "execution_count": 67,
   "metadata": {
    "collapsed": true
   },
   "outputs": [],
   "source": [
    "for j in wadaDataDf.index:\n",
    "    in_test = False\n",
    "    for n in [x[1] for x in my_test]:\n",
    "        if j in n:\n",
    "            in_test = True\n",
    "    if not in_test:\n",
    "        print j"
   ]
  },
  {
   "cell_type": "markdown",
   "metadata": {},
   "source": [
    "### get all the information into one table"
   ]
  },
  {
   "cell_type": "code",
   "execution_count": 68,
   "metadata": {
    "collapsed": true
   },
   "outputs": [],
   "source": [
    "predsDf['name'] = [x.split('_')[0] for x in predsDf.index.get_level_values(1)]\n",
    "predsDf['ixName'] = [x for x in predsDf.index.get_level_values(1)]\n",
    "predsDf['clin'] = [x for x in predsDf.index.get_level_values(0)]\n",
    "predsDf.index = pd.MultiIndex.from_arrays([predsDf.clin,predsDf.ixName])"
   ]
  },
  {
   "cell_type": "code",
   "execution_count": 69,
   "metadata": {
    "collapsed": true
   },
   "outputs": [],
   "source": [
    "wadaPredsDf = pd.merge(predsDf,wadaDataDf,left_on='name',right_on='name')\n",
    "wadaPredsDf.index = pd.MultiIndex.from_arrays([wadaPredsDf['wada'],wadaPredsDf['name']])\n",
    "wadaPredsDf.sort_index(inplace=True)"
   ]
  },
  {
   "cell_type": "code",
   "execution_count": null,
   "metadata": {
    "collapsed": true,
    "scrolled": true
   },
   "outputs": [],
   "source": [
    "wadaPredsDf.tail()"
   ]
  },
  {
   "cell_type": "markdown",
   "metadata": {},
   "source": [
    "### distribution of values"
   ]
  },
  {
   "cell_type": "code",
   "execution_count": 71,
   "metadata": {},
   "outputs": [
    {
     "data": {
      "text/plain": [
       "clin\n",
       "bilateral       13\n",
       "inconclusive    21\n",
       "left            35\n",
       "right           11\n",
       "Name: ixName, dtype: int64"
      ]
     },
     "execution_count": 71,
     "metadata": {},
     "output_type": "execute_result"
    }
   ],
   "source": [
    "wadaPredsDf.groupby('clin').count()['ixName']"
   ]
  },
  {
   "cell_type": "code",
   "execution_count": 72,
   "metadata": {},
   "outputs": [
    {
     "data": {
      "text/plain": [
       "80"
      ]
     },
     "execution_count": 72,
     "metadata": {},
     "output_type": "execute_result"
    }
   ],
   "source": [
    "wadaPredsDf.groupby('clin').count()['ixName'].sum()"
   ]
  },
  {
   "cell_type": "code",
   "execution_count": 73,
   "metadata": {},
   "outputs": [
    {
     "data": {
      "text/plain": [
       "(80, 8)"
      ]
     },
     "execution_count": 73,
     "metadata": {},
     "output_type": "execute_result"
    }
   ],
   "source": [
    "wadaPredsDf.shape"
   ]
  },
  {
   "cell_type": "code",
   "execution_count": 74,
   "metadata": {},
   "outputs": [
    {
     "data": {
      "text/plain": [
       "62"
      ]
     },
     "execution_count": 74,
     "metadata": {},
     "output_type": "execute_result"
    }
   ],
   "source": [
    "wadaUniquePats = np.unique(wadaPredsDf.index.get_level_values(1)).shape[-1]\n",
    "wadaUniquePats"
   ]
  },
  {
   "cell_type": "markdown",
   "metadata": {
    "variables": {
     " wadaPredsDf.shape[0] ": {},
     " wadaUniquePats ": {}
    }
   },
   "source": [
    "For validation, {{ wadaPredsDf.shape[0] }} fMRI data sets of {{ wadaUniquePats }} patients who also underwent Wada testing were used. "
   ]
  },
  {
   "cell_type": "markdown",
   "metadata": {},
   "source": [
    "#### counts of the 3 groups"
   ]
  },
  {
   "cell_type": "code",
   "execution_count": 75,
   "metadata": {},
   "outputs": [
    {
     "data": {
      "text/html": [
       "<div>\n",
       "<style>\n",
       "    .dataframe thead tr:only-child th {\n",
       "        text-align: right;\n",
       "    }\n",
       "\n",
       "    .dataframe thead th {\n",
       "        text-align: left;\n",
       "    }\n",
       "\n",
       "    .dataframe tbody tr th {\n",
       "        vertical-align: top;\n",
       "    }\n",
       "</style>\n",
       "<table border=\"1\" class=\"dataframe\">\n",
       "  <thead>\n",
       "    <tr style=\"text-align: right;\">\n",
       "      <th></th>\n",
       "      <th>ixName</th>\n",
       "    </tr>\n",
       "    <tr>\n",
       "      <th>wada</th>\n",
       "      <th></th>\n",
       "    </tr>\n",
       "  </thead>\n",
       "  <tbody>\n",
       "    <tr>\n",
       "      <th>bilateral</th>\n",
       "      <td>10</td>\n",
       "    </tr>\n",
       "    <tr>\n",
       "      <th>left</th>\n",
       "      <td>39</td>\n",
       "    </tr>\n",
       "    <tr>\n",
       "      <th>right</th>\n",
       "      <td>13</td>\n",
       "    </tr>\n",
       "  </tbody>\n",
       "</table>\n",
       "</div>"
      ],
      "text/plain": [
       "           ixName\n",
       "wada             \n",
       "bilateral      10\n",
       "left           39\n",
       "right          13"
      ]
     },
     "execution_count": 75,
     "metadata": {},
     "output_type": "execute_result"
    }
   ],
   "source": [
    "wadaCountDf = pd.DataFrame( wadaPredsDf.groupby(level=1).first().groupby('wada').count()['ixName'] )\n",
    "wadaCountDf"
   ]
  },
  {
   "cell_type": "markdown",
   "metadata": {},
   "source": [
    "#### percentages of the 3 groups"
   ]
  },
  {
   "cell_type": "code",
   "execution_count": 76,
   "metadata": {},
   "outputs": [
    {
     "data": {
      "text/html": [
       "<div>\n",
       "<style>\n",
       "    .dataframe thead tr:only-child th {\n",
       "        text-align: right;\n",
       "    }\n",
       "\n",
       "    .dataframe thead th {\n",
       "        text-align: left;\n",
       "    }\n",
       "\n",
       "    .dataframe tbody tr th {\n",
       "        vertical-align: top;\n",
       "    }\n",
       "</style>\n",
       "<table border=\"1\" class=\"dataframe\">\n",
       "  <thead>\n",
       "    <tr style=\"text-align: right;\">\n",
       "      <th></th>\n",
       "      <th>ixName</th>\n",
       "    </tr>\n",
       "    <tr>\n",
       "      <th>wada</th>\n",
       "      <th></th>\n",
       "    </tr>\n",
       "  </thead>\n",
       "  <tbody>\n",
       "    <tr>\n",
       "      <th>bilateral</th>\n",
       "      <td>16.0</td>\n",
       "    </tr>\n",
       "    <tr>\n",
       "      <th>left</th>\n",
       "      <td>63.0</td>\n",
       "    </tr>\n",
       "    <tr>\n",
       "      <th>right</th>\n",
       "      <td>21.0</td>\n",
       "    </tr>\n",
       "  </tbody>\n",
       "</table>\n",
       "</div>"
      ],
      "text/plain": [
       "           ixName\n",
       "wada             \n",
       "bilateral    16.0\n",
       "left         63.0\n",
       "right        21.0"
      ]
     },
     "execution_count": 76,
     "metadata": {},
     "output_type": "execute_result"
    }
   ],
   "source": [
    "(wadaCountDf/wadaCountDf.sum()*100).round(0)"
   ]
  },
  {
   "cell_type": "markdown",
   "metadata": {},
   "source": [
    "### get all inconclusive cases"
   ]
  },
  {
   "cell_type": "code",
   "execution_count": 77,
   "metadata": {},
   "outputs": [
    {
     "data": {
      "text/plain": [
       "(21, 4)"
      ]
     },
     "execution_count": 77,
     "metadata": {},
     "output_type": "execute_result"
    }
   ],
   "source": [
    "wadaIncPreds = wadaPredsDf[wadaPredsDf['clin']=='inconclusive'].copy()\n",
    "wadaIncPreds.drop(['name','ixName','clin','wada'],axis=1,inplace=True)\n",
    "wadaIncPreds.dropna(inplace=True)\n",
    "wadaIncPreds.shape"
   ]
  },
  {
   "cell_type": "code",
   "execution_count": null,
   "metadata": {
    "collapsed": true
   },
   "outputs": [],
   "source": [
    "wadaIncPreds.tail()"
   ]
  },
  {
   "cell_type": "markdown",
   "metadata": {},
   "source": [
    "#### stats for inconclusive"
   ]
  },
  {
   "cell_type": "code",
   "execution_count": 79,
   "metadata": {},
   "outputs": [
    {
     "data": {
      "text/html": [
       "<div>\n",
       "<style>\n",
       "    .dataframe thead tr:only-child th {\n",
       "        text-align: right;\n",
       "    }\n",
       "\n",
       "    .dataframe thead th {\n",
       "        text-align: left;\n",
       "    }\n",
       "\n",
       "    .dataframe tbody tr th {\n",
       "        vertical-align: top;\n",
       "    }\n",
       "</style>\n",
       "<table border=\"1\" class=\"dataframe\">\n",
       "  <thead>\n",
       "    <tr style=\"text-align: right;\">\n",
       "      <th></th>\n",
       "      <th>acc</th>\n",
       "      <th>nInc</th>\n",
       "      <th>n</th>\n",
       "    </tr>\n",
       "  </thead>\n",
       "  <tbody>\n",
       "    <tr>\n",
       "      <th>2d</th>\n",
       "      <td>1.000000</td>\n",
       "      <td>20.0</td>\n",
       "      <td>1.0</td>\n",
       "    </tr>\n",
       "    <tr>\n",
       "      <th>fixed-count</th>\n",
       "      <td>0.571429</td>\n",
       "      <td>7.0</td>\n",
       "      <td>14.0</td>\n",
       "    </tr>\n",
       "    <tr>\n",
       "      <th>bootstrap</th>\n",
       "      <td>0.476190</td>\n",
       "      <td>NaN</td>\n",
       "      <td>21.0</td>\n",
       "    </tr>\n",
       "    <tr>\n",
       "      <th>adaptive</th>\n",
       "      <td>0.428571</td>\n",
       "      <td>NaN</td>\n",
       "      <td>21.0</td>\n",
       "    </tr>\n",
       "  </tbody>\n",
       "</table>\n",
       "</div>"
      ],
      "text/plain": [
       "                  acc  nInc     n\n",
       "2d           1.000000  20.0   1.0\n",
       "fixed-count  0.571429   7.0  14.0\n",
       "bootstrap    0.476190   NaN  21.0\n",
       "adaptive     0.428571   NaN  21.0"
      ]
     },
     "execution_count": 79,
     "metadata": {},
     "output_type": "execute_result"
    }
   ],
   "source": [
    "bigIncAccDf = makeBigAccDf(wadaIncPreds,myLabeler,myDrop=True)\n",
    "bigIncAccDf"
   ]
  },
  {
   "cell_type": "markdown",
   "metadata": {},
   "source": [
    "guessing rate"
   ]
  },
  {
   "cell_type": "code",
   "execution_count": 80,
   "metadata": {},
   "outputs": [
    {
     "data": {
      "text/plain": [
       "0.66666666666666663"
      ]
     },
     "execution_count": 80,
     "metadata": {},
     "output_type": "execute_result"
    }
   ],
   "source": [
    "wadaIncDf = wadaPredsDf[wadaPredsDf['clin']=='inconclusive']\n",
    "pWadaIncGuess = (wadaIncDf['wada']=='left').sum()/float(wadaIncDf.shape[0])\n",
    "pWadaIncGuess"
   ]
  },
  {
   "cell_type": "markdown",
   "metadata": {},
   "source": [
    "### same thing for conclusive cases"
   ]
  },
  {
   "cell_type": "code",
   "execution_count": 81,
   "metadata": {},
   "outputs": [
    {
     "name": "stdout",
     "output_type": "stream",
     "text": [
      "(59, 4)\n"
     ]
    },
    {
     "data": {
      "text/html": [
       "<div>\n",
       "<style>\n",
       "    .dataframe thead tr:only-child th {\n",
       "        text-align: right;\n",
       "    }\n",
       "\n",
       "    .dataframe thead th {\n",
       "        text-align: left;\n",
       "    }\n",
       "\n",
       "    .dataframe tbody tr th {\n",
       "        vertical-align: top;\n",
       "    }\n",
       "</style>\n",
       "<table border=\"1\" class=\"dataframe\">\n",
       "  <thead>\n",
       "    <tr style=\"text-align: right;\">\n",
       "      <th></th>\n",
       "      <th>acc</th>\n",
       "      <th>nInc</th>\n",
       "      <th>n</th>\n",
       "    </tr>\n",
       "  </thead>\n",
       "  <tbody>\n",
       "    <tr>\n",
       "      <th>2d</th>\n",
       "      <td>0.822222</td>\n",
       "      <td>14.0</td>\n",
       "      <td>45.0</td>\n",
       "    </tr>\n",
       "    <tr>\n",
       "      <th>bootstrap</th>\n",
       "      <td>0.810345</td>\n",
       "      <td>1.0</td>\n",
       "      <td>58.0</td>\n",
       "    </tr>\n",
       "    <tr>\n",
       "      <th>adaptive</th>\n",
       "      <td>0.810345</td>\n",
       "      <td>1.0</td>\n",
       "      <td>58.0</td>\n",
       "    </tr>\n",
       "    <tr>\n",
       "      <th>fixed-count</th>\n",
       "      <td>0.796610</td>\n",
       "      <td>NaN</td>\n",
       "      <td>59.0</td>\n",
       "    </tr>\n",
       "  </tbody>\n",
       "</table>\n",
       "</div>"
      ],
      "text/plain": [
       "                  acc  nInc     n\n",
       "2d           0.822222  14.0  45.0\n",
       "bootstrap    0.810345   1.0  58.0\n",
       "adaptive     0.810345   1.0  58.0\n",
       "fixed-count  0.796610   NaN  59.0"
      ]
     },
     "execution_count": 81,
     "metadata": {},
     "output_type": "execute_result"
    }
   ],
   "source": [
    "wadaConcPreds = wadaPredsDf[wadaPredsDf['clin']!='inconclusive'].copy()\n",
    "wadaConcPreds.drop(['name','ixName','clin','wada'],axis=1,inplace=True)\n",
    "wadaConcPreds.dropna(inplace=True)\n",
    "print wadaConcPreds.shape\n",
    "bigConcAccDf = makeBigAccDf(wadaConcPreds,myLabeler,myDrop=True)\n",
    "bigConcAccDf"
   ]
  },
  {
   "cell_type": "code",
   "execution_count": 82,
   "metadata": {},
   "outputs": [
    {
     "data": {
      "text/plain": [
       "0.61016949152542377"
      ]
     },
     "execution_count": 82,
     "metadata": {},
     "output_type": "execute_result"
    }
   ],
   "source": [
    "wadaConcDf = wadaPredsDf[wadaPredsDf['clin']!='inconclusive']\n",
    "pWadaConcGuess = (wadaConcDf['wada']=='left').sum()/float(wadaConcDf.shape[0])\n",
    "pWadaConcGuess"
   ]
  },
  {
   "cell_type": "markdown",
   "metadata": {},
   "source": [
    "### plot"
   ]
  },
  {
   "cell_type": "code",
   "execution_count": 83,
   "metadata": {},
   "outputs": [
    {
     "data": {
      "image/png": "[encoded data removed]",
      "text/plain": [
       "<matplotlib.figure.Figure at 0x7f1efdaf9cd0>"
      ]
     },
     "metadata": {},
     "output_type": "display_data"
    }
   ],
   "source": [
    "minX,maxX = .0,1.05\n",
    "\n",
    "fig,(ax1,ax2) = plt.subplots(2,1,figsize=(6,7))\n",
    "ax1 = makePlot(bigIncAccDf-(10**-10),pWadaIncGuess,ax1)\n",
    "ax1.set_title('Wada prediction: only inconclusive cases',y=1.1)\n",
    "ax1.set_ylim(-0.5,3.5)\n",
    "ax1.set_xlim(minX,maxX)\n",
    "\n",
    "ax2 = makePlot(bigConcAccDf-(10**-10),pWadaConcGuess,ax2)\n",
    "ax2.set_xlim(minX,maxX)\n",
    "ax2.set_ylim(-0.5,3.5)\n",
    "ax2.set_title('Wada prediction: only conclusive cases',y=1.1)\n",
    "\n",
    "sns.despine(left=True,offset=10,trim=True)\n",
    "plt.tight_layout()\n",
    "\n",
    "plt.show()"
   ]
  },
  {
   "cell_type": "markdown",
   "metadata": {},
   "source": [
    "### Whole sample"
   ]
  },
  {
   "cell_type": "code",
   "execution_count": 84,
   "metadata": {},
   "outputs": [
    {
     "data": {
      "text/plain": [
       "0.625"
      ]
     },
     "execution_count": 84,
     "metadata": {},
     "output_type": "execute_result"
    }
   ],
   "source": [
    "pWadaGuess = (wadaPredsDf['wada']=='left').sum()/float(wadaPredsDf.shape[0])\n",
    "pWadaGuess"
   ]
  },
  {
   "cell_type": "markdown",
   "metadata": {},
   "source": [
    "#### combine both approaches in the unflitered sample (conc+inconc)"
   ]
  },
  {
   "cell_type": "code",
   "execution_count": 85,
   "metadata": {},
   "outputs": [
    {
     "data": {
      "text/html": [
       "<div>\n",
       "<style>\n",
       "    .dataframe thead tr:only-child th {\n",
       "        text-align: right;\n",
       "    }\n",
       "\n",
       "    .dataframe thead th {\n",
       "        text-align: left;\n",
       "    }\n",
       "\n",
       "    .dataframe tbody tr th {\n",
       "        vertical-align: top;\n",
       "    }\n",
       "</style>\n",
       "<table border=\"1\" class=\"dataframe\">\n",
       "  <thead>\n",
       "    <tr style=\"text-align: right;\">\n",
       "      <th></th>\n",
       "      <th>acc</th>\n",
       "      <th>nInc</th>\n",
       "      <th>n</th>\n",
       "    </tr>\n",
       "  </thead>\n",
       "  <tbody>\n",
       "    <tr>\n",
       "      <th>2d</th>\n",
       "      <td>0.826087</td>\n",
       "      <td>34.0</td>\n",
       "      <td>46.0</td>\n",
       "    </tr>\n",
       "    <tr>\n",
       "      <th>fixed-count</th>\n",
       "      <td>0.753425</td>\n",
       "      <td>7.0</td>\n",
       "      <td>73.0</td>\n",
       "    </tr>\n",
       "    <tr>\n",
       "      <th>bootstrap</th>\n",
       "      <td>0.721519</td>\n",
       "      <td>1.0</td>\n",
       "      <td>79.0</td>\n",
       "    </tr>\n",
       "    <tr>\n",
       "      <th>adaptive</th>\n",
       "      <td>0.708861</td>\n",
       "      <td>1.0</td>\n",
       "      <td>79.0</td>\n",
       "    </tr>\n",
       "  </tbody>\n",
       "</table>\n",
       "</div>"
      ],
      "text/plain": [
       "                  acc  nInc     n\n",
       "2d           0.826087  34.0  46.0\n",
       "fixed-count  0.753425   7.0  73.0\n",
       "bootstrap    0.721519   1.0  79.0\n",
       "adaptive     0.708861   1.0  79.0"
      ]
     },
     "execution_count": 85,
     "metadata": {},
     "output_type": "execute_result"
    }
   ],
   "source": [
    "wadaAllPreds = wadaPredsDf.copy()\n",
    "wadaAllPreds.drop(['name','ixName','clin','wada'],axis=1,inplace=True)\n",
    "wadaAllPreds.shape\n",
    "bigAllAccDf = makeBigAccDf(wadaAllPreds,myLabeler,myDrop=True)\n",
    "bigAllAccDf"
   ]
  },
  {
   "cell_type": "code",
   "execution_count": 86,
   "metadata": {},
   "outputs": [
    {
     "data": {
      "text/html": [
       "<div>\n",
       "<style>\n",
       "    .dataframe thead tr:only-child th {\n",
       "        text-align: right;\n",
       "    }\n",
       "\n",
       "    .dataframe thead th {\n",
       "        text-align: left;\n",
       "    }\n",
       "\n",
       "    .dataframe tbody tr th {\n",
       "        vertical-align: top;\n",
       "    }\n",
       "</style>\n",
       "<table border=\"1\" class=\"dataframe\">\n",
       "  <thead>\n",
       "    <tr style=\"text-align: right;\">\n",
       "      <th></th>\n",
       "      <th>acc</th>\n",
       "      <th>nInc</th>\n",
       "      <th>n</th>\n",
       "    </tr>\n",
       "  </thead>\n",
       "  <tbody>\n",
       "    <tr>\n",
       "      <th>2d+fixed-count</th>\n",
       "      <td>0.847826</td>\n",
       "      <td>NaN</td>\n",
       "      <td>46.0</td>\n",
       "    </tr>\n",
       "    <tr>\n",
       "      <th>2d+bootstrap</th>\n",
       "      <td>0.847826</td>\n",
       "      <td>NaN</td>\n",
       "      <td>46.0</td>\n",
       "    </tr>\n",
       "    <tr>\n",
       "      <th>2d+adaptive</th>\n",
       "      <td>0.847826</td>\n",
       "      <td>NaN</td>\n",
       "      <td>46.0</td>\n",
       "    </tr>\n",
       "  </tbody>\n",
       "</table>\n",
       "</div>"
      ],
      "text/plain": [
       "                     acc  nInc     n\n",
       "2d+fixed-count  0.847826   NaN  46.0\n",
       "2d+bootstrap    0.847826   NaN  46.0\n",
       "2d+adaptive     0.847826   NaN  46.0"
      ]
     },
     "execution_count": 86,
     "metadata": {},
     "output_type": "execute_result"
    }
   ],
   "source": [
    "wadaSelectPreds = wadaPredsDf.copy()\n",
    "wadaSelectPreds = wadaSelectPreds[wadaSelectPreds['2d']!='inconclusive']\n",
    "wadaSelectPreds.drop(['name','ixName','clin','wada'],axis=1,inplace=True)\n",
    "wadaSelectPreds.shape\n",
    "bigSelectAccDf = makeBigAccDf(wadaSelectPreds,myLabeler,myDrop=True)\n",
    "\n",
    "bigSelectAccDf.index = ['2d+%s'%x for x in bigSelectAccDf.index ]\n",
    "bigSelectAccDf.drop('2d+2d',axis=0,inplace=True)\n",
    "\n",
    "bigSelectAccDf"
   ]
  },
  {
   "cell_type": "code",
   "execution_count": 87,
   "metadata": {
    "collapsed": true
   },
   "outputs": [],
   "source": [
    "bigBigAccDf = pd.concat([bigAllAccDf,bigSelectAccDf]).sort_values(by='acc')"
   ]
  },
  {
   "cell_type": "code",
   "execution_count": 88,
   "metadata": {},
   "outputs": [
    {
     "data": {
      "text/html": [
       "<div>\n",
       "<style>\n",
       "    .dataframe thead tr:only-child th {\n",
       "        text-align: right;\n",
       "    }\n",
       "\n",
       "    .dataframe thead th {\n",
       "        text-align: left;\n",
       "    }\n",
       "\n",
       "    .dataframe tbody tr th {\n",
       "        vertical-align: top;\n",
       "    }\n",
       "</style>\n",
       "<table border=\"1\" class=\"dataframe\">\n",
       "  <thead>\n",
       "    <tr style=\"text-align: right;\">\n",
       "      <th></th>\n",
       "      <th>acc</th>\n",
       "      <th>nInc</th>\n",
       "      <th>n</th>\n",
       "    </tr>\n",
       "  </thead>\n",
       "  <tbody>\n",
       "    <tr>\n",
       "      <th>adaptive</th>\n",
       "      <td>0.708861</td>\n",
       "      <td>1.0</td>\n",
       "      <td>79.0</td>\n",
       "    </tr>\n",
       "    <tr>\n",
       "      <th>bootstrap</th>\n",
       "      <td>0.721519</td>\n",
       "      <td>1.0</td>\n",
       "      <td>79.0</td>\n",
       "    </tr>\n",
       "    <tr>\n",
       "      <th>fixed-count</th>\n",
       "      <td>0.753425</td>\n",
       "      <td>7.0</td>\n",
       "      <td>73.0</td>\n",
       "    </tr>\n",
       "    <tr>\n",
       "      <th>2d</th>\n",
       "      <td>0.826087</td>\n",
       "      <td>34.0</td>\n",
       "      <td>46.0</td>\n",
       "    </tr>\n",
       "    <tr>\n",
       "      <th>2d+fixed-count</th>\n",
       "      <td>0.847826</td>\n",
       "      <td>NaN</td>\n",
       "      <td>46.0</td>\n",
       "    </tr>\n",
       "    <tr>\n",
       "      <th>2d+bootstrap</th>\n",
       "      <td>0.847826</td>\n",
       "      <td>NaN</td>\n",
       "      <td>46.0</td>\n",
       "    </tr>\n",
       "    <tr>\n",
       "      <th>2d+adaptive</th>\n",
       "      <td>0.847826</td>\n",
       "      <td>NaN</td>\n",
       "      <td>46.0</td>\n",
       "    </tr>\n",
       "  </tbody>\n",
       "</table>\n",
       "</div>"
      ],
      "text/plain": [
       "                     acc  nInc     n\n",
       "adaptive        0.708861   1.0  79.0\n",
       "bootstrap       0.721519   1.0  79.0\n",
       "fixed-count     0.753425   7.0  73.0\n",
       "2d              0.826087  34.0  46.0\n",
       "2d+fixed-count  0.847826   NaN  46.0\n",
       "2d+bootstrap    0.847826   NaN  46.0\n",
       "2d+adaptive     0.847826   NaN  46.0"
      ]
     },
     "execution_count": 88,
     "metadata": {},
     "output_type": "execute_result"
    }
   ],
   "source": [
    "bigBigAccDf"
   ]
  },
  {
   "cell_type": "markdown",
   "metadata": {},
   "source": [
    "### plot"
   ]
  },
  {
   "cell_type": "code",
   "execution_count": 93,
   "metadata": {},
   "outputs": [
    {
     "data": {
      "image/png": "[encoded data removed]",
      "text/plain": [
       "<matplotlib.figure.Figure at 0x7f1efd7c0090>"
      ]
     },
     "metadata": {},
     "output_type": "display_data"
    }
   ],
   "source": [
    "minX,maxX = .0,1.05\n",
    "\n",
    "fig, (ax1, ax2, ax3) = plt.subplots(3, 1, figsize=(6, 10))\n",
    "\n",
    "ax1 = plt.subplot2grid((17, 1), (0, 0), rowspan=5)\n",
    "ax1 = makePlot(bigConcAccDf-(10**-10),pWadaConcGuess,ax1)\n",
    "ax1.set_xlim(minX,maxX)\n",
    "ax1.set_ylim(-0.5,3.5)\n",
    "ax1.set_title('without inconclusive cases',y=1.1)\n",
    "\n",
    "ax2 = plt.subplot2grid((17, 1), (5, 0), rowspan=7)\n",
    "ax2 = makePlot(bigBigAccDf-(10**-10),pWadaGuess,ax2)\n",
    "ax2.set_xlim(minX,maxX)\n",
    "ax2.set_ylim(-0.5,6.5)\n",
    "ax2.set_xlabel('')\n",
    "ax2.set_title('with inconclusive cases',y=1.1)\n",
    "\n",
    "ax3 = plt.subplot2grid((17, 1), (12, 0), rowspan=5)\n",
    "ax3 = makePlot(bigIncAccDf-(10**-10),pWadaIncGuess,ax3)\n",
    "ax3.set_title('inconclusive cases only',y=1.1)\n",
    "ax3.set_ylim(-0.5,3.5)\n",
    "ax3.set_xlabel('')\n",
    "ax3.set_xlim(minX,maxX)\n",
    "\n",
    "sns.despine(left=True,offset=10,trim=True)\n",
    "plt.tight_layout()\n",
    "\n",
    "#plt.suptitle('Wada prediction',y=1.05,x=0.64)\n",
    "\n",
    "fig.savefig('../reports/figures/15-wada.png',dpi=300,bbox_inches='tight')\n",
    "plt.show()"
   ]
  },
  {
   "cell_type": "markdown",
   "metadata": {},
   "source": [
    "## show mistakes  \n",
    "\n",
    "Plot the instances where left and right were confused"
   ]
  },
  {
   "cell_type": "code",
   "execution_count": 94,
   "metadata": {},
   "outputs": [
    {
     "name": "stdout",
     "output_type": "stream",
     "text": [
      "left right\n",
      "right left\n"
     ]
    }
   ],
   "source": [
    "myBigMistakes = pd.DataFrame()\n",
    "sideList = np.array(['left','right'])\n",
    "for side in sideList:\n",
    "    otherSide = sideList[sideList!=side][-1]\n",
    "    print side,otherSide\n",
    "    thisBigMistakes = wadaPredsDf.loc[side][wadaPredsDf.loc[side]['2d']==otherSide]\n",
    "    thisBigMistakes.index = [[side]*thisBigMistakes.shape[0],thisBigMistakes.index]\n",
    "    myBigMistakes = pd.concat([myBigMistakes,thisBigMistakes])"
   ]
  },
  {
   "cell_type": "code",
   "execution_count": null,
   "metadata": {
    "collapsed": true
   },
   "outputs": [],
   "source": [
    "myBigMistakes"
   ]
  },
  {
   "cell_type": "code",
   "execution_count": 96,
   "metadata": {
    "collapsed": true
   },
   "outputs": [],
   "source": [
    "from nilearn import plotting"
   ]
  },
  {
   "cell_type": "code",
   "execution_count": null,
   "metadata": {
    "collapsed": true,
    "scrolled": false
   },
   "outputs": [],
   "source": [
    "for i in range(myBigMistakes.shape[0]):\n",
    "    print '\\n***************************'\n",
    "    thisDf = myBigMistakes.iloc[i,:]\n",
    "    thisFile = '../data/raw/nii/tMap_%s.nii'%thisDf['ixName']\n",
    "    plotting.plot_stat_map(thisFile,threshold=3,title=thisDf['name'],cut_coords=(-50,15,15))\n",
    "    plt.show()\n",
    "    print myBigMistakes"
   ]
  }
 ],
 "metadata": {
  "kernelspec": {
   "display_name": "Python 2",
   "language": "python",
   "name": "python2"
  },
  "language_info": {
   "codemirror_mode": {
    "name": "ipython",
    "version": 2
   },
   "file_extension": ".py",
   "mimetype": "text/x-python",
   "name": "python",
   "nbconvert_exporter": "python",
   "pygments_lexer": "ipython2",
   "version": "2.7.14"
  },
  "varInspector": {
   "cols": {
    "lenName": 16,
    "lenType": 16,
    "lenVar": 40
   },
   "kernels_config": {
    "python": {
     "delete_cmd_postfix": "",
     "delete_cmd_prefix": "del ",
     "library": "var_list.py",
     "varRefreshCmd": "print(var_dic_list())"
    },
    "r": {
     "delete_cmd_postfix": ") ",
     "delete_cmd_prefix": "rm(",
     "library": "var_list.r",
     "varRefreshCmd": "cat(var_dic_list()) "
    }
   },
   "types_to_exclude": [
    "module",
    "function",
    "builtin_function_or_method",
    "instance",
    "_Feature"
   ],
   "window_display": false
  }
 },
 "nbformat": 4,
 "nbformat_minor": 2
}
